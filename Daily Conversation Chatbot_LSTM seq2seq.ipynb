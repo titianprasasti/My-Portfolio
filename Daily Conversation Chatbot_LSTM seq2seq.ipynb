{
  "cells": [
    {
      "cell_type": "markdown",
      "metadata": {},
      "source": [
        "# Introduction\n",
        "\n",
        "**Nama      : Titian Fitriana Prasasti**\n",
        "\n",
        "***Batch    : 001 HCK***\n",
        "\n",
        "**Dataset   :** `Facebook AI - PersonaChat` dari kaggle.com\n",
        "\n",
        "### Objectives\n",
        "\n",
        "- Membuat Chat-Bot dengan model NLP menggunakan algoritma RNN dengan skema Sequence to Sequence.\n",
        "- Dalam Skema Seq2Seq penulis akan membuat 2 model yaitu model encoder sebagai input berisi pernyataan dari user kemudian model decoder yang akan mengeluarkan output berupa jawaban oleh bot.\n",
        "- Melakukan evaluasi, improvement, dan analisis terhadap model\n",
        "- Melakukan deployment sederhana via Streamlit"
      ]
    },
    {
      "cell_type": "code",
      "execution_count": 1,
      "metadata": {
        "id": "DfcOWscxz0gc"
      },
      "outputs": [],
      "source": [
        "import pandas as pd\n",
        "import matplotlib.pyplot as plt\n",
        "import numpy as np\n",
        "import tensorflow as tf\n",
        "import re\n",
        "import pickle\n",
        "\n",
        "from tensorflow.keras.preprocessing.text import Tokenizer\n",
        "from tensorflow.keras.preprocessing.sequence import pad_sequences\n",
        "from tensorflow.keras.layers import Embedding\n",
        "from tensorflow.keras.utils import to_categorical\n",
        "from sklearn.preprocessing import OneHotEncoder\n",
        "\n",
        "\n",
        "from tensorflow.keras.layers import Dense, GlobalAveragePooling1D, Input, LSTM, GRU\n",
        "from tensorflow.keras.models import Model, Sequential\n",
        "from keras.utils.vis_utils import plot_model\n",
        "from statistics import mean, median"
      ]
    },
    {
      "cell_type": "code",
      "execution_count": 47,
      "metadata": {
        "colab": {
          "base_uri": "https://localhost:8080/",
          "height": 206
        },
        "id": "u3DNBOVfz9qK",
        "outputId": "09d84243-78d0-43cb-86b7-0aa2d1d3a92b"
      },
      "outputs": [
        {
          "data": {
            "text/html": [
              "<div>\n",
              "<style scoped>\n",
              "    .dataframe tbody tr th:only-of-type {\n",
              "        vertical-align: middle;\n",
              "    }\n",
              "\n",
              "    .dataframe tbody tr th {\n",
              "        vertical-align: top;\n",
              "    }\n",
              "\n",
              "    .dataframe thead th {\n",
              "        text-align: right;\n",
              "    }\n",
              "</style>\n",
              "<table border=\"1\" class=\"dataframe\">\n",
              "  <thead>\n",
              "    <tr style=\"text-align: right;\">\n",
              "      <th></th>\n",
              "      <th>Unnamed: 0</th>\n",
              "      <th>Persona</th>\n",
              "      <th>chat</th>\n",
              "    </tr>\n",
              "  </thead>\n",
              "  <tbody>\n",
              "    <tr>\n",
              "      <th>0</th>\n",
              "      <td>0</td>\n",
              "      <td>i like to remodel homes. i like to go hunting...</td>\n",
              "      <td>hi , how are you doing ? i am getting ready to...</td>\n",
              "    </tr>\n",
              "    <tr>\n",
              "      <th>1</th>\n",
              "      <td>1</td>\n",
              "      <td>my mom is my best friend. i have four sisters...</td>\n",
              "      <td>hi , how are you doing today ?\\ni am spending ...</td>\n",
              "    </tr>\n",
              "    <tr>\n",
              "      <th>2</th>\n",
              "      <td>2</td>\n",
              "      <td>i had a gig at local theater last night. i wo...</td>\n",
              "      <td>we all live in a yellow submarine , a yellow s...</td>\n",
              "    </tr>\n",
              "    <tr>\n",
              "      <th>3</th>\n",
              "      <td>3</td>\n",
              "      <td>i am very athletic. i wear contacts. i have b...</td>\n",
              "      <td>hi ! i work as a gourmet cook .\\ni do not like...</td>\n",
              "    </tr>\n",
              "    <tr>\n",
              "      <th>4</th>\n",
              "      <td>4</td>\n",
              "      <td>i am primarily a meat eater. i am a guitar pl...</td>\n",
              "      <td>how are you doing today\\nwhat do you do for ca...</td>\n",
              "    </tr>\n",
              "    <tr>\n",
              "      <th>...</th>\n",
              "      <td>...</td>\n",
              "      <td>...</td>\n",
              "      <td>...</td>\n",
              "    </tr>\n",
              "    <tr>\n",
              "      <th>8934</th>\n",
              "      <td>8934</td>\n",
              "      <td>my favorite food is fried chicken. i have a t...</td>\n",
              "      <td>good evening , i have been having a terrible t...</td>\n",
              "    </tr>\n",
              "    <tr>\n",
              "      <th>8935</th>\n",
              "      <td>8935</td>\n",
              "      <td>i love fast food. i am a stay at home mom. i ...</td>\n",
              "      <td>hi there how is work\\ni do not work these days...</td>\n",
              "    </tr>\n",
              "    <tr>\n",
              "      <th>8936</th>\n",
              "      <td>8936</td>\n",
              "      <td>my family and i go camping every month. i am ...</td>\n",
              "      <td>hello , i have a daughter who is in kindergart...</td>\n",
              "    </tr>\n",
              "    <tr>\n",
              "      <th>8937</th>\n",
              "      <td>8937</td>\n",
              "      <td>i have red hair. i work at a retail store. i ...</td>\n",
              "      <td>hi . how are you doing ?\\ni am doing well . ju...</td>\n",
              "    </tr>\n",
              "    <tr>\n",
              "      <th>8938</th>\n",
              "      <td>8938</td>\n",
              "      <td>i m applying for publishing jobs. the only au...</td>\n",
              "      <td>hello ! how are you today ?\\nhello i am good ....</td>\n",
              "    </tr>\n",
              "  </tbody>\n",
              "</table>\n",
              "<p>8939 rows × 3 columns</p>\n",
              "</div>"
            ],
            "text/plain": [
              "      Unnamed: 0                                            Persona  \\\n",
              "0              0   i like to remodel homes. i like to go hunting...   \n",
              "1              1   my mom is my best friend. i have four sisters...   \n",
              "2              2   i had a gig at local theater last night. i wo...   \n",
              "3              3   i am very athletic. i wear contacts. i have b...   \n",
              "4              4   i am primarily a meat eater. i am a guitar pl...   \n",
              "...          ...                                                ...   \n",
              "8934        8934   my favorite food is fried chicken. i have a t...   \n",
              "8935        8935   i love fast food. i am a stay at home mom. i ...   \n",
              "8936        8936   my family and i go camping every month. i am ...   \n",
              "8937        8937   i have red hair. i work at a retail store. i ...   \n",
              "8938        8938   i m applying for publishing jobs. the only au...   \n",
              "\n",
              "                                                   chat  \n",
              "0     hi , how are you doing ? i am getting ready to...  \n",
              "1     hi , how are you doing today ?\\ni am spending ...  \n",
              "2     we all live in a yellow submarine , a yellow s...  \n",
              "3     hi ! i work as a gourmet cook .\\ni do not like...  \n",
              "4     how are you doing today\\nwhat do you do for ca...  \n",
              "...                                                 ...  \n",
              "8934  good evening , i have been having a terrible t...  \n",
              "8935  hi there how is work\\ni do not work these days...  \n",
              "8936  hello , i have a daughter who is in kindergart...  \n",
              "8937  hi . how are you doing ?\\ni am doing well . ju...  \n",
              "8938  hello ! how are you today ?\\nhello i am good ....  \n",
              "\n",
              "[8939 rows x 3 columns]"
            ]
          },
          "execution_count": 47,
          "metadata": {},
          "output_type": "execute_result"
        }
      ],
      "source": [
        "data = pd.read_csv(\"personality.csv\")\n",
        "data"
      ]
    },
    {
      "cell_type": "code",
      "execution_count": 48,
      "metadata": {},
      "outputs": [
        {
          "data": {
            "text/html": [
              "<div>\n",
              "<style scoped>\n",
              "    .dataframe tbody tr th:only-of-type {\n",
              "        vertical-align: middle;\n",
              "    }\n",
              "\n",
              "    .dataframe tbody tr th {\n",
              "        vertical-align: top;\n",
              "    }\n",
              "\n",
              "    .dataframe thead th {\n",
              "        text-align: right;\n",
              "    }\n",
              "</style>\n",
              "<table border=\"1\" class=\"dataframe\">\n",
              "  <thead>\n",
              "    <tr style=\"text-align: right;\">\n",
              "      <th></th>\n",
              "      <th>Unnamed: 0</th>\n",
              "      <th>Persona</th>\n",
              "      <th>chat</th>\n",
              "    </tr>\n",
              "  </thead>\n",
              "  <tbody>\n",
              "    <tr>\n",
              "      <th>0</th>\n",
              "      <td>0</td>\n",
              "      <td>i like to remodel homes. i like to go hunting...</td>\n",
              "      <td>hi , how are you doing ? i am getting ready to...</td>\n",
              "    </tr>\n",
              "    <tr>\n",
              "      <th>1</th>\n",
              "      <td>1</td>\n",
              "      <td>my mom is my best friend. i have four sisters...</td>\n",
              "      <td>hi , how are you doing today ?\\ni am spending ...</td>\n",
              "    </tr>\n",
              "    <tr>\n",
              "      <th>2</th>\n",
              "      <td>2</td>\n",
              "      <td>i had a gig at local theater last night. i wo...</td>\n",
              "      <td>we all live in a yellow submarine , a yellow s...</td>\n",
              "    </tr>\n",
              "    <tr>\n",
              "      <th>3</th>\n",
              "      <td>3</td>\n",
              "      <td>i am very athletic. i wear contacts. i have b...</td>\n",
              "      <td>hi ! i work as a gourmet cook .\\ni do not like...</td>\n",
              "    </tr>\n",
              "    <tr>\n",
              "      <th>4</th>\n",
              "      <td>4</td>\n",
              "      <td>i am primarily a meat eater. i am a guitar pl...</td>\n",
              "      <td>how are you doing today\\nwhat do you do for ca...</td>\n",
              "    </tr>\n",
              "  </tbody>\n",
              "</table>\n",
              "</div>"
            ],
            "text/plain": [
              "   Unnamed: 0                                            Persona  \\\n",
              "0           0   i like to remodel homes. i like to go hunting...   \n",
              "1           1   my mom is my best friend. i have four sisters...   \n",
              "2           2   i had a gig at local theater last night. i wo...   \n",
              "3           3   i am very athletic. i wear contacts. i have b...   \n",
              "4           4   i am primarily a meat eater. i am a guitar pl...   \n",
              "\n",
              "                                                chat  \n",
              "0  hi , how are you doing ? i am getting ready to...  \n",
              "1  hi , how are you doing today ?\\ni am spending ...  \n",
              "2  we all live in a yellow submarine , a yellow s...  \n",
              "3  hi ! i work as a gourmet cook .\\ni do not like...  \n",
              "4  how are you doing today\\nwhat do you do for ca...  "
            ]
          },
          "execution_count": 48,
          "metadata": {},
          "output_type": "execute_result"
        }
      ],
      "source": [
        "data.head()"
      ]
    },
    {
      "cell_type": "code",
      "execution_count": 49,
      "metadata": {},
      "outputs": [
        {
          "data": {
            "text/html": [
              "<div>\n",
              "<style scoped>\n",
              "    .dataframe tbody tr th:only-of-type {\n",
              "        vertical-align: middle;\n",
              "    }\n",
              "\n",
              "    .dataframe tbody tr th {\n",
              "        vertical-align: top;\n",
              "    }\n",
              "\n",
              "    .dataframe thead th {\n",
              "        text-align: right;\n",
              "    }\n",
              "</style>\n",
              "<table border=\"1\" class=\"dataframe\">\n",
              "  <thead>\n",
              "    <tr style=\"text-align: right;\">\n",
              "      <th></th>\n",
              "      <th>Unnamed: 0</th>\n",
              "      <th>Persona</th>\n",
              "      <th>chat</th>\n",
              "    </tr>\n",
              "  </thead>\n",
              "  <tbody>\n",
              "    <tr>\n",
              "      <th>8934</th>\n",
              "      <td>8934</td>\n",
              "      <td>my favorite food is fried chicken. i have a t...</td>\n",
              "      <td>good evening , i have been having a terrible t...</td>\n",
              "    </tr>\n",
              "    <tr>\n",
              "      <th>8935</th>\n",
              "      <td>8935</td>\n",
              "      <td>i love fast food. i am a stay at home mom. i ...</td>\n",
              "      <td>hi there how is work\\ni do not work these days...</td>\n",
              "    </tr>\n",
              "    <tr>\n",
              "      <th>8936</th>\n",
              "      <td>8936</td>\n",
              "      <td>my family and i go camping every month. i am ...</td>\n",
              "      <td>hello , i have a daughter who is in kindergart...</td>\n",
              "    </tr>\n",
              "    <tr>\n",
              "      <th>8937</th>\n",
              "      <td>8937</td>\n",
              "      <td>i have red hair. i work at a retail store. i ...</td>\n",
              "      <td>hi . how are you doing ?\\ni am doing well . ju...</td>\n",
              "    </tr>\n",
              "    <tr>\n",
              "      <th>8938</th>\n",
              "      <td>8938</td>\n",
              "      <td>i m applying for publishing jobs. the only au...</td>\n",
              "      <td>hello ! how are you today ?\\nhello i am good ....</td>\n",
              "    </tr>\n",
              "  </tbody>\n",
              "</table>\n",
              "</div>"
            ],
            "text/plain": [
              "      Unnamed: 0                                            Persona  \\\n",
              "8934        8934   my favorite food is fried chicken. i have a t...   \n",
              "8935        8935   i love fast food. i am a stay at home mom. i ...   \n",
              "8936        8936   my family and i go camping every month. i am ...   \n",
              "8937        8937   i have red hair. i work at a retail store. i ...   \n",
              "8938        8938   i m applying for publishing jobs. the only au...   \n",
              "\n",
              "                                                   chat  \n",
              "8934  good evening , i have been having a terrible t...  \n",
              "8935  hi there how is work\\ni do not work these days...  \n",
              "8936  hello , i have a daughter who is in kindergart...  \n",
              "8937  hi . how are you doing ?\\ni am doing well . ju...  \n",
              "8938  hello ! how are you today ?\\nhello i am good ....  "
            ]
          },
          "execution_count": 49,
          "metadata": {},
          "output_type": "execute_result"
        }
      ],
      "source": [
        "data.tail()"
      ]
    },
    {
      "cell_type": "markdown",
      "metadata": {},
      "source": [
        "# Exploratory Data analysis (EDA)"
      ]
    },
    {
      "cell_type": "code",
      "execution_count": 50,
      "metadata": {
        "colab": {
          "base_uri": "https://localhost:8080/"
        },
        "id": "yuMYzGhG1HVI",
        "outputId": "99b85441-d14c-48c0-d03f-1fd7df0cda70"
      },
      "outputs": [
        {
          "name": "stdout",
          "output_type": "stream",
          "text": [
            "hi , how are you doing ? i am getting ready to do some cheetah chasing to stay in shape .\n",
            "you must be very fast . hunting is one of my favorite hobbies .\n",
            "i am ! for my hobby i like to do canning or some whittling .\n",
            "i also remodel homes when i am not out bow hunting .\n",
            "that is neat . when i was in high school i placed 6th in 100m dash !\n",
            "that is awesome . do you have a favorite season or time of year ?\n",
            "i do not . but i do have a favorite meat since that is all i eat exclusively .\n",
            "what is your favorite meat to eat ?\n",
            "i would have to say its prime rib . do you have any favorite foods ?\n",
            "i like chicken or macaroni and cheese .\n",
            "do you have anything planned for today ? i think i am going to do some canning .\n",
            "i am going to watch football . what are you canning ?\n",
            "i think i will can some jam . do you also play footfall for fun ?\n",
            "if i have time outside of hunting and remodeling homes . which is not much !\n",
            "\n"
          ]
        }
      ],
      "source": [
        "# Melihat Teks Pertama\n",
        "\n",
        "print(data.chat[0])"
      ]
    },
    {
      "cell_type": "code",
      "execution_count": 51,
      "metadata": {
        "colab": {
          "base_uri": "https://localhost:8080/"
        },
        "id": "SSHDhDln1fb4",
        "outputId": "5bb39082-f8e9-47fb-d712-bdad221c204a"
      },
      "outputs": [
        {
          "name": "stdout",
          "output_type": "stream",
          "text": [
            " i like to remodel homes. i like to go hunting. i like to shoot a bow. my favorite holiday is halloween.\n"
          ]
        }
      ],
      "source": [
        "print(data.Persona[0])"
      ]
    },
    {
      "cell_type": "code",
      "execution_count": 52,
      "metadata": {},
      "outputs": [
        {
          "name": "stdout",
          "output_type": "stream",
          "text": [
            "i like acting . i am in a telenovela now .\n",
            "fun . dancing is my ticket to fame .\n",
            "what kind of dancing ? were you in a show ? i love musicals .\n",
            "anything but dancing to country music , yuck , i hate it .\n",
            "do you watch dancing with the stars ? they make it look easy .\n",
            "yeah , they do . but i am better than some of them . if i could only spell , sigh .\n",
            "why do you need to spell ? having problems in school ?\n",
            "no . just wish i were a better speller , but i am blonde people over look it .\n",
            "you can learn . there are certain rules for most of it . english is difficult .\n",
            "yeah . my hair goes all the way down to my knees . how about you ?\n",
            "what kind of dancing do you like to do the best ? do you perform ?\n",
            "sometimes i perform ballet , when i am not walking dogs at the shelter .\n",
            "animals scare me . i got bit during a commercial when i was 9 .\n",
            "i am so sorry . that had to be traumatic .\n",
            "they expected me to just carry on . i cried and got yelled at .\n",
            "wow . that is so sad . take courage , you are not alone .\n",
            "\n"
          ]
        }
      ],
      "source": [
        "print(data.chat[2000])"
      ]
    },
    {
      "cell_type": "code",
      "execution_count": 1,
      "metadata": {},
      "outputs": [
        {
          "ename": "NameError",
          "evalue": "name 'data' is not defined",
          "output_type": "error",
          "traceback": [
            "\u001b[1;31m---------------------------------------------------------------------------\u001b[0m",
            "\u001b[1;31mNameError\u001b[0m                                 Traceback (most recent call last)",
            "\u001b[1;32mc:\\Users\\thinkpad ryzen 7\\OneDrive\\Dokumen\\Phase 2\\Milestone 2\\h8dsft_Milestone2P2_Titian_Prasasti.ipynb Cell 10\u001b[0m in \u001b[0;36m<cell line: 1>\u001b[1;34m()\u001b[0m\n\u001b[1;32m----> <a href='vscode-notebook-cell:/c%3A/Users/thinkpad%20ryzen%207/OneDrive/Dokumen/Phase%202/Milestone%202/h8dsft_Milestone2P2_Titian_Prasasti.ipynb#X12sZmlsZQ%3D%3D?line=0'>1</a>\u001b[0m \u001b[39mprint\u001b[39m(data\u001b[39m.\u001b[39mPersona[\u001b[39m2000\u001b[39m])\n",
            "\u001b[1;31mNameError\u001b[0m: name 'data' is not defined"
          ]
        }
      ],
      "source": [
        "print(data.Persona[2000])"
      ]
    },
    {
      "cell_type": "markdown",
      "metadata": {},
      "source": [
        "Dari dataset tersebut dapat kita lihat bahwa pola kalimat pada kolom `chat` merupakan uraian terkait informasi-informasi yang bersifat personal dan jumlah kata dalam satu kolom terbilang cukup banyak. Kemudian untuk  jawaban bot dalam hal ini kolom `Persona`, terlihat bahwa kalimat yang disediakan merujuk pada konteks besar bahkan ringkasan konteks dari keseluruhan kalimat yang ada pada setiap kolom `chat`. Dapat diamati juga bahwa setiap baris memiliki tema-tema yang beragam. Dari informasi yang diperoleh via sumber dataset ini di kaggle, jawaban dengan topik personal dianggap dapat menghasilkan obrolan yang lebih ***engaging***. "
      ]
    },
    {
      "cell_type": "markdown",
      "metadata": {},
      "source": [
        "# Data Preprocessing\n",
        "\n",
        "Dataset ini sudah terbilang bersih dan hanya membutuhkan preprocessing yang minimal karena semua huruf sudah dalam bentuk huruf kecil (lower case). Tidak ditemukan tanda baca yang perlu di keluarkan seperti tanda seru, titik dan tanda tanya karena dalam konteks chat-bot hal ini diperlukan untuk menambahkan informasi terkait konteks kalimat. Kemudian tidak diperlukan juga untuk drop stopword maupun stemming karena chat-bot perlu memberikan output yang lengkap, jika kita mengedrop stopwords maka output jawaban bisa terpotong dan kehilangan arti. Sehingga preprocessing yang dilakukan hanya memisahkan titik ('.') pada kolom `Persona` agar dapat kita dapat melakukan proses tokenize."
      ]
    },
    {
      "cell_type": "code",
      "execution_count": 5,
      "metadata": {
        "id": "bu6p1MSUXT_a"
      },
      "outputs": [],
      "source": [
        "teks = data.Persona[0]\n",
        "def text_proses(teks):\n",
        "  teks = re.sub('([.])', r' \\1 ', teks)\n",
        "  teks = re.sub('\\s{2,}', ' ', teks)\n",
        "  return teks"
      ]
    },
    {
      "cell_type": "code",
      "execution_count": 6,
      "metadata": {
        "colab": {
          "base_uri": "https://localhost:8080/",
          "height": 424
        },
        "id": "QztnlvyZXOyt",
        "outputId": "5ac59f66-5b19-422f-b938-91b4d7db41e9"
      },
      "outputs": [
        {
          "data": {
            "text/html": [
              "<div>\n",
              "<style scoped>\n",
              "    .dataframe tbody tr th:only-of-type {\n",
              "        vertical-align: middle;\n",
              "    }\n",
              "\n",
              "    .dataframe tbody tr th {\n",
              "        vertical-align: top;\n",
              "    }\n",
              "\n",
              "    .dataframe thead th {\n",
              "        text-align: right;\n",
              "    }\n",
              "</style>\n",
              "<table border=\"1\" class=\"dataframe\">\n",
              "  <thead>\n",
              "    <tr style=\"text-align: right;\">\n",
              "      <th></th>\n",
              "      <th>Unnamed: 0</th>\n",
              "      <th>Persona</th>\n",
              "      <th>chat</th>\n",
              "      <th>persona_proc</th>\n",
              "    </tr>\n",
              "  </thead>\n",
              "  <tbody>\n",
              "    <tr>\n",
              "      <th>0</th>\n",
              "      <td>0</td>\n",
              "      <td>i like to remodel homes. i like to go hunting...</td>\n",
              "      <td>hi , how are you doing ? i am getting ready to...</td>\n",
              "      <td>i like to remodel homes . i like to go huntin...</td>\n",
              "    </tr>\n",
              "    <tr>\n",
              "      <th>1</th>\n",
              "      <td>1</td>\n",
              "      <td>my mom is my best friend. i have four sisters...</td>\n",
              "      <td>hi , how are you doing today ?\\ni am spending ...</td>\n",
              "      <td>my mom is my best friend . i have four sister...</td>\n",
              "    </tr>\n",
              "    <tr>\n",
              "      <th>2</th>\n",
              "      <td>2</td>\n",
              "      <td>i had a gig at local theater last night. i wo...</td>\n",
              "      <td>we all live in a yellow submarine , a yellow s...</td>\n",
              "      <td>i had a gig at local theater last night . i w...</td>\n",
              "    </tr>\n",
              "    <tr>\n",
              "      <th>3</th>\n",
              "      <td>3</td>\n",
              "      <td>i am very athletic. i wear contacts. i have b...</td>\n",
              "      <td>hi ! i work as a gourmet cook .\\ni do not like...</td>\n",
              "      <td>i am very athletic . i wear contacts . i have...</td>\n",
              "    </tr>\n",
              "    <tr>\n",
              "      <th>4</th>\n",
              "      <td>4</td>\n",
              "      <td>i am primarily a meat eater. i am a guitar pl...</td>\n",
              "      <td>how are you doing today\\nwhat do you do for ca...</td>\n",
              "      <td>i am primarily a meat eater . i am a guitar p...</td>\n",
              "    </tr>\n",
              "    <tr>\n",
              "      <th>...</th>\n",
              "      <td>...</td>\n",
              "      <td>...</td>\n",
              "      <td>...</td>\n",
              "      <td>...</td>\n",
              "    </tr>\n",
              "    <tr>\n",
              "      <th>8934</th>\n",
              "      <td>8934</td>\n",
              "      <td>my favorite food is fried chicken. i have a t...</td>\n",
              "      <td>good evening , i have been having a terrible t...</td>\n",
              "      <td>my favorite food is fried chicken . i have a ...</td>\n",
              "    </tr>\n",
              "    <tr>\n",
              "      <th>8935</th>\n",
              "      <td>8935</td>\n",
              "      <td>i love fast food. i am a stay at home mom. i ...</td>\n",
              "      <td>hi there how is work\\ni do not work these days...</td>\n",
              "      <td>i love fast food . i am a stay at home mom . ...</td>\n",
              "    </tr>\n",
              "    <tr>\n",
              "      <th>8936</th>\n",
              "      <td>8936</td>\n",
              "      <td>my family and i go camping every month. i am ...</td>\n",
              "      <td>hello , i have a daughter who is in kindergart...</td>\n",
              "      <td>my family and i go camping every month . i am...</td>\n",
              "    </tr>\n",
              "    <tr>\n",
              "      <th>8937</th>\n",
              "      <td>8937</td>\n",
              "      <td>i have red hair. i work at a retail store. i ...</td>\n",
              "      <td>hi . how are you doing ?\\ni am doing well . ju...</td>\n",
              "      <td>i have red hair . i work at a retail store . ...</td>\n",
              "    </tr>\n",
              "    <tr>\n",
              "      <th>8938</th>\n",
              "      <td>8938</td>\n",
              "      <td>i m applying for publishing jobs. the only au...</td>\n",
              "      <td>hello ! how are you today ?\\nhello i am good ....</td>\n",
              "      <td>i m applying for publishing jobs . the only a...</td>\n",
              "    </tr>\n",
              "  </tbody>\n",
              "</table>\n",
              "<p>8939 rows × 4 columns</p>\n",
              "</div>"
            ],
            "text/plain": [
              "      Unnamed: 0                                            Persona  \\\n",
              "0              0   i like to remodel homes. i like to go hunting...   \n",
              "1              1   my mom is my best friend. i have four sisters...   \n",
              "2              2   i had a gig at local theater last night. i wo...   \n",
              "3              3   i am very athletic. i wear contacts. i have b...   \n",
              "4              4   i am primarily a meat eater. i am a guitar pl...   \n",
              "...          ...                                                ...   \n",
              "8934        8934   my favorite food is fried chicken. i have a t...   \n",
              "8935        8935   i love fast food. i am a stay at home mom. i ...   \n",
              "8936        8936   my family and i go camping every month. i am ...   \n",
              "8937        8937   i have red hair. i work at a retail store. i ...   \n",
              "8938        8938   i m applying for publishing jobs. the only au...   \n",
              "\n",
              "                                                   chat  \\\n",
              "0     hi , how are you doing ? i am getting ready to...   \n",
              "1     hi , how are you doing today ?\\ni am spending ...   \n",
              "2     we all live in a yellow submarine , a yellow s...   \n",
              "3     hi ! i work as a gourmet cook .\\ni do not like...   \n",
              "4     how are you doing today\\nwhat do you do for ca...   \n",
              "...                                                 ...   \n",
              "8934  good evening , i have been having a terrible t...   \n",
              "8935  hi there how is work\\ni do not work these days...   \n",
              "8936  hello , i have a daughter who is in kindergart...   \n",
              "8937  hi . how are you doing ?\\ni am doing well . ju...   \n",
              "8938  hello ! how are you today ?\\nhello i am good ....   \n",
              "\n",
              "                                           persona_proc  \n",
              "0      i like to remodel homes . i like to go huntin...  \n",
              "1      my mom is my best friend . i have four sister...  \n",
              "2      i had a gig at local theater last night . i w...  \n",
              "3      i am very athletic . i wear contacts . i have...  \n",
              "4      i am primarily a meat eater . i am a guitar p...  \n",
              "...                                                 ...  \n",
              "8934   my favorite food is fried chicken . i have a ...  \n",
              "8935   i love fast food . i am a stay at home mom . ...  \n",
              "8936   my family and i go camping every month . i am...  \n",
              "8937   i have red hair . i work at a retail store . ...  \n",
              "8938   i m applying for publishing jobs . the only a...  \n",
              "\n",
              "[8939 rows x 4 columns]"
            ]
          },
          "execution_count": 6,
          "metadata": {},
          "output_type": "execute_result"
        }
      ],
      "source": [
        "data['persona_proc'] = data['Persona'].apply(lambda x: text_proses(x))\n",
        "data"
      ]
    },
    {
      "cell_type": "markdown",
      "metadata": {},
      "source": [
        "### Tokenizer\n",
        "\n",
        "Selanjutnya kita melakukan proses tokenizer untuk memisahkan setiap kata dalam kolom untuk menjadi individual token. Hal ini dilakukan untuk mempersiapkan data sebelum dilakukan padding dan embedding."
      ]
    },
    {
      "cell_type": "code",
      "execution_count": 7,
      "metadata": {
        "id": "A16m_BNl_N1C"
      },
      "outputs": [],
      "source": [
        "tokenize_encoder = Tokenizer()\n",
        "tokenize_decoder = Tokenizer()"
      ]
    },
    {
      "cell_type": "code",
      "execution_count": 8,
      "metadata": {
        "id": "gs6OQt0l-43i"
      },
      "outputs": [],
      "source": [
        "# Input Encoder\n",
        "tokenize_encoder.fit_on_texts(data['chat'])\n",
        "input_encoder = tokenize_encoder.texts_to_sequences(data['chat'])"
      ]
    },
    {
      "cell_type": "code",
      "execution_count": 9,
      "metadata": {
        "id": "KlT9vshQ_flY"
      },
      "outputs": [],
      "source": [
        "# Input Decoder\n",
        "tokenize_decoder.fit_on_texts(data['persona_proc'].apply(lambda x: \"<START> \"+ x +\" <END>\"))\n",
        "input_decoder = tokenize_decoder.texts_to_sequences(data['persona_proc'].apply(lambda x: \"<START> \"+ x +\" <END>\"))"
      ]
    },
    {
      "cell_type": "code",
      "execution_count": 10,
      "metadata": {
        "id": "cggXOgVUDl9Q"
      },
      "outputs": [],
      "source": [
        "# Target \n",
        "target = tokenize_decoder.texts_to_sequences(data['persona_proc'].apply(lambda x: x +\" <END>\"))"
      ]
    },
    {
      "cell_type": "code",
      "execution_count": 59,
      "metadata": {},
      "outputs": [],
      "source": [
        "pickle.dump(tokenize_encoder, open('tokenize_encoder.pkl', 'wb'))"
      ]
    },
    {
      "cell_type": "code",
      "execution_count": 60,
      "metadata": {},
      "outputs": [],
      "source": [
        "pickle.dump(tokenize_decoder, open('tokenize_decoder.pkl', 'wb'))"
      ]
    },
    {
      "cell_type": "markdown",
      "metadata": {},
      "source": [
        "### Padding\n",
        "\n",
        "Padding dilakukan untuk menyamakan jumlah keseluruhan kata yang sudah ditokenize menjadi sejumlah maksimal token yang ada pada setiap kolom. "
      ]
    },
    {
      "cell_type": "code",
      "execution_count": 11,
      "metadata": {
        "id": "ljZu79hcFdDZ"
      },
      "outputs": [],
      "source": [
        "# Persiapan Padding & Embedding input_encoder\n",
        "jml_vocab_enc = len(tokenize_encoder.word_index)+1\n",
        "med_enc = median([len(i.split(\" \")) for i in data['chat']])"
      ]
    },
    {
      "cell_type": "markdown",
      "metadata": {},
      "source": [
        "Pada jumlah token pada encoder dikarenakan jumlahnya yang sangat banyak mencapai 448 token sehingga dipilih nilai median dengan harapan dapat mengurangi beban training dan meningkatkan akurasi model."
      ]
    },
    {
      "cell_type": "code",
      "execution_count": 12,
      "metadata": {
        "id": "VLHN60l-G2rW"
      },
      "outputs": [],
      "source": [
        "# Persiapan Padding & Embedding input_decoder\n",
        "jml_vocab_dec = len(tokenize_decoder.word_index)+1\n",
        "max_sen_len_dec = max([len(i.split(\" \")) for i in data['persona_proc']])"
      ]
    },
    {
      "cell_type": "code",
      "execution_count": 13,
      "metadata": {
        "id": "7hwgxnaCGS26"
      },
      "outputs": [],
      "source": [
        "# Persiapan Padding & Embedding target\n",
        "jml_vocab_target = len(tokenize_decoder.word_index)+1\n",
        "max_sen_len_target = max([len(i.split(\" \")) for i in data['persona_proc']])"
      ]
    },
    {
      "cell_type": "code",
      "execution_count": 14,
      "metadata": {
        "id": "1WTWHkVaLy1x"
      },
      "outputs": [],
      "source": [
        "# Padding input_encoder\n",
        "\n",
        "padding_enc = pad_sequences(input_encoder,\n",
        "                            maxlen=med_enc,\n",
        "                            padding='post'\n",
        "                            )"
      ]
    },
    {
      "cell_type": "markdown",
      "metadata": {},
      "source": [
        "Median dipakai karena jumlah kalimat dalam 1 cell mencapai 448 kata"
      ]
    },
    {
      "cell_type": "code",
      "execution_count": 15,
      "metadata": {
        "id": "BR6SSWSbNOlf"
      },
      "outputs": [],
      "source": [
        "# Padding input_decoder\n",
        "\n",
        "padding_dec = pad_sequences(input_decoder,\n",
        "                            maxlen=max_sen_len_dec,\n",
        "                            padding='post'\n",
        "                            )"
      ]
    },
    {
      "cell_type": "code",
      "execution_count": 16,
      "metadata": {
        "id": "I4M3ewBONVmU"
      },
      "outputs": [],
      "source": [
        "# Padding input_target\n",
        "\n",
        "padding_target = pad_sequences(target,\n",
        "                               maxlen=max_sen_len_target,\n",
        "                               padding='post'\n",
        "                               )"
      ]
    },
    {
      "cell_type": "markdown",
      "metadata": {},
      "source": [
        "### Embedding\n",
        "\n",
        "Embedding dilakukan untuk mengubah token yang kita miliki menjadi menjadi bentuk vektor agar dapat dibaca oleh model"
      ]
    },
    {
      "cell_type": "code",
      "execution_count": 17,
      "metadata": {
        "id": "uqEA6cyVFVWV"
      },
      "outputs": [],
      "source": [
        "# Embedding input_encoder\n",
        "\n",
        "embedding_enc = Embedding(input_dim=jml_vocab_enc,\n",
        "                          output_dim=128,\n",
        "                          embeddings_initializer=\"uniform\",\n",
        "                          input_length=med_enc\n",
        "                          )"
      ]
    },
    {
      "cell_type": "code",
      "execution_count": 18,
      "metadata": {
        "id": "gxDxYLUzJP1W"
      },
      "outputs": [],
      "source": [
        "# Embedding input_decoder\n",
        "\n",
        "embedding_dec = Embedding(input_dim=jml_vocab_dec,\n",
        "                          output_dim=128,\n",
        "                          embeddings_initializer=\"uniform\",\n",
        "                          input_length=max_sen_len_dec\n",
        "                          )"
      ]
    },
    {
      "cell_type": "code",
      "execution_count": 19,
      "metadata": {
        "id": "-WQ3ucyjuKJm"
      },
      "outputs": [],
      "source": [
        "target_ = tf.keras.utils.to_categorical(padding_target, jml_vocab_target)"
      ]
    },
    {
      "cell_type": "markdown",
      "metadata": {},
      "source": [
        "### Target Categorical\n",
        "\n",
        "Mengubah token pada variable target menjadi kategori"
      ]
    },
    {
      "cell_type": "markdown",
      "metadata": {
        "id": "oaOsKkcTcEMI"
      },
      "source": [
        "# Modelling\n",
        "### Base Model"
      ]
    },
    {
      "cell_type": "code",
      "execution_count": 70,
      "metadata": {
        "colab": {
          "base_uri": "https://localhost:8080/",
          "height": 467
        },
        "id": "O8OqOmCGb8IW",
        "outputId": "b1e1ac30-9df7-4a23-f35b-8a2114f87814"
      },
      "outputs": [
        {
          "name": "stdout",
          "output_type": "stream",
          "text": [
            "Model: \"model_11\"\n",
            "__________________________________________________________________________________________________\n",
            " Layer (type)                   Output Shape         Param #     Connected to                     \n",
            "==================================================================================================\n",
            " input_21 (InputLayer)          [(None, None)]       0           []                               \n",
            "                                                                                                  \n",
            " input_22 (InputLayer)          [(None, None)]       0           []                               \n",
            "                                                                                                  \n",
            " embedding_20 (Embedding)       (None, None, 128)    2389632     ['input_21[0][0]']               \n",
            "                                                                                                  \n",
            " embedding_21 (Embedding)       (None, None, 128)    483328      ['input_22[0][0]']               \n",
            "                                                                                                  \n",
            " lstm_18 (LSTM)                 [(None, 32),         20608       ['embedding_20[0][0]']           \n",
            "                                 (None, 32),                                                      \n",
            "                                 (None, 32)]                                                      \n",
            "                                                                                                  \n",
            " lstm_19 (LSTM)                 [(None, None, 32),   20608       ['embedding_21[0][0]',           \n",
            "                                 (None, 32),                      'lstm_18[0][1]',                \n",
            "                                 (None, 32)]                      'lstm_18[0][2]']                \n",
            "                                                                                                  \n",
            " dense_32 (Dense)               (None, None, 64)     2112        ['lstm_19[0][0]']                \n",
            "                                                                                                  \n",
            " dense_33 (Dense)               (None, None, 3776)   245440      ['dense_32[0][0]']               \n",
            "                                                                                                  \n",
            "==================================================================================================\n",
            "Total params: 3,161,728\n",
            "Trainable params: 3,161,728\n",
            "Non-trainable params: 0\n",
            "__________________________________________________________________________________________________\n"
          ]
        }
      ],
      "source": [
        "# Input Encoder\n",
        "input_enc_base = tf.keras.layers.Input(shape=(None,))\n",
        "emb_enc = tf.keras.layers.Embedding(input_dim=jml_vocab_enc,\n",
        "                          output_dim=128,\n",
        "                          embeddings_initializer=\"uniform\",\n",
        "                          input_length=med_enc\n",
        "                          )(input_enc_base)\n",
        "lstm_enc, state_h, state_c = LSTM(32, return_state=True)(emb_enc)\n",
        "\n",
        "context_vector = [state_h, state_c]\n",
        "\n",
        "# Input Decoder\n",
        "input_dec_base = tf.keras.layers.Input(shape=(None,))\n",
        "emb_dec = Embedding(input_dim=jml_vocab_dec,\n",
        "                          output_dim=128,\n",
        "                          embeddings_initializer=\"uniform\",\n",
        "                          input_length=max_sen_len_dec\n",
        "                          )(input_dec_base)\n",
        "lstm_dec_base = LSTM(32, return_state=True, return_sequences=True)\n",
        "lstm_dec1,_,_ = lstm_dec_base(emb_dec, initial_state=context_vector)\n",
        "\n",
        "dense = tf.keras.layers.Dense(64, activation='relu')(lstm_dec1)\n",
        "output = tf.keras.layers.Dense(jml_vocab_dec, activation='softmax')(dense)\n",
        "\n",
        "\n",
        "model1 = tf.keras.models.Model(inputs=[input_enc_base,input_dec_base],outputs=output)\n",
        "\n",
        "model1.summary()"
      ]
    },
    {
      "cell_type": "code",
      "execution_count": 55,
      "metadata": {},
      "outputs": [
        {
          "data": {
            "image/png": "[encoded data removed]",
            "text/plain": [
              "<IPython.core.display.Image object>"
            ]
          },
          "execution_count": 55,
          "metadata": {},
          "output_type": "execute_result"
        }
      ],
      "source": [
        "plot_model(model1, to_file='model_plot.png', show_shapes=True, show_layer_names=True)   # plot model"
      ]
    },
    {
      "cell_type": "code",
      "execution_count": 21,
      "metadata": {},
      "outputs": [],
      "source": [
        "model1.compile(loss='categorical_crossentropy',optimizer='adam',metrics='accuracy')"
      ]
    },
    {
      "cell_type": "code",
      "execution_count": 22,
      "metadata": {},
      "outputs": [
        {
          "name": "stdout",
          "output_type": "stream",
          "text": [
            "Epoch 1/20\n",
            "112/112 [==============================] - 71s 561ms/step - loss: 4.2696 - accuracy: 0.6449 - val_loss: 2.1011 - val_accuracy: 0.6527\n",
            "Epoch 2/20\n",
            "112/112 [==============================] - 70s 624ms/step - loss: 1.9405 - accuracy: 0.6955 - val_loss: 1.9073 - val_accuracy: 0.6988\n",
            "Epoch 3/20\n",
            "112/112 [==============================] - 69s 617ms/step - loss: 1.8584 - accuracy: 0.7022 - val_loss: 1.8428 - val_accuracy: 0.7071\n",
            "Epoch 4/20\n",
            "112/112 [==============================] - 66s 588ms/step - loss: 1.7606 - accuracy: 0.7212 - val_loss: 1.7307 - val_accuracy: 0.7234\n",
            "Epoch 5/20\n",
            "112/112 [==============================] - 72s 639ms/step - loss: 1.6665 - accuracy: 0.7299 - val_loss: 1.6548 - val_accuracy: 0.7314\n",
            "Epoch 6/20\n",
            "112/112 [==============================] - 70s 622ms/step - loss: 1.5758 - accuracy: 0.7432 - val_loss: 1.5553 - val_accuracy: 0.7434\n",
            "Epoch 7/20\n",
            "112/112 [==============================] - 66s 589ms/step - loss: 1.4838 - accuracy: 0.7515 - val_loss: 1.4798 - val_accuracy: 0.7507\n",
            "Epoch 8/20\n",
            "112/112 [==============================] - 70s 625ms/step - loss: 1.4108 - accuracy: 0.7581 - val_loss: 1.4170 - val_accuracy: 0.7554\n",
            "Epoch 9/20\n",
            "112/112 [==============================] - 70s 628ms/step - loss: 1.3504 - accuracy: 0.7634 - val_loss: 1.3674 - val_accuracy: 0.7594\n",
            "Epoch 10/20\n",
            "112/112 [==============================] - 66s 590ms/step - loss: 1.2986 - accuracy: 0.7678 - val_loss: 1.3242 - val_accuracy: 0.7624\n",
            "Epoch 11/20\n",
            "112/112 [==============================] - 66s 589ms/step - loss: 1.2505 - accuracy: 0.7724 - val_loss: 1.2830 - val_accuracy: 0.7658\n",
            "Epoch 12/20\n",
            "112/112 [==============================] - 71s 633ms/step - loss: 1.2049 - accuracy: 0.7763 - val_loss: 1.2447 - val_accuracy: 0.7682\n",
            "Epoch 13/20\n",
            "112/112 [==============================] - 69s 619ms/step - loss: 1.1635 - accuracy: 0.7800 - val_loss: 1.2112 - val_accuracy: 0.7706\n",
            "Epoch 14/20\n",
            "112/112 [==============================] - 68s 610ms/step - loss: 1.1256 - accuracy: 0.7830 - val_loss: 1.1794 - val_accuracy: 0.7739\n",
            "Epoch 15/20\n",
            "112/112 [==============================] - 70s 629ms/step - loss: 1.0905 - accuracy: 0.7863 - val_loss: 1.1538 - val_accuracy: 0.7758\n",
            "Epoch 16/20\n",
            "112/112 [==============================] - 74s 664ms/step - loss: 1.0565 - accuracy: 0.7901 - val_loss: 1.1232 - val_accuracy: 0.7788\n",
            "Epoch 17/20\n",
            "112/112 [==============================] - 78s 701ms/step - loss: 1.0249 - accuracy: 0.7937 - val_loss: 1.1003 - val_accuracy: 0.7820\n",
            "Epoch 18/20\n",
            "112/112 [==============================] - 72s 647ms/step - loss: 0.9949 - accuracy: 0.7975 - val_loss: 1.0758 - val_accuracy: 0.7843\n",
            "Epoch 19/20\n",
            "112/112 [==============================] - 72s 648ms/step - loss: 0.9665 - accuracy: 0.8012 - val_loss: 1.0555 - val_accuracy: 0.7876\n",
            "Epoch 20/20\n",
            "112/112 [==============================] - 73s 654ms/step - loss: 0.9390 - accuracy: 0.8055 - val_loss: 1.0334 - val_accuracy: 0.7905\n"
          ]
        }
      ],
      "source": [
        "history1 = model1.fit(x=[padding_enc,padding_dec], y=target_, validation_split=0.2, batch_size=64, epochs=20)"
      ]
    },
    {
      "cell_type": "code",
      "execution_count": 23,
      "metadata": {},
      "outputs": [
        {
          "data": {
            "text/plain": [
              "Text(0.5, 0, 'Epoch')"
            ]
          },
          "execution_count": 23,
          "metadata": {},
          "output_type": "execute_result"
        },
        {
          "data": {
            "image/png": "[encoded data removed]",
            "text/plain": [
              "<Figure size 1152x360 with 2 Axes>"
            ]
          },
          "metadata": {
            "needs_background": "light"
          },
          "output_type": "display_data"
        }
      ],
      "source": [
        "epoch=20\n",
        "\n",
        "fig, ax = plt.subplots(ncols=2,figsize=(16,5))\n",
        "ax[0].plot(range(1,epoch+1),history1.history['loss'],label='loss')\n",
        "ax[0].plot(range(1,epoch+1),history1.history['val_loss'],label='val_loss')\n",
        "ax[0].set_title('Loss')\n",
        "ax[0].legend()\n",
        "ax[0].set_xlabel('Epoch')\n",
        "\n",
        "ax[1].plot(range(1,epoch+1),history1.history['accuracy'],label='accuracy')\n",
        "ax[1].plot(range(1,epoch+1),history1.history['val_accuracy'],label='val_accuracy')\n",
        "ax[1].set_title('Accuracy')\n",
        "ax[1].legend()\n",
        "ax[1].set_xlabel('Epoch')"
      ]
    },
    {
      "cell_type": "markdown",
      "metadata": {},
      "source": [
        "Terlihat grafik dari base model sudah cukup baik tidak nampak adanya exploding maupun vanishing gradient. \n",
        "berikut adalah metric evaluasi dari kedua model yang sudah dibuat:\n",
        "\n",
        "| Base Model        | Loss      | Accuracy  |\n",
        "|  :---             |  :----:   |    :----: |\n",
        "| Train             | 0.9390    | 0.8055    |\n",
        "| Validation        | 1.0334    | 0.7905    |\n",
        "\n",
        "Terlihat model terbilang fit namun mari kita coba tingkatnya akurasi dan mengurangi loss nya dengan model improvement. L"
      ]
    },
    {
      "cell_type": "markdown",
      "metadata": {},
      "source": [
        "### Model Improvement"
      ]
    },
    {
      "cell_type": "code",
      "execution_count": 65,
      "metadata": {},
      "outputs": [
        {
          "name": "stdout",
          "output_type": "stream",
          "text": [
            "Model: \"model_9\"\n",
            "__________________________________________________________________________________________________\n",
            " Layer (type)                   Output Shape         Param #     Connected to                     \n",
            "==================================================================================================\n",
            " input_17 (InputLayer)          [(None, None)]       0           []                               \n",
            "                                                                                                  \n",
            " input_18 (InputLayer)          [(None, None)]       0           []                               \n",
            "                                                                                                  \n",
            " embedding_16 (Embedding)       (None, None, 128)    2389632     ['input_17[0][0]']               \n",
            "                                                                                                  \n",
            " embedding_17 (Embedding)       (None, None, 128)    483328      ['input_18[0][0]']               \n",
            "                                                                                                  \n",
            " lstm_14 (LSTM)                 [(None, 32),         20608       ['embedding_16[0][0]']           \n",
            "                                 (None, 32),                                                      \n",
            "                                 (None, 32)]                                                      \n",
            "                                                                                                  \n",
            " lstm_15 (LSTM)                 [(None, None, 32),   20608       ['embedding_17[0][0]',           \n",
            "                                 (None, 32),                      'lstm_14[0][1]',                \n",
            "                                 (None, 32)]                      'lstm_14[0][2]']                \n",
            "                                                                                                  \n",
            " dense_26 (Dense)               (None, None, 32)     1056        ['lstm_15[0][0]']                \n",
            "                                                                                                  \n",
            " batch_normalization_12 (BatchN  (None, None, 32)    128         ['dense_26[0][0]']               \n",
            " ormalization)                                                                                    \n",
            "                                                                                                  \n",
            " dense_27 (Dense)               (None, None, 16)     528         ['batch_normalization_12[0][0]'] \n",
            "                                                                                                  \n",
            " batch_normalization_13 (BatchN  (None, None, 16)    64          ['dense_27[0][0]']               \n",
            " ormalization)                                                                                    \n",
            "                                                                                                  \n",
            " dense_28 (Dense)               (None, None, 8)      136         ['batch_normalization_13[0][0]'] \n",
            "                                                                                                  \n",
            " dense_29 (Dense)               (None, None, 3776)   33984       ['dense_28[0][0]']               \n",
            "                                                                                                  \n",
            "==================================================================================================\n",
            "Total params: 2,950,072\n",
            "Trainable params: 2,949,976\n",
            "Non-trainable params: 96\n",
            "__________________________________________________________________________________________________\n"
          ]
        }
      ],
      "source": [
        "# Input Encoder\n",
        "input_enc = tf.keras.layers.Input(shape=(None,))\n",
        "emb_enc = tf.keras.layers.Embedding(input_dim=jml_vocab_enc,\n",
        "                          output_dim=128,\n",
        "                          embeddings_initializer=\"uniform\",\n",
        "                          input_length=med_enc\n",
        "                          )(input_enc)\n",
        "lstm_enc, state_h, state_c = LSTM(32, return_state=True)(emb_enc)\n",
        "\n",
        "context_vector = [state_h, state_c]\n",
        "\n",
        "# Input Decoder\n",
        "input_dec = tf.keras.layers.Input(shape=(None,))\n",
        "emb_dec = Embedding(input_dim=jml_vocab_dec,\n",
        "                          output_dim=128,\n",
        "                          embeddings_initializer=\"uniform\",\n",
        "                          input_length=max_sen_len_dec\n",
        "                          )(input_dec)\n",
        "lstm_dec_imp = LSTM(32, return_state= True, return_sequences=True)\n",
        "lstm_dec1,_,_ = lstm_dec_imp(emb_dec, initial_state=context_vector)\n",
        "\n",
        "dense_1 = tf.keras.layers.Dense(32, activation='relu')\n",
        "dense1 = dense_1(lstm_dec1)\n",
        "layers_1 = tf.keras.layers.BatchNormalization()\n",
        "layers1 = layers_1(dense1)\n",
        "dense_2 = tf.keras.layers.Dense(16, activation='relu')\n",
        "dense1 = dense_2(layers1)\n",
        "layers_2 = tf.keras.layers.BatchNormalization()\n",
        "layers1 = layers_2(dense1)\n",
        "dense_3 = tf.keras.layers.Dense(8, activation='relu')\n",
        "dense1 = dense_3(layers1)\n",
        "output_gru = tf.keras.layers.Dense(jml_vocab_dec, activation='softmax')\n",
        "output1 = output_gru(dense1)\n",
        "\n",
        "\n",
        "model_imp2 = tf.keras.models.Model(inputs=[input_enc,input_dec],outputs=output1)\n",
        "\n",
        "model_imp2.summary()"
      ]
    },
    {
      "cell_type": "code",
      "execution_count": 40,
      "metadata": {},
      "outputs": [
        {
          "data": {
            "image/png": "[encoded data removed]",
            "text/plain": [
              "<IPython.core.display.Image object>"
            ]
          },
          "execution_count": 40,
          "metadata": {},
          "output_type": "execute_result"
        }
      ],
      "source": [
        "plot_model(model_imp2, to_file='model_plot.png', show_shapes=True, show_layer_names=True)   # plot model"
      ]
    },
    {
      "cell_type": "code",
      "execution_count": 44,
      "metadata": {},
      "outputs": [],
      "source": [
        "model_imp2.compile(loss='categorical_crossentropy',optimizer='adam',metrics='accuracy')"
      ]
    },
    {
      "cell_type": "code",
      "execution_count": 45,
      "metadata": {},
      "outputs": [
        {
          "name": "stdout",
          "output_type": "stream",
          "text": [
            "Epoch 1/20\n",
            "224/224 [==============================] - 88s 336ms/step - loss: 4.6211 - accuracy: 0.6150 - val_loss: 4.4581 - val_accuracy: 0.6607\n",
            "Epoch 2/20\n",
            "224/224 [==============================] - 84s 375ms/step - loss: 2.0109 - accuracy: 0.6552 - val_loss: 2.2391 - val_accuracy: 0.6528\n",
            "Epoch 3/20\n",
            "224/224 [==============================] - 87s 390ms/step - loss: 1.9130 - accuracy: 0.6556 - val_loss: 1.9238 - val_accuracy: 0.6527\n",
            "Epoch 4/20\n",
            "224/224 [==============================] - 84s 375ms/step - loss: 1.8797 - accuracy: 0.6556 - val_loss: 1.8954 - val_accuracy: 0.6528\n",
            "Epoch 5/20\n",
            "224/224 [==============================] - 71s 318ms/step - loss: 1.8510 - accuracy: 0.6561 - val_loss: 1.8917 - val_accuracy: 0.6531\n",
            "Epoch 6/20\n",
            "224/224 [==============================] - 74s 329ms/step - loss: 1.8225 - accuracy: 0.6578 - val_loss: 1.8483 - val_accuracy: 0.6574\n",
            "Epoch 7/20\n",
            "224/224 [==============================] - 86s 384ms/step - loss: 1.7943 - accuracy: 0.6605 - val_loss: 1.8229 - val_accuracy: 0.6608\n",
            "Epoch 8/20\n",
            "224/224 [==============================] - 81s 360ms/step - loss: 1.7505 - accuracy: 0.6641 - val_loss: 1.7799 - val_accuracy: 0.6630\n",
            "Epoch 9/20\n",
            "224/224 [==============================] - 81s 362ms/step - loss: 1.6752 - accuracy: 0.6724 - val_loss: 1.6878 - val_accuracy: 0.6789\n",
            "Epoch 10/20\n",
            "224/224 [==============================] - 85s 379ms/step - loss: 1.5974 - accuracy: 0.6880 - val_loss: 1.6364 - val_accuracy: 0.6888\n",
            "Epoch 11/20\n",
            "224/224 [==============================] - 78s 349ms/step - loss: 1.5369 - accuracy: 0.6997 - val_loss: 1.5806 - val_accuracy: 0.7023\n",
            "Epoch 12/20\n",
            "224/224 [==============================] - 82s 365ms/step - loss: 1.4741 - accuracy: 0.7127 - val_loss: 1.5295 - val_accuracy: 0.7120\n",
            "Epoch 13/20\n",
            "224/224 [==============================] - 78s 351ms/step - loss: 1.4127 - accuracy: 0.7221 - val_loss: 1.4812 - val_accuracy: 0.7190\n",
            "Epoch 14/20\n",
            "224/224 [==============================] - 75s 335ms/step - loss: 1.3200 - accuracy: 0.7394 - val_loss: 1.3995 - val_accuracy: 0.7392\n",
            "Epoch 15/20\n",
            "224/224 [==============================] - 73s 327ms/step - loss: 1.2399 - accuracy: 0.7505 - val_loss: 1.3366 - val_accuracy: 0.7459\n",
            "Epoch 16/20\n",
            "224/224 [==============================] - 69s 308ms/step - loss: 1.1751 - accuracy: 0.7582 - val_loss: 1.3064 - val_accuracy: 0.7506\n",
            "Epoch 17/20\n",
            "224/224 [==============================] - 72s 321ms/step - loss: 1.1193 - accuracy: 0.7670 - val_loss: 1.2683 - val_accuracy: 0.7585\n",
            "Epoch 18/20\n",
            "224/224 [==============================] - 73s 325ms/step - loss: 1.0676 - accuracy: 0.7768 - val_loss: 1.2445 - val_accuracy: 0.7641\n",
            "Epoch 19/20\n",
            "224/224 [==============================] - 80s 358ms/step - loss: 1.0176 - accuracy: 0.7846 - val_loss: 1.2227 - val_accuracy: 0.7686\n",
            "Epoch 20/20\n",
            "224/224 [==============================] - 76s 340ms/step - loss: 0.9736 - accuracy: 0.7912 - val_loss: 1.2017 - val_accuracy: 0.7710\n"
          ]
        }
      ],
      "source": [
        "history2 = model_imp2.fit(x=[padding_enc,padding_dec], y=target_, validation_split=0.2, batch_size=32, epochs=20)"
      ]
    },
    {
      "cell_type": "code",
      "execution_count": 46,
      "metadata": {},
      "outputs": [
        {
          "data": {
            "text/plain": [
              "Text(0.5, 0, 'Epoch')"
            ]
          },
          "execution_count": 46,
          "metadata": {},
          "output_type": "execute_result"
        },
        {
          "data": {
            "image/png": "[encoded data removed]",
            "text/plain": [
              "<Figure size 1152x360 with 2 Axes>"
            ]
          },
          "metadata": {
            "needs_background": "light"
          },
          "output_type": "display_data"
        }
      ],
      "source": [
        "epoch=20\n",
        "\n",
        "fig, ax = plt.subplots(ncols=2,figsize=(16,5))\n",
        "ax[0].plot(range(1,epoch+1),history2.history['loss'],label='loss')\n",
        "ax[0].plot(range(1,epoch+1),history2.history['val_loss'],label='val_loss')\n",
        "ax[0].set_title('Loss')\n",
        "ax[0].legend()\n",
        "ax[0].set_xlabel('Epoch')\n",
        "\n",
        "ax[1].plot(range(1,epoch+1),history2.history['accuracy'],label='accuracy')\n",
        "ax[1].plot(range(1,epoch+1),history2.history['val_accuracy'],label='val_accuracy')\n",
        "ax[1].set_title('Accuracy')\n",
        "ax[1].legend()\n",
        "ax[1].set_xlabel('Epoch')"
      ]
    },
    {
      "cell_type": "markdown",
      "metadata": {},
      "source": [
        "Jika dibandingkan dengan base model ternyata model yang di improve bisa dibilang memiliki performa yang kurang:\n",
        "\n",
        "| Base Model        | Loss      | Accuracy  |\n",
        "|  :---             |  :----:   |    :----: |\n",
        "| Train             | 0.9390    | 0.8055    |\n",
        "| Validation        | 1.0334    | 0.7905    |\n",
        "-\n",
        "| Improved Model    | Loss      | Accuracy  |\n",
        "|  :---             |  :----:   |    :----: |\n",
        "| Train             | 0.9736    | 0.7912    |\n",
        "| Validation        | 1.2017    | 0.7710    |\n",
        "\n",
        "Dengan begitu maka penulis memilih base model sebagai model yang akan dipakai lebih lanjut"
      ]
    },
    {
      "cell_type": "code",
      "execution_count": 56,
      "metadata": {},
      "outputs": [],
      "source": [
        "model1.save('model_base.h5')"
      ]
    },
    {
      "cell_type": "markdown",
      "metadata": {},
      "source": [
        "# Model Inference"
      ]
    },
    {
      "cell_type": "code",
      "execution_count": 71,
      "metadata": {},
      "outputs": [
        {
          "name": "stdout",
          "output_type": "stream",
          "text": [
            "Model: \"model_12\"\n",
            "_________________________________________________________________\n",
            " Layer (type)                Output Shape              Param #   \n",
            "=================================================================\n",
            " input_21 (InputLayer)       [(None, None)]            0         \n",
            "                                                                 \n",
            " embedding_20 (Embedding)    (None, None, 128)         2389632   \n",
            "                                                                 \n",
            " lstm_18 (LSTM)              [(None, 32),              20608     \n",
            "                              (None, 32),                        \n",
            "                              (None, 32)]                        \n",
            "                                                                 \n",
            "=================================================================\n",
            "Total params: 2,410,240\n",
            "Trainable params: 2,410,240\n",
            "Non-trainable params: 0\n",
            "_________________________________________________________________\n"
          ]
        }
      ],
      "source": [
        "# model encoder\n",
        "model_encoder = Model(input_enc_base,context_vector)\n",
        "model_encoder.summary()"
      ]
    },
    {
      "cell_type": "code",
      "execution_count": 80,
      "metadata": {},
      "outputs": [
        {
          "name": "stdout",
          "output_type": "stream",
          "text": [
            "WARNING:tensorflow:Compiled the loaded model, but the compiled metrics have yet to be built. `model.compile_metrics` will be empty until you train or evaluate the model.\n"
          ]
        }
      ],
      "source": [
        "model_encoder.save('model_encoder_new.h5')"
      ]
    },
    {
      "cell_type": "code",
      "execution_count": 72,
      "metadata": {},
      "outputs": [
        {
          "name": "stdout",
          "output_type": "stream",
          "text": [
            "Model: \"model_13\"\n",
            "__________________________________________________________________________________________________\n",
            " Layer (type)                   Output Shape         Param #     Connected to                     \n",
            "==================================================================================================\n",
            " input_22 (InputLayer)          [(None, None)]       0           []                               \n",
            "                                                                                                  \n",
            " embedding_21 (Embedding)       (None, None, 128)    483328      ['input_22[0][0]']               \n",
            "                                                                                                  \n",
            " input_23 (InputLayer)          [(None, 32)]         0           []                               \n",
            "                                                                                                  \n",
            " input_24 (InputLayer)          [(None, 32)]         0           []                               \n",
            "                                                                                                  \n",
            " lstm_19 (LSTM)                 [(None, None, 32),   20608       ['embedding_21[0][0]',           \n",
            "                                 (None, 32),                      'input_23[0][0]',               \n",
            "                                 (None, 32)]                      'input_24[0][0]']               \n",
            "                                                                                                  \n",
            " dense_26 (Dense)               (None, None, 32)     1056        ['lstm_19[1][0]']                \n",
            "                                                                                                  \n",
            " batch_normalization_12 (BatchN  (None, None, 32)    128         ['dense_26[1][0]']               \n",
            " ormalization)                                                                                    \n",
            "                                                                                                  \n",
            " dense_27 (Dense)               (None, None, 16)     528         ['batch_normalization_12[1][0]'] \n",
            "                                                                                                  \n",
            " batch_normalization_13 (BatchN  (None, None, 16)    64          ['dense_27[1][0]']               \n",
            " ormalization)                                                                                    \n",
            "                                                                                                  \n",
            " dense_28 (Dense)               (None, None, 8)      136         ['batch_normalization_13[1][0]'] \n",
            "                                                                                                  \n",
            " dense_29 (Dense)               (None, None, 3776)   33984       ['dense_28[1][0]']               \n",
            "                                                                                                  \n",
            "==================================================================================================\n",
            "Total params: 539,832\n",
            "Trainable params: 539,736\n",
            "Non-trainable params: 96\n",
            "__________________________________________________________________________________________________\n"
          ]
        }
      ],
      "source": [
        "\n",
        "# model decoder\n",
        "\n",
        "inp_decoder_state_h = tf.keras.layers.Input(shape=( 32 ,))\n",
        "inp_decoder_state_c = tf.keras.layers.Input(shape=( 32 ,))\n",
        "\n",
        "inp_decoder_states = [inp_decoder_state_h, inp_decoder_state_c]\n",
        "\n",
        "decoder_outputs, state_h, state_c = lstm_dec_base(emb_dec, inp_decoder_states)\n",
        "decoder_states = [state_h, state_c]\n",
        "\n",
        "layer_dec = dense_1(decoder_outputs)\n",
        "layer_dec = layers_1(layer_dec)\n",
        "layer_dec = dense_2(layer_dec)\n",
        "layer_dec = layers_2(layer_dec)\n",
        "layer_dec = dense_3(layer_dec)\n",
        "output_inf = output_gru(layer_dec)\n",
        "\n",
        "model_decoder = tf.keras.models.Model(inputs = [input_dec_base] + inp_decoder_states, outputs = [output_inf] + decoder_states)\n",
        "\n",
        "model_decoder.summary()"
      ]
    },
    {
      "cell_type": "code",
      "execution_count": 81,
      "metadata": {},
      "outputs": [
        {
          "name": "stdout",
          "output_type": "stream",
          "text": [
            "WARNING:tensorflow:Compiled the loaded model, but the compiled metrics have yet to be built. `model.compile_metrics` will be empty until you train or evaluate the model.\n"
          ]
        }
      ],
      "source": [
        "model_decoder.save('model_decoder_new.h5')"
      ]
    },
    {
      "cell_type": "code",
      "execution_count": 74,
      "metadata": {},
      "outputs": [],
      "source": [
        "model_encoder.trainable = True\n",
        "model_decoder.trainable = True"
      ]
    },
    {
      "cell_type": "code",
      "execution_count": 75,
      "metadata": {},
      "outputs": [],
      "source": [
        "jawaban = dict((v,k) for k,v in tokenize_decoder.word_index.items())"
      ]
    },
    {
      "cell_type": "code",
      "execution_count": 87,
      "metadata": {},
      "outputs": [],
      "source": [
        "pickle.dump(jawaban, open('jawaban_tokenize_decoder.pkl', 'wb'))"
      ]
    },
    {
      "cell_type": "code",
      "execution_count": 76,
      "metadata": {},
      "outputs": [
        {
          "name": "stdout",
          "output_type": "stream",
          "text": [
            "waitress waitress waitress waitress waitress waitress waitress waitress waitress waitress waitress waitress waitress waitress waitress waitress waitress waitress waitress waitress waitress waitress waitress waitress waitress waitress waitress waitress waitress waitress waitress waitress waitress waitress waitress waitress waitress waitress waitress waitress waitress waitress waitress waitress waitress waitress waitress waitress waitress waitress\n"
          ]
        }
      ],
      "source": [
        "inf = tokenize_encoder.texts_to_sequences([\"i like going to the lake\"])\n",
        "inf = pad_sequences( inf, maxlen=med_enc, padding='post' )\n",
        "\n",
        "state_inf = model_encoder.predict(inf,verbose=0)\n",
        "\n",
        "word = ''\n",
        "sentences = []\n",
        "target_seq = np.array([[tokenize_decoder.word_index['start']]])\n",
        "while True:\n",
        "  dec_out, h, c = model_decoder.predict([target_seq] + state_inf, verbose=0)\n",
        "\n",
        "  wd_id = np.argmax(dec_out[0][0])\n",
        "  word = jawaban[wd_id]\n",
        "  sentences.append(word)\n",
        "\n",
        "  target_seq = np.array([[wd_id]])\n",
        "  state_inf = [h,c]\n",
        "\n",
        "  if word == 'end' or len(sentences)>=50:\n",
        "    break\n",
        "if sentences[-1] == 'end':\n",
        "  print(' '.join(sentences[:-1]))\n",
        "\n",
        "else:\n",
        "  print(' '.join(sentences))"
      ]
    },
    {
      "cell_type": "code",
      "execution_count": 77,
      "metadata": {},
      "outputs": [
        {
          "data": {
            "text/plain": [
              "4"
            ]
          },
          "execution_count": 77,
          "metadata": {},
          "output_type": "execute_result"
        }
      ],
      "source": [
        "tokenize_decoder.word_index['start']"
      ]
    },
    {
      "cell_type": "markdown",
      "metadata": {},
      "source": [
        "# Conclusion\n",
        "\n",
        "Sayangnya dapat kita lihat model belum dapat memberikan output yang kita inginkan. Hal ini bisa terjadi karena memang nilai akurasi yang masih terbilang rendah dan loss yang terbilang tinggi. Terkait kekurangan dari skema model sequence to sequence dari beberapa paper menyatakan bahwa kekurangan yang paling besar adalah skema model ini sangat rentan terhadap variable sequence yang panjang. Dari paper-paper tersebut juga dapat diamati bahwa data training biasanya berupa input-input sederhana. Sedangkan jika kita lihat pada dataset ini panjang token dalam 1 baris bisa mencapai 448 buah. Dari paper tersebut juga dapat kita simpulkan skema model seq2seq sangat prone to information lost. Jika sequencenya panjang maka loss juga bisa semakin besar. Bahkan dalam paper tersebut lossnya lebih besar daripada model yang penulis buat ini. Dengan segala keterbatasan, diharapkan di masa depan dapat menemukan improvement yang paling optimal. \n",
        "\n",
        "Dalam pengerjaannya model sudah di improve berulang kali dengan hasil inference yang tidak konsisten sehingga perlu dilakukan tinjauan lebih lanjut. \n",
        "\n",
        "\n",
        "sumber paper:\n",
        "https://arxiv.org/ftp/arxiv/papers/2006/2006.02767.pdf\n",
        "https://www.researchgate.net/profile/Prassanna-Jayachandran/publication/341643048_Towards_Building_A_Neural_Conversation_Chatbot_Through_Seq2Seq_Model/links/5eccf6eea6fdcc90d699b89e/Towards-Building-A-Neural-Conversation-Chatbot-Through-Seq2Seq-Model.pdf"
      ]
    }
  ],
  "metadata": {
    "accelerator": "GPU",
    "colab": {
      "provenance": []
    },
    "kernelspec": {
      "display_name": "Python 3.9.12 ('base')",
      "language": "python",
      "name": "python3"
    },
    "language_info": {
      "codemirror_mode": {
        "name": "ipython",
        "version": 3
      },
      "file_extension": ".py",
      "mimetype": "text/x-python",
      "name": "python",
      "nbconvert_exporter": "python",
      "pygments_lexer": "ipython3",
      "version": "3.9.12"
    },
    "vscode": {
      "interpreter": {
        "hash": "916e4c36f1c77e641c78c5aec4d67a7d0f7bb4a72f03f76476ea0be2966b92cc"
      }
    }
  },
  "nbformat": 4,
  "nbformat_minor": 0
}
