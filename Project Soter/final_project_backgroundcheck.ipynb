{
 "cells": [
  {
   "cell_type": "markdown",
   "metadata": {},
   "source": [
    "# **SOTER: Quick ID & Background Checking for Credit Risk Analysis**"
   ]
  },
  {
   "cell_type": "markdown",
   "metadata": {},
   "source": [
    "## I. Introduction"
   ]
  },
  {
   "cell_type": "markdown",
   "metadata": {},
   "source": [
    "- Group 04\n",
    "- Group Members: Ronaldo Syahputra, Titian F. Prasasti, Daniel Satria, Prabaningrum H.B., Radyatra Sidharta\n",
    "- Batch: 001-HCK\n",
    "\n",
    "**This notebook is part of the final project in the Data Science bootcamp at Hacktiv8.**\n",
    "\n",
    "### a. Table of Content\n",
    "- I. Introduction\n",
    "    - a. Table of Content\n",
    "    - b. Problem Description\n",
    "    - c. Objective\n",
    "    - d. Problem Statement\n",
    "\n",
    "- II. Library Import\n",
    "\n",
    "- III. Data Loading\n",
    "\n",
    "- IV. Exploratory Data Analysis (EDA)\n",
    "    - a. Not-a-Number Handling\n",
    "    - b. Duplication Handling\n",
    "    - c. Class Balance Visualization\n",
    "\n",
    "- V. Data Preprocessing\n",
    "    - a. Feature Selection\n",
    "    - b. Class Balancing\n",
    "    - c. Splitting Dataset\n",
    "    - d. Outlier Handling\n",
    "    - e. Preprocessing Pipeline\n",
    "\n",
    "- VI. Machine Learning Model\n",
    "    - a. Random Forest\n",
    "    - b. Decision Tree\n",
    "    - c. AdaBoost\n",
    "    - d. LightGBM\n",
    "    - e. XGBoost  \n",
    "\n",
    "- VII. Model Saving\n",
    "\n",
    "- VIII. Model Inference\n",
    "\n",
    "- IX. Conclusion & Recommendation\n",
    "\n",
    "### b. Problem Description\n",
    "\n",
    "According to the OJK Fintech Lending Statistic Report 2021 and 2022 Bank Indonesia Banking Report, there is an increasing trend regarding any form of loan/credit application. It takes four to 14 workdays to review each application to determine whether the applications are accepted or declined. Most industries are using manual rule-based review which makes the reviewing process turn more costly. With such trends of increasing loan/credit applications combined with a time-consuming and high-cost reviewing process, Project Soter offers an integrated system that will accelerate the efficiency of the application review process utilizing machine learning algorithm. Within this system, we will build two types of models. The first one is the ID verification model that calculates whether the face of the prospective debtor's photo is matched with the photo on their ID and the second one is the background checking model that predicts whether the prospective debtor's application is accepted or declined. This notebook will contain spesifically the background checking model.\n",
    "\n",
    "### c. Objective\n",
    "\n",
    "Create a Machine Learning model that can determine whether a prospective loanee is eligible or not to be given a loan, based on their financial background, historical transactions.\n",
    "\n",
    "### d. Problem Statement\n",
    "\n",
    "The deliberation of accepting or rejecting a loan is still relatively lengthy, less efficient and expensive when compared to the growth of credit distribution, which continues to increase. In order to catch up with the increase in loan applications, a better system is needed to replace and/or work in conjunction with the already available resources."
   ]
  },
  {
   "cell_type": "markdown",
   "metadata": {},
   "source": [
    "## II. Library Import"
   ]
  },
  {
   "cell_type": "code",
   "execution_count": 7,
   "metadata": {},
   "outputs": [],
   "source": [
    "# Define Libraries\n",
    "import pandas as pd\n",
    "import numpy as np\n",
    "import matplotlib.pyplot as plt\n",
    "import seaborn as sns\n",
    "%matplotlib inline\n",
    "import pickle\n",
    "import tensorflow as tf\n",
    "\n",
    "import warnings\n",
    "warnings.filterwarnings('ignore')\n",
    "\n",
    "# For EDA\n",
    "from statistics import mode\n",
    "\n",
    "# For Feature Selection\n",
    "from sklearn.feature_selection import chi2\n",
    "from sklearn.feature_selection import SelectKBest\n",
    "\n",
    "# For Feature Encoding\n",
    "from sklearn.preprocessing import OneHotEncoder, OrdinalEncoder\n",
    "\n",
    "# For Feature Scaling\n",
    "from sklearn.preprocessing import RobustScaler, MinMaxScaler\n",
    "\n",
    "# For Machine Learning Models\n",
    "from sklearn.ensemble import RandomForestClassifier\n",
    "from sklearn.tree import DecisionTreeClassifier\n",
    "from sklearn.tree import export_graphviz\n",
    "from sklearn.ensemble import AdaBoostClassifier\n",
    "from lightgbm import LGBMClassifier\n",
    "from xgboost import XGBClassifier\n",
    "\n",
    "# Calculate the Variance Inflation Factor\n",
    "from statsmodels.stats.outliers_influence import variance_inflation_factor\n",
    "\n",
    "# Split between Train-Set and Test-Set\n",
    "from sklearn.model_selection import train_test_split\n",
    "\n",
    "# To Evaluate and Improve Models\n",
    "from sklearn import metrics\n",
    "from sklearn.metrics import accuracy_score,classification_report,ConfusionMatrixDisplay,confusion_matrix, roc_auc_score\n",
    "from sklearn.model_selection import cross_val_score\n",
    "from sklearn.model_selection import GridSearchCV\n",
    "from sklearn.pipeline import Pipeline\n",
    "from sklearn.compose import ColumnTransformer\n",
    "\n",
    "np.random.seed(42)\n",
    "tf.random.set_seed(42)"
   ]
  },
  {
   "cell_type": "markdown",
   "metadata": {},
   "source": [
    "## III. Data Loading"
   ]
  },
  {
   "cell_type": "code",
   "execution_count": 8,
   "metadata": {},
   "outputs": [
    {
     "data": {
      "text/html": [
       "<div>\n",
       "<style scoped>\n",
       "    .dataframe tbody tr th:only-of-type {\n",
       "        vertical-align: middle;\n",
       "    }\n",
       "\n",
       "    .dataframe tbody tr th {\n",
       "        vertical-align: top;\n",
       "    }\n",
       "\n",
       "    .dataframe thead th {\n",
       "        text-align: right;\n",
       "    }\n",
       "</style>\n",
       "<table border=\"1\" class=\"dataframe\">\n",
       "  <thead>\n",
       "    <tr style=\"text-align: right;\">\n",
       "      <th></th>\n",
       "      <th>id</th>\n",
       "      <th>member_id</th>\n",
       "      <th>loan_amnt</th>\n",
       "      <th>funded_amnt</th>\n",
       "      <th>funded_amnt_inv</th>\n",
       "      <th>term</th>\n",
       "      <th>int_rate</th>\n",
       "      <th>installment</th>\n",
       "      <th>grade</th>\n",
       "      <th>sub_grade</th>\n",
       "      <th>...</th>\n",
       "      <th>total_bal_il</th>\n",
       "      <th>il_util</th>\n",
       "      <th>open_rv_12m</th>\n",
       "      <th>open_rv_24m</th>\n",
       "      <th>max_bal_bc</th>\n",
       "      <th>all_util</th>\n",
       "      <th>total_rev_hi_lim</th>\n",
       "      <th>inq_fi</th>\n",
       "      <th>total_cu_tl</th>\n",
       "      <th>inq_last_12m</th>\n",
       "    </tr>\n",
       "  </thead>\n",
       "  <tbody>\n",
       "    <tr>\n",
       "      <th>0</th>\n",
       "      <td>1077501</td>\n",
       "      <td>1296599</td>\n",
       "      <td>5000.0</td>\n",
       "      <td>5000.0</td>\n",
       "      <td>4975.0</td>\n",
       "      <td>36 months</td>\n",
       "      <td>10.65</td>\n",
       "      <td>162.87</td>\n",
       "      <td>B</td>\n",
       "      <td>B2</td>\n",
       "      <td>...</td>\n",
       "      <td>NaN</td>\n",
       "      <td>NaN</td>\n",
       "      <td>NaN</td>\n",
       "      <td>NaN</td>\n",
       "      <td>NaN</td>\n",
       "      <td>NaN</td>\n",
       "      <td>NaN</td>\n",
       "      <td>NaN</td>\n",
       "      <td>NaN</td>\n",
       "      <td>NaN</td>\n",
       "    </tr>\n",
       "    <tr>\n",
       "      <th>1</th>\n",
       "      <td>1077430</td>\n",
       "      <td>1314167</td>\n",
       "      <td>2500.0</td>\n",
       "      <td>2500.0</td>\n",
       "      <td>2500.0</td>\n",
       "      <td>60 months</td>\n",
       "      <td>15.27</td>\n",
       "      <td>59.83</td>\n",
       "      <td>C</td>\n",
       "      <td>C4</td>\n",
       "      <td>...</td>\n",
       "      <td>NaN</td>\n",
       "      <td>NaN</td>\n",
       "      <td>NaN</td>\n",
       "      <td>NaN</td>\n",
       "      <td>NaN</td>\n",
       "      <td>NaN</td>\n",
       "      <td>NaN</td>\n",
       "      <td>NaN</td>\n",
       "      <td>NaN</td>\n",
       "      <td>NaN</td>\n",
       "    </tr>\n",
       "    <tr>\n",
       "      <th>2</th>\n",
       "      <td>1077175</td>\n",
       "      <td>1313524</td>\n",
       "      <td>2400.0</td>\n",
       "      <td>2400.0</td>\n",
       "      <td>2400.0</td>\n",
       "      <td>36 months</td>\n",
       "      <td>15.96</td>\n",
       "      <td>84.33</td>\n",
       "      <td>C</td>\n",
       "      <td>C5</td>\n",
       "      <td>...</td>\n",
       "      <td>NaN</td>\n",
       "      <td>NaN</td>\n",
       "      <td>NaN</td>\n",
       "      <td>NaN</td>\n",
       "      <td>NaN</td>\n",
       "      <td>NaN</td>\n",
       "      <td>NaN</td>\n",
       "      <td>NaN</td>\n",
       "      <td>NaN</td>\n",
       "      <td>NaN</td>\n",
       "    </tr>\n",
       "    <tr>\n",
       "      <th>3</th>\n",
       "      <td>1076863</td>\n",
       "      <td>1277178</td>\n",
       "      <td>10000.0</td>\n",
       "      <td>10000.0</td>\n",
       "      <td>10000.0</td>\n",
       "      <td>36 months</td>\n",
       "      <td>13.49</td>\n",
       "      <td>339.31</td>\n",
       "      <td>C</td>\n",
       "      <td>C1</td>\n",
       "      <td>...</td>\n",
       "      <td>NaN</td>\n",
       "      <td>NaN</td>\n",
       "      <td>NaN</td>\n",
       "      <td>NaN</td>\n",
       "      <td>NaN</td>\n",
       "      <td>NaN</td>\n",
       "      <td>NaN</td>\n",
       "      <td>NaN</td>\n",
       "      <td>NaN</td>\n",
       "      <td>NaN</td>\n",
       "    </tr>\n",
       "    <tr>\n",
       "      <th>4</th>\n",
       "      <td>1075358</td>\n",
       "      <td>1311748</td>\n",
       "      <td>3000.0</td>\n",
       "      <td>3000.0</td>\n",
       "      <td>3000.0</td>\n",
       "      <td>60 months</td>\n",
       "      <td>12.69</td>\n",
       "      <td>67.79</td>\n",
       "      <td>B</td>\n",
       "      <td>B5</td>\n",
       "      <td>...</td>\n",
       "      <td>NaN</td>\n",
       "      <td>NaN</td>\n",
       "      <td>NaN</td>\n",
       "      <td>NaN</td>\n",
       "      <td>NaN</td>\n",
       "      <td>NaN</td>\n",
       "      <td>NaN</td>\n",
       "      <td>NaN</td>\n",
       "      <td>NaN</td>\n",
       "      <td>NaN</td>\n",
       "    </tr>\n",
       "    <tr>\n",
       "      <th>...</th>\n",
       "      <td>...</td>\n",
       "      <td>...</td>\n",
       "      <td>...</td>\n",
       "      <td>...</td>\n",
       "      <td>...</td>\n",
       "      <td>...</td>\n",
       "      <td>...</td>\n",
       "      <td>...</td>\n",
       "      <td>...</td>\n",
       "      <td>...</td>\n",
       "      <td>...</td>\n",
       "      <td>...</td>\n",
       "      <td>...</td>\n",
       "      <td>...</td>\n",
       "      <td>...</td>\n",
       "      <td>...</td>\n",
       "      <td>...</td>\n",
       "      <td>...</td>\n",
       "      <td>...</td>\n",
       "      <td>...</td>\n",
       "      <td>...</td>\n",
       "    </tr>\n",
       "    <tr>\n",
       "      <th>887374</th>\n",
       "      <td>36371250</td>\n",
       "      <td>39102635</td>\n",
       "      <td>10000.0</td>\n",
       "      <td>10000.0</td>\n",
       "      <td>10000.0</td>\n",
       "      <td>36 months</td>\n",
       "      <td>11.99</td>\n",
       "      <td>332.10</td>\n",
       "      <td>B</td>\n",
       "      <td>B5</td>\n",
       "      <td>...</td>\n",
       "      <td>NaN</td>\n",
       "      <td>NaN</td>\n",
       "      <td>NaN</td>\n",
       "      <td>NaN</td>\n",
       "      <td>NaN</td>\n",
       "      <td>NaN</td>\n",
       "      <td>17100.0</td>\n",
       "      <td>NaN</td>\n",
       "      <td>NaN</td>\n",
       "      <td>NaN</td>\n",
       "    </tr>\n",
       "    <tr>\n",
       "      <th>887375</th>\n",
       "      <td>36441262</td>\n",
       "      <td>39152692</td>\n",
       "      <td>24000.0</td>\n",
       "      <td>24000.0</td>\n",
       "      <td>24000.0</td>\n",
       "      <td>36 months</td>\n",
       "      <td>11.99</td>\n",
       "      <td>797.03</td>\n",
       "      <td>B</td>\n",
       "      <td>B5</td>\n",
       "      <td>...</td>\n",
       "      <td>NaN</td>\n",
       "      <td>NaN</td>\n",
       "      <td>NaN</td>\n",
       "      <td>NaN</td>\n",
       "      <td>NaN</td>\n",
       "      <td>NaN</td>\n",
       "      <td>10200.0</td>\n",
       "      <td>NaN</td>\n",
       "      <td>NaN</td>\n",
       "      <td>NaN</td>\n",
       "    </tr>\n",
       "    <tr>\n",
       "      <th>887376</th>\n",
       "      <td>36271333</td>\n",
       "      <td>38982739</td>\n",
       "      <td>13000.0</td>\n",
       "      <td>13000.0</td>\n",
       "      <td>13000.0</td>\n",
       "      <td>60 months</td>\n",
       "      <td>15.99</td>\n",
       "      <td>316.07</td>\n",
       "      <td>D</td>\n",
       "      <td>D2</td>\n",
       "      <td>...</td>\n",
       "      <td>NaN</td>\n",
       "      <td>NaN</td>\n",
       "      <td>NaN</td>\n",
       "      <td>NaN</td>\n",
       "      <td>NaN</td>\n",
       "      <td>NaN</td>\n",
       "      <td>18000.0</td>\n",
       "      <td>NaN</td>\n",
       "      <td>NaN</td>\n",
       "      <td>NaN</td>\n",
       "    </tr>\n",
       "    <tr>\n",
       "      <th>887377</th>\n",
       "      <td>36490806</td>\n",
       "      <td>39222577</td>\n",
       "      <td>12000.0</td>\n",
       "      <td>12000.0</td>\n",
       "      <td>12000.0</td>\n",
       "      <td>60 months</td>\n",
       "      <td>19.99</td>\n",
       "      <td>317.86</td>\n",
       "      <td>E</td>\n",
       "      <td>E3</td>\n",
       "      <td>...</td>\n",
       "      <td>NaN</td>\n",
       "      <td>NaN</td>\n",
       "      <td>NaN</td>\n",
       "      <td>NaN</td>\n",
       "      <td>NaN</td>\n",
       "      <td>NaN</td>\n",
       "      <td>27000.0</td>\n",
       "      <td>NaN</td>\n",
       "      <td>NaN</td>\n",
       "      <td>NaN</td>\n",
       "    </tr>\n",
       "    <tr>\n",
       "      <th>887378</th>\n",
       "      <td>36271262</td>\n",
       "      <td>38982659</td>\n",
       "      <td>20000.0</td>\n",
       "      <td>20000.0</td>\n",
       "      <td>20000.0</td>\n",
       "      <td>36 months</td>\n",
       "      <td>11.99</td>\n",
       "      <td>664.20</td>\n",
       "      <td>B</td>\n",
       "      <td>B5</td>\n",
       "      <td>...</td>\n",
       "      <td>NaN</td>\n",
       "      <td>NaN</td>\n",
       "      <td>NaN</td>\n",
       "      <td>NaN</td>\n",
       "      <td>NaN</td>\n",
       "      <td>NaN</td>\n",
       "      <td>41700.0</td>\n",
       "      <td>NaN</td>\n",
       "      <td>NaN</td>\n",
       "      <td>NaN</td>\n",
       "    </tr>\n",
       "  </tbody>\n",
       "</table>\n",
       "<p>887379 rows × 74 columns</p>\n",
       "</div>"
      ],
      "text/plain": [
       "              id  member_id  loan_amnt  funded_amnt  funded_amnt_inv  \\\n",
       "0        1077501    1296599     5000.0       5000.0           4975.0   \n",
       "1        1077430    1314167     2500.0       2500.0           2500.0   \n",
       "2        1077175    1313524     2400.0       2400.0           2400.0   \n",
       "3        1076863    1277178    10000.0      10000.0          10000.0   \n",
       "4        1075358    1311748     3000.0       3000.0           3000.0   \n",
       "...          ...        ...        ...          ...              ...   \n",
       "887374  36371250   39102635    10000.0      10000.0          10000.0   \n",
       "887375  36441262   39152692    24000.0      24000.0          24000.0   \n",
       "887376  36271333   38982739    13000.0      13000.0          13000.0   \n",
       "887377  36490806   39222577    12000.0      12000.0          12000.0   \n",
       "887378  36271262   38982659    20000.0      20000.0          20000.0   \n",
       "\n",
       "              term  int_rate  installment grade sub_grade  ... total_bal_il  \\\n",
       "0        36 months     10.65       162.87     B        B2  ...          NaN   \n",
       "1        60 months     15.27        59.83     C        C4  ...          NaN   \n",
       "2        36 months     15.96        84.33     C        C5  ...          NaN   \n",
       "3        36 months     13.49       339.31     C        C1  ...          NaN   \n",
       "4        60 months     12.69        67.79     B        B5  ...          NaN   \n",
       "...            ...       ...          ...   ...       ...  ...          ...   \n",
       "887374   36 months     11.99       332.10     B        B5  ...          NaN   \n",
       "887375   36 months     11.99       797.03     B        B5  ...          NaN   \n",
       "887376   60 months     15.99       316.07     D        D2  ...          NaN   \n",
       "887377   60 months     19.99       317.86     E        E3  ...          NaN   \n",
       "887378   36 months     11.99       664.20     B        B5  ...          NaN   \n",
       "\n",
       "       il_util open_rv_12m  open_rv_24m max_bal_bc all_util total_rev_hi_lim  \\\n",
       "0          NaN         NaN          NaN        NaN      NaN              NaN   \n",
       "1          NaN         NaN          NaN        NaN      NaN              NaN   \n",
       "2          NaN         NaN          NaN        NaN      NaN              NaN   \n",
       "3          NaN         NaN          NaN        NaN      NaN              NaN   \n",
       "4          NaN         NaN          NaN        NaN      NaN              NaN   \n",
       "...        ...         ...          ...        ...      ...              ...   \n",
       "887374     NaN         NaN          NaN        NaN      NaN          17100.0   \n",
       "887375     NaN         NaN          NaN        NaN      NaN          10200.0   \n",
       "887376     NaN         NaN          NaN        NaN      NaN          18000.0   \n",
       "887377     NaN         NaN          NaN        NaN      NaN          27000.0   \n",
       "887378     NaN         NaN          NaN        NaN      NaN          41700.0   \n",
       "\n",
       "       inq_fi total_cu_tl inq_last_12m  \n",
       "0         NaN         NaN          NaN  \n",
       "1         NaN         NaN          NaN  \n",
       "2         NaN         NaN          NaN  \n",
       "3         NaN         NaN          NaN  \n",
       "4         NaN         NaN          NaN  \n",
       "...       ...         ...          ...  \n",
       "887374    NaN         NaN          NaN  \n",
       "887375    NaN         NaN          NaN  \n",
       "887376    NaN         NaN          NaN  \n",
       "887377    NaN         NaN          NaN  \n",
       "887378    NaN         NaN          NaN  \n",
       "\n",
       "[887379 rows x 74 columns]"
      ]
     },
     "execution_count": 8,
     "metadata": {},
     "output_type": "execute_result"
    }
   ],
   "source": [
    "# Loading the csv file using pd.read.\n",
    "df = pd.read_csv('loan.csv')\n",
    "df"
   ]
  },
  {
   "cell_type": "markdown",
   "metadata": {},
   "source": [
    "The dataset we have here is that gathered from a sources surrounding the Loaning industry in the United States of America. Although more intricate then what we can find here in Indonesia, the dataset still provides a unique insight on what is under deliberation when it comes to loaning, the advantages and disadvantages of the loaning process in the US compared to Indonesia, and what additions or improvements could be provided nationwide in the future.\n",
    "\n",
    "As displayed in the table above, we understand that there are about 880 thousand data samples in our dataset, with a corresponding 74 columns representing variables that may or may not be important for our model. The information present includes the account information of the loanees, as well as their financial and transaction history, followed by their loan information.\n",
    "\n",
    "Dataset Link: https://www.kaggle.com/datasets/ranadeep/credit-risk-dataset"
   ]
  },
  {
   "cell_type": "markdown",
   "metadata": {},
   "source": [
    "## IV. Exploratory Data Analysis (EDA)"
   ]
  },
  {
   "cell_type": "markdown",
   "metadata": {},
   "source": [
    "The Exploratory Data Analysis is done in conjunction with the Excel file entitled \"Feature Selection_Details\" in the \"Excel Files\" folder as part of the elaborate and detailed dive into our dataset. There, each of our columns are examined for their attributes, focusing mostly on their type, Not-a-Number (NaN) count, description, and other corresponding information. This analysis will then contribute to the Feature Selection decision which we will undertake in the following chapters. \n",
    "\n",
    "Columns included in our dataset are that of our independent variables (henceforth called \"Features\") and dependent variable (henceforth called \"Target\"). To elaborate, according to the link in which we obtained our dataset, columns beside \"loan_status\" is considered to be the features in our data. In the EDA, the manipulation of the dataset will not be done, rather we will only be cleaning it. This cleaning process includes the removal of NaNs / Nulls, duplicates, among other things."
   ]
  },
  {
   "cell_type": "markdown",
   "metadata": {},
   "source": [
    "### a. Not-a-Number (NaN) Detection"
   ]
  },
  {
   "cell_type": "markdown",
   "metadata": {},
   "source": [
    "Detecting and removing NaNs is a crucial first step to enable the working of our model. The reasoning behind this is because a Machine Learning model would only be able to train on numerical data. Hence, our model would not be able to process a NaN value. "
   ]
  },
  {
   "cell_type": "code",
   "execution_count": 9,
   "metadata": {},
   "outputs": [
    {
     "data": {
      "text/plain": [
       "dti_joint                      886870\n",
       "annual_inc_joint               886868\n",
       "verification_status_joint      886868\n",
       "il_util                        868762\n",
       "mths_since_rcnt_il             866569\n",
       "open_acc_6m                    866007\n",
       "open_il_6m                     866007\n",
       "open_il_12m                    866007\n",
       "open_il_24m                    866007\n",
       "total_bal_il                   866007\n",
       "inq_last_12m                   866007\n",
       "open_rv_12m                    866007\n",
       "open_rv_24m                    866007\n",
       "max_bal_bc                     866007\n",
       "all_util                       866007\n",
       "inq_fi                         866007\n",
       "total_cu_tl                    866007\n",
       "desc                           761351\n",
       "mths_since_last_record         750326\n",
       "mths_since_last_major_derog    665676\n",
       "mths_since_last_delinq         454312\n",
       "next_pymnt_d                   252971\n",
       "tot_coll_amt                    70276\n",
       "tot_cur_bal                     70276\n",
       "total_rev_hi_lim                70276\n",
       "emp_title                       51462\n",
       "emp_length                      44825\n",
       "last_pymnt_d                    17659\n",
       "revol_util                        502\n",
       "title                             152\n",
       "collections_12_mths_ex_med        145\n",
       "last_credit_pull_d                 53\n",
       "open_acc                           29\n",
       "pub_rec                            29\n",
       "total_acc                          29\n",
       "inq_last_6mths                     29\n",
       "earliest_cr_line                   29\n",
       "delinq_2yrs                        29\n",
       "acc_now_delinq                     29\n",
       "annual_inc                          4\n",
       "collection_recovery_fee             0\n",
       "application_type                    0\n",
       "policy_code                         0\n",
       "last_pymnt_amnt                     0\n",
       "id                                  0\n",
       "dtype: int64"
      ]
     },
     "execution_count": 9,
     "metadata": {},
     "output_type": "execute_result"
    }
   ],
   "source": [
    "# Syntax for detecting the NaNs in our dataset.\n",
    "df.isnull().sum().sort_values(ascending=False).head(45)"
   ]
  },
  {
   "cell_type": "markdown",
   "metadata": {},
   "source": [
    "From the information above, we can understand that several features in our dataset, about 40 to be exact, have NaNs in them. However, working together with aforementioned Excel file containing details on our features, we can determine which of them to drop and which to retain. Nevertheless, for extra precaution, we would also be conducting another search for NaN values. In this case, we will be looking for specific NaN values that cannot be detected by the syntax above."
   ]
  },
  {
   "cell_type": "code",
   "execution_count": 10,
   "metadata": {},
   "outputs": [
    {
     "data": {
      "text/plain": [
       "{'id': 0,\n",
       " 'member_id': 0,\n",
       " 'loan_amnt': 0,\n",
       " 'funded_amnt': 0,\n",
       " 'funded_amnt_inv': 0,\n",
       " 'term': 0,\n",
       " 'int_rate': 0,\n",
       " 'installment': 0,\n",
       " 'grade': 0,\n",
       " 'sub_grade': 0,\n",
       " 'emp_title': 0,\n",
       " 'emp_length': 0,\n",
       " 'home_ownership': 0,\n",
       " 'annual_inc': 0,\n",
       " 'verification_status': 0,\n",
       " 'issue_d': 0,\n",
       " 'loan_status': 0,\n",
       " 'pymnt_plan': 0,\n",
       " 'url': 0,\n",
       " 'desc': 246,\n",
       " 'purpose': 0,\n",
       " 'title': 0,\n",
       " 'zip_code': 0,\n",
       " 'addr_state': 0,\n",
       " 'dti': 0,\n",
       " 'delinq_2yrs': 0,\n",
       " 'earliest_cr_line': 0,\n",
       " 'inq_last_6mths': 0,\n",
       " 'mths_since_last_delinq': 0,\n",
       " 'mths_since_last_record': 0,\n",
       " 'open_acc': 0,\n",
       " 'pub_rec': 0,\n",
       " 'revol_bal': 0,\n",
       " 'revol_util': 0,\n",
       " 'total_acc': 0,\n",
       " 'initial_list_status': 0,\n",
       " 'out_prncp': 0,\n",
       " 'out_prncp_inv': 0,\n",
       " 'total_pymnt': 0,\n",
       " 'total_pymnt_inv': 0,\n",
       " 'total_rec_prncp': 0,\n",
       " 'total_rec_int': 0,\n",
       " 'total_rec_late_fee': 0,\n",
       " 'recoveries': 0,\n",
       " 'collection_recovery_fee': 0,\n",
       " 'last_pymnt_d': 0,\n",
       " 'last_pymnt_amnt': 0,\n",
       " 'next_pymnt_d': 0,\n",
       " 'last_credit_pull_d': 0,\n",
       " 'collections_12_mths_ex_med': 0,\n",
       " 'mths_since_last_major_derog': 0,\n",
       " 'policy_code': 0,\n",
       " 'application_type': 0,\n",
       " 'annual_inc_joint': 0,\n",
       " 'dti_joint': 0,\n",
       " 'verification_status_joint': 0,\n",
       " 'acc_now_delinq': 0,\n",
       " 'tot_coll_amt': 0,\n",
       " 'tot_cur_bal': 0,\n",
       " 'open_acc_6m': 0,\n",
       " 'open_il_6m': 0,\n",
       " 'open_il_12m': 0,\n",
       " 'open_il_24m': 0,\n",
       " 'mths_since_rcnt_il': 0,\n",
       " 'total_bal_il': 0,\n",
       " 'il_util': 0,\n",
       " 'open_rv_12m': 0,\n",
       " 'open_rv_24m': 0,\n",
       " 'max_bal_bc': 0,\n",
       " 'all_util': 0,\n",
       " 'total_rev_hi_lim': 0,\n",
       " 'inq_fi': 0,\n",
       " 'total_cu_tl': 0,\n",
       " 'inq_last_12m': 0}"
      ]
     },
     "execution_count": 10,
     "metadata": {},
     "output_type": "execute_result"
    }
   ],
   "source": [
    "# Additional forms of anomalies that we need to detect in our dataset.\n",
    "anomalous_entries = {}\n",
    "\n",
    "for x in list(df.columns):\n",
    "    anomalous_entries[x] = 0\n",
    "    for y in df[x]:\n",
    "        if y in ['NaN', 'N/A', '--', '-', 'Null', '?', ' ']: # These are the specific NaN values we will be looking for.\n",
    "            anomalous_entries[x] = anomalous_entries[x] + 1\n",
    "\n",
    "anomalous_entries"
   ]
  },
  {
   "cell_type": "markdown",
   "metadata": {},
   "source": [
    "Here, we observe that only the feature \"desc\" have such anomalies mentioned above. However, looking closely, we can ascertain that this column is not a feature, but rather bears irrelevant information to our target. There are other columns in our dataset that serves as a label or as the same purpose as \"desc\". Therefore, we will be removing them later on during Feature Selection in the Data Processing process."
   ]
  },
  {
   "cell_type": "markdown",
   "metadata": {},
   "source": [
    "### b. Duplication Handling"
   ]
  },
  {
   "cell_type": "markdown",
   "metadata": {},
   "source": [
    "Aside from finding NaNs in our dataset, it is equally important that we look for duplications as well. Removing duplicates in our data will decrease the noise, and hence, the margin of error of our model, improving performance."
   ]
  },
  {
   "cell_type": "code",
   "execution_count": 11,
   "metadata": {},
   "outputs": [
    {
     "data": {
      "text/plain": [
       "0         False\n",
       "591590    False\n",
       "591579    False\n",
       "591580    False\n",
       "591581    False\n",
       "          ...  \n",
       "295796    False\n",
       "295797    False\n",
       "295798    False\n",
       "295799    False\n",
       "887378    False\n",
       "Length: 887379, dtype: bool"
      ]
     },
     "execution_count": 11,
     "metadata": {},
     "output_type": "execute_result"
    }
   ],
   "source": [
    "# Detecting duplicates in our data.\n",
    "df_dupl = df.duplicated()\n",
    "df_dupl.sort_values(ascending=False) "
   ]
  },
  {
   "cell_type": "markdown",
   "metadata": {},
   "source": [
    "From the information above, we could ascertain that there no duplicates in our data."
   ]
  },
  {
   "cell_type": "markdown",
   "metadata": {},
   "source": [
    "### c. Class Balance Visualization"
   ]
  },
  {
   "cell_type": "markdown",
   "metadata": {},
   "source": [
    "As stated before, we would find that the column \"loan_Status\" is considered to be our target. However, if we look back to the objective of this notebook, we could understand that we are looking for a decision that is binary, which in our case is to accept or reject a loan. Unfortunately, our dataset has more than two classes to begin with, as seen below."
   ]
  },
  {
   "cell_type": "code",
   "execution_count": 12,
   "metadata": {},
   "outputs": [
    {
     "name": "stdout",
     "output_type": "stream",
     "text": [
      "Class Balance:  Current                                                601779\n",
      "Fully Paid                                             207723\n",
      "Charged Off                                             45248\n",
      "Late (31-120 days)                                      11591\n",
      "Issued                                                   8460\n",
      "In Grace Period                                          6253\n",
      "Late (16-30 days)                                        2357\n",
      "Does not meet the credit policy. Status:Fully Paid       1988\n",
      "Default                                                  1219\n",
      "Does not meet the credit policy. Status:Charged Off       761\n",
      "Name: loan_status, dtype: int64\n"
     ]
    },
    {
     "data": {
      "image/png": "[encoded data removed]",
      "text/plain": [
       "<Figure size 432x288 with 1 Axes>"
      ]
     },
     "metadata": {
      "needs_background": "light"
     },
     "output_type": "display_data"
    }
   ],
   "source": [
    "df['loan_status'].value_counts().plot(kind='bar')\n",
    "print(\"Class Balance: \", df['loan_status'].value_counts())"
   ]
  },
  {
   "cell_type": "markdown",
   "metadata": {},
   "source": [
    "Therefore, we would need to convert and combine these classes with one another, to have an output of only two. "
   ]
  },
  {
   "cell_type": "markdown",
   "metadata": {},
   "source": [
    "## V. Data Preprocessing"
   ]
  },
  {
   "cell_type": "markdown",
   "metadata": {},
   "source": [
    "Data preprocessing is an important step in enabling our model to train on our data. Here, it is important that all our data samples / entries are converted into numerical values. However, such steps would differ according to the types of samples we have."
   ]
  },
  {
   "cell_type": "code",
   "execution_count": 13,
   "metadata": {},
   "outputs": [
    {
     "data": {
      "text/plain": [
       "id                    int64\n",
       "member_id             int64\n",
       "loan_amnt           float64\n",
       "funded_amnt         float64\n",
       "funded_amnt_inv     float64\n",
       "                     ...   \n",
       "all_util            float64\n",
       "total_rev_hi_lim    float64\n",
       "inq_fi              float64\n",
       "total_cu_tl         float64\n",
       "inq_last_12m        float64\n",
       "Length: 74, dtype: object"
      ]
     },
     "execution_count": 13,
     "metadata": {},
     "output_type": "execute_result"
    }
   ],
   "source": [
    "df.dtypes"
   ]
  },
  {
   "cell_type": "markdown",
   "metadata": {},
   "source": [
    "With a combination of integers, float, and object (string / non-numerical) types of variables in our dataset, we would be using processes such as Scaling (to standardize / normalize the numerical values) and Encoding (to convert categorical / non-numerical values to numbers). Nevertheless, a pivotal step before conducting both scaling and encoding would be to first conduct a Feature Selection and, of course, the splitting of our dataset, the flow of which is determined according to the needs of every project. In this case, we will be doing feature selection first before the splitting."
   ]
  },
  {
   "cell_type": "markdown",
   "metadata": {},
   "source": [
    "### a. Feature Selection"
   ]
  },
  {
   "cell_type": "markdown",
   "metadata": {},
   "source": [
    "With about 800 thousand samples and 70 features, it our machine learning model would take a considerable amount of time and computer resource to train and test on our dataset. Therefore, the feature selection procedure is established to lessen such impacts, and works by using statistical processes to find the correlation of our features to our target in terms of magnitude.\n",
    "\n",
    "However, it is important to remember that the selection of features alone should not depend solely on these statistics. Intuition and the facts we have regarding each features would also be a solid basis in such deliberations."
   ]
  },
  {
   "cell_type": "code",
   "execution_count": 15,
   "metadata": {},
   "outputs": [],
   "source": [
    "# Defining new dataframe and selecting the features without or with acceptable amounts of NaNs. \n",
    "df1 = df[['tot_coll_amt', 'tot_cur_bal', 'total_rev_hi_lim', 'emp_length', 'revol_util', 'delinq_2yrs', 'inq_last_6mths',\n",
    "'open_acc', 'pub_rec', 'total_acc', 'acc_now_delinq', 'collection_recovery_fee', 'application_type', 'last_pymnt_amnt', 'recoveries', 'pymnt_plan',\n",
    "'loan_amnt', 'funded_amnt', 'funded_amnt_inv', 'term', 'int_rate', 'installment', 'grade', 'sub_grade', 'home_ownership', 'verification_status',\n",
    "'total_rec_late_fee', 'purpose', 'revol_bal', 'initial_list_status', 'out_prncp', 'total_pymnt', 'total_pymnt_inv', 'total_rec_prncp', 'total_rec_int',\n",
    "'out_prncp_inv', 'loan_status']]"
   ]
  },
  {
   "cell_type": "code",
   "execution_count": 16,
   "metadata": {},
   "outputs": [],
   "source": [
    "# Splitting dataframe into three categories: Numerical, Categorical (Nominal), and Categorical (Ordinal)\n",
    "df_nominal = df1[['application_type', 'term', 'home_ownership', 'verification_status', 'purpose', 'initial_list_status']]\n",
    "df_ordinal = df1[['emp_length', 'grade', 'sub_grade']]\n",
    "df_num = df1[['tot_coll_amt', 'tot_cur_bal', 'total_rev_hi_lim', 'revol_util', 'delinq_2yrs', 'inq_last_6mths',\n",
    "'open_acc', 'pub_rec', 'total_acc', 'acc_now_delinq', 'collection_recovery_fee', 'last_pymnt_amnt', 'recoveries', 'pymnt_plan',\n",
    "'loan_amnt', 'funded_amnt', 'funded_amnt_inv', 'int_rate', 'installment',\n",
    "'total_rec_late_fee', 'revol_bal', 'out_prncp', 'total_pymnt', 'total_pymnt_inv', 'total_rec_prncp', 'total_rec_int',\n",
    "'out_prncp_inv', 'loan_status']]"
   ]
  },
  {
   "cell_type": "markdown",
   "metadata": {},
   "source": [
    "This early dataframe splitting is done for the sole purpose of feature selection, where each sets will be encoded or scaled according to their types. The processed dataframes we obtain afterwards will not be used in the next processes / chapters. \n",
    "\n",
    "Clarification on why the dataframe is split into three categories:\n",
    "\n",
    "- The nominal dataframe is used to One Hot Encode categorical data that are non-hierarchical (no levels) in nature.\n",
    "- The ordinal dataframe is used to Ordinal Encode categorical data that are hierarchical in nature.\n",
    "- The numerical dataframe is used to Scale numerical data.\n",
    "\n",
    "To make sense of this, we provide the following tables to compare these three categories."
   ]
  },
  {
   "cell_type": "code",
   "execution_count": 22,
   "metadata": {},
   "outputs": [
    {
     "data": {
      "text/html": [
       "<div>\n",
       "<style scoped>\n",
       "    .dataframe tbody tr th:only-of-type {\n",
       "        vertical-align: middle;\n",
       "    }\n",
       "\n",
       "    .dataframe tbody tr th {\n",
       "        vertical-align: top;\n",
       "    }\n",
       "\n",
       "    .dataframe thead th {\n",
       "        text-align: right;\n",
       "    }\n",
       "</style>\n",
       "<table border=\"1\" class=\"dataframe\">\n",
       "  <thead>\n",
       "    <tr style=\"text-align: right;\">\n",
       "      <th></th>\n",
       "      <th>application_type</th>\n",
       "      <th>term</th>\n",
       "      <th>home_ownership</th>\n",
       "      <th>verification_status</th>\n",
       "      <th>purpose</th>\n",
       "      <th>initial_list_status</th>\n",
       "    </tr>\n",
       "  </thead>\n",
       "  <tbody>\n",
       "    <tr>\n",
       "      <th>342833</th>\n",
       "      <td>INDIVIDUAL</td>\n",
       "      <td>60 months</td>\n",
       "      <td>MORTGAGE</td>\n",
       "      <td>Verified</td>\n",
       "      <td>debt_consolidation</td>\n",
       "      <td>w</td>\n",
       "    </tr>\n",
       "    <tr>\n",
       "      <th>209428</th>\n",
       "      <td>INDIVIDUAL</td>\n",
       "      <td>36 months</td>\n",
       "      <td>RENT</td>\n",
       "      <td>Verified</td>\n",
       "      <td>wedding</td>\n",
       "      <td>f</td>\n",
       "    </tr>\n",
       "    <tr>\n",
       "      <th>268768</th>\n",
       "      <td>INDIVIDUAL</td>\n",
       "      <td>36 months</td>\n",
       "      <td>MORTGAGE</td>\n",
       "      <td>Not Verified</td>\n",
       "      <td>debt_consolidation</td>\n",
       "      <td>f</td>\n",
       "    </tr>\n",
       "    <tr>\n",
       "      <th>218911</th>\n",
       "      <td>INDIVIDUAL</td>\n",
       "      <td>36 months</td>\n",
       "      <td>OWN</td>\n",
       "      <td>Not Verified</td>\n",
       "      <td>home_improvement</td>\n",
       "      <td>f</td>\n",
       "    </tr>\n",
       "    <tr>\n",
       "      <th>517742</th>\n",
       "      <td>INDIVIDUAL</td>\n",
       "      <td>36 months</td>\n",
       "      <td>MORTGAGE</td>\n",
       "      <td>Source Verified</td>\n",
       "      <td>home_improvement</td>\n",
       "      <td>w</td>\n",
       "    </tr>\n",
       "  </tbody>\n",
       "</table>\n",
       "</div>"
      ],
      "text/plain": [
       "       application_type        term home_ownership verification_status  \\\n",
       "342833       INDIVIDUAL   60 months       MORTGAGE            Verified   \n",
       "209428       INDIVIDUAL   36 months           RENT            Verified   \n",
       "268768       INDIVIDUAL   36 months       MORTGAGE        Not Verified   \n",
       "218911       INDIVIDUAL   36 months            OWN        Not Verified   \n",
       "517742       INDIVIDUAL   36 months       MORTGAGE     Source Verified   \n",
       "\n",
       "                   purpose initial_list_status  \n",
       "342833  debt_consolidation                   w  \n",
       "209428             wedding                   f  \n",
       "268768  debt_consolidation                   f  \n",
       "218911    home_improvement                   f  \n",
       "517742    home_improvement                   w  "
      ]
     },
     "execution_count": 22,
     "metadata": {},
     "output_type": "execute_result"
    }
   ],
   "source": [
    "df_nominal.sample(5)"
   ]
  },
  {
   "cell_type": "code",
   "execution_count": 24,
   "metadata": {},
   "outputs": [
    {
     "data": {
      "text/html": [
       "<div>\n",
       "<style scoped>\n",
       "    .dataframe tbody tr th:only-of-type {\n",
       "        vertical-align: middle;\n",
       "    }\n",
       "\n",
       "    .dataframe tbody tr th {\n",
       "        vertical-align: top;\n",
       "    }\n",
       "\n",
       "    .dataframe thead th {\n",
       "        text-align: right;\n",
       "    }\n",
       "</style>\n",
       "<table border=\"1\" class=\"dataframe\">\n",
       "  <thead>\n",
       "    <tr style=\"text-align: right;\">\n",
       "      <th></th>\n",
       "      <th>emp_length</th>\n",
       "      <th>grade</th>\n",
       "      <th>sub_grade</th>\n",
       "    </tr>\n",
       "  </thead>\n",
       "  <tbody>\n",
       "    <tr>\n",
       "      <th>403467</th>\n",
       "      <td>8 years</td>\n",
       "      <td>B</td>\n",
       "      <td>B4</td>\n",
       "    </tr>\n",
       "    <tr>\n",
       "      <th>881989</th>\n",
       "      <td>6 years</td>\n",
       "      <td>E</td>\n",
       "      <td>E3</td>\n",
       "    </tr>\n",
       "    <tr>\n",
       "      <th>773332</th>\n",
       "      <td>2 years</td>\n",
       "      <td>D</td>\n",
       "      <td>D1</td>\n",
       "    </tr>\n",
       "    <tr>\n",
       "      <th>236111</th>\n",
       "      <td>8 years</td>\n",
       "      <td>F</td>\n",
       "      <td>F3</td>\n",
       "    </tr>\n",
       "    <tr>\n",
       "      <th>154979</th>\n",
       "      <td>3 years</td>\n",
       "      <td>B</td>\n",
       "      <td>B4</td>\n",
       "    </tr>\n",
       "  </tbody>\n",
       "</table>\n",
       "</div>"
      ],
      "text/plain": [
       "       emp_length grade sub_grade\n",
       "403467    8 years     B        B4\n",
       "881989    6 years     E        E3\n",
       "773332    2 years     D        D1\n",
       "236111    8 years     F        F3\n",
       "154979    3 years     B        B4"
      ]
     },
     "execution_count": 24,
     "metadata": {},
     "output_type": "execute_result"
    }
   ],
   "source": [
    "df_ordinal.sample(5)"
   ]
  },
  {
   "cell_type": "code",
   "execution_count": 25,
   "metadata": {},
   "outputs": [
    {
     "data": {
      "text/html": [
       "<div>\n",
       "<style scoped>\n",
       "    .dataframe tbody tr th:only-of-type {\n",
       "        vertical-align: middle;\n",
       "    }\n",
       "\n",
       "    .dataframe tbody tr th {\n",
       "        vertical-align: top;\n",
       "    }\n",
       "\n",
       "    .dataframe thead th {\n",
       "        text-align: right;\n",
       "    }\n",
       "</style>\n",
       "<table border=\"1\" class=\"dataframe\">\n",
       "  <thead>\n",
       "    <tr style=\"text-align: right;\">\n",
       "      <th></th>\n",
       "      <th>tot_coll_amt</th>\n",
       "      <th>tot_cur_bal</th>\n",
       "      <th>total_rev_hi_lim</th>\n",
       "      <th>revol_util</th>\n",
       "      <th>delinq_2yrs</th>\n",
       "      <th>inq_last_6mths</th>\n",
       "      <th>open_acc</th>\n",
       "      <th>pub_rec</th>\n",
       "      <th>total_acc</th>\n",
       "      <th>acc_now_delinq</th>\n",
       "      <th>...</th>\n",
       "      <th>installment</th>\n",
       "      <th>total_rec_late_fee</th>\n",
       "      <th>revol_bal</th>\n",
       "      <th>out_prncp</th>\n",
       "      <th>total_pymnt</th>\n",
       "      <th>total_pymnt_inv</th>\n",
       "      <th>total_rec_prncp</th>\n",
       "      <th>total_rec_int</th>\n",
       "      <th>out_prncp_inv</th>\n",
       "      <th>loan_status</th>\n",
       "    </tr>\n",
       "  </thead>\n",
       "  <tbody>\n",
       "    <tr>\n",
       "      <th>99579</th>\n",
       "      <td>30.0</td>\n",
       "      <td>255157.0</td>\n",
       "      <td>7200.0</td>\n",
       "      <td>88.2</td>\n",
       "      <td>0.0</td>\n",
       "      <td>0.0</td>\n",
       "      <td>8.0</td>\n",
       "      <td>0.0</td>\n",
       "      <td>29.0</td>\n",
       "      <td>0.0</td>\n",
       "      <td>...</td>\n",
       "      <td>568.90</td>\n",
       "      <td>0.0</td>\n",
       "      <td>6347.0</td>\n",
       "      <td>14596.40</td>\n",
       "      <td>15927.800000</td>\n",
       "      <td>15893.21</td>\n",
       "      <td>8403.60</td>\n",
       "      <td>7524.20</td>\n",
       "      <td>14564.66</td>\n",
       "      <td>Current</td>\n",
       "    </tr>\n",
       "    <tr>\n",
       "      <th>660813</th>\n",
       "      <td>54.0</td>\n",
       "      <td>149731.0</td>\n",
       "      <td>24400.0</td>\n",
       "      <td>9.1</td>\n",
       "      <td>0.0</td>\n",
       "      <td>0.0</td>\n",
       "      <td>7.0</td>\n",
       "      <td>0.0</td>\n",
       "      <td>10.0</td>\n",
       "      <td>0.0</td>\n",
       "      <td>...</td>\n",
       "      <td>150.58</td>\n",
       "      <td>0.0</td>\n",
       "      <td>2217.0</td>\n",
       "      <td>4352.22</td>\n",
       "      <td>751.420000</td>\n",
       "      <td>751.42</td>\n",
       "      <td>647.78</td>\n",
       "      <td>103.64</td>\n",
       "      <td>4352.22</td>\n",
       "      <td>Current</td>\n",
       "    </tr>\n",
       "    <tr>\n",
       "      <th>192796</th>\n",
       "      <td>0.0</td>\n",
       "      <td>231265.0</td>\n",
       "      <td>37700.0</td>\n",
       "      <td>77.2</td>\n",
       "      <td>0.0</td>\n",
       "      <td>0.0</td>\n",
       "      <td>5.0</td>\n",
       "      <td>0.0</td>\n",
       "      <td>12.0</td>\n",
       "      <td>0.0</td>\n",
       "      <td>...</td>\n",
       "      <td>725.33</td>\n",
       "      <td>0.0</td>\n",
       "      <td>29103.0</td>\n",
       "      <td>0.00</td>\n",
       "      <td>25056.659043</td>\n",
       "      <td>25056.66</td>\n",
       "      <td>21800.00</td>\n",
       "      <td>3256.66</td>\n",
       "      <td>0.00</td>\n",
       "      <td>Fully Paid</td>\n",
       "    </tr>\n",
       "    <tr>\n",
       "      <th>402011</th>\n",
       "      <td>0.0</td>\n",
       "      <td>26321.0</td>\n",
       "      <td>22700.0</td>\n",
       "      <td>45.9</td>\n",
       "      <td>0.0</td>\n",
       "      <td>0.0</td>\n",
       "      <td>8.0</td>\n",
       "      <td>0.0</td>\n",
       "      <td>21.0</td>\n",
       "      <td>0.0</td>\n",
       "      <td>...</td>\n",
       "      <td>476.30</td>\n",
       "      <td>0.0</td>\n",
       "      <td>10428.0</td>\n",
       "      <td>7160.95</td>\n",
       "      <td>9526.000000</td>\n",
       "      <td>9526.00</td>\n",
       "      <td>7839.05</td>\n",
       "      <td>1686.95</td>\n",
       "      <td>7160.95</td>\n",
       "      <td>Current</td>\n",
       "    </tr>\n",
       "    <tr>\n",
       "      <th>56561</th>\n",
       "      <td>0.0</td>\n",
       "      <td>333103.0</td>\n",
       "      <td>41600.0</td>\n",
       "      <td>43.1</td>\n",
       "      <td>0.0</td>\n",
       "      <td>0.0</td>\n",
       "      <td>10.0</td>\n",
       "      <td>0.0</td>\n",
       "      <td>31.0</td>\n",
       "      <td>0.0</td>\n",
       "      <td>...</td>\n",
       "      <td>552.67</td>\n",
       "      <td>0.0</td>\n",
       "      <td>17919.0</td>\n",
       "      <td>0.00</td>\n",
       "      <td>18722.793078</td>\n",
       "      <td>18696.79</td>\n",
       "      <td>18000.00</td>\n",
       "      <td>722.79</td>\n",
       "      <td>0.00</td>\n",
       "      <td>Fully Paid</td>\n",
       "    </tr>\n",
       "  </tbody>\n",
       "</table>\n",
       "<p>5 rows × 28 columns</p>\n",
       "</div>"
      ],
      "text/plain": [
       "        tot_coll_amt  tot_cur_bal  total_rev_hi_lim  revol_util  delinq_2yrs  \\\n",
       "99579           30.0     255157.0            7200.0        88.2          0.0   \n",
       "660813          54.0     149731.0           24400.0         9.1          0.0   \n",
       "192796           0.0     231265.0           37700.0        77.2          0.0   \n",
       "402011           0.0      26321.0           22700.0        45.9          0.0   \n",
       "56561            0.0     333103.0           41600.0        43.1          0.0   \n",
       "\n",
       "        inq_last_6mths  open_acc  pub_rec  total_acc  acc_now_delinq  ...  \\\n",
       "99579              0.0       8.0      0.0       29.0             0.0  ...   \n",
       "660813             0.0       7.0      0.0       10.0             0.0  ...   \n",
       "192796             0.0       5.0      0.0       12.0             0.0  ...   \n",
       "402011             0.0       8.0      0.0       21.0             0.0  ...   \n",
       "56561              0.0      10.0      0.0       31.0             0.0  ...   \n",
       "\n",
       "        installment  total_rec_late_fee  revol_bal out_prncp   total_pymnt  \\\n",
       "99579        568.90                 0.0     6347.0  14596.40  15927.800000   \n",
       "660813       150.58                 0.0     2217.0   4352.22    751.420000   \n",
       "192796       725.33                 0.0    29103.0      0.00  25056.659043   \n",
       "402011       476.30                 0.0    10428.0   7160.95   9526.000000   \n",
       "56561        552.67                 0.0    17919.0      0.00  18722.793078   \n",
       "\n",
       "        total_pymnt_inv  total_rec_prncp  total_rec_int  out_prncp_inv  \\\n",
       "99579          15893.21          8403.60        7524.20       14564.66   \n",
       "660813           751.42           647.78         103.64        4352.22   \n",
       "192796         25056.66         21800.00        3256.66           0.00   \n",
       "402011          9526.00          7839.05        1686.95        7160.95   \n",
       "56561          18696.79         18000.00         722.79           0.00   \n",
       "\n",
       "        loan_status  \n",
       "99579       Current  \n",
       "660813      Current  \n",
       "192796   Fully Paid  \n",
       "402011      Current  \n",
       "56561    Fully Paid  \n",
       "\n",
       "[5 rows x 28 columns]"
      ]
     },
     "execution_count": 25,
     "metadata": {},
     "output_type": "execute_result"
    }
   ],
   "source": [
    "df_num.sample(5)"
   ]
  },
  {
   "cell_type": "markdown",
   "metadata": {},
   "source": [
    "We will now move on to the feature selection. Here, we will be using K-Best Score to determine which features to retain and which to drop. "
   ]
  },
  {
   "cell_type": "code",
   "execution_count": 26,
   "metadata": {},
   "outputs": [],
   "source": [
    "# Converting Multiclass Target into Binary (Accepted Loan or Rejected Loan) for the purpose of Feature Selection.\n",
    "df_num.replace({'Fully Paid' : 0, 'Charged Off' : 1, 'Current':0, 'Default':1,\n",
    "       'Late (31-120 days)' : 1, 'In Grace Period':0, 'Late (16-30 days)':0,\n",
    "       'Does not meet the credit policy. Status:Fully Paid': 0,\n",
    "       'Does not meet the credit policy. Status:Charged Off': 1, 'Issued':0}, inplace=True)"
   ]
  },
  {
   "cell_type": "code",
   "execution_count": 27,
   "metadata": {},
   "outputs": [],
   "source": [
    "# Defining the Scaler and Encoders to be used.\n",
    "scaler = MinMaxScaler\n",
    "ordinal_encoder = OrdinalEncoder()\n",
    "nominal_encoder = OneHotEncoder()"
   ]
  },
  {
   "cell_type": "code",
   "execution_count": 31,
   "metadata": {},
   "outputs": [
    {
     "data": {
      "text/html": [
       "<div>\n",
       "<style scoped>\n",
       "    .dataframe tbody tr th:only-of-type {\n",
       "        vertical-align: middle;\n",
       "    }\n",
       "\n",
       "    .dataframe tbody tr th {\n",
       "        vertical-align: top;\n",
       "    }\n",
       "\n",
       "    .dataframe thead th {\n",
       "        text-align: right;\n",
       "    }\n",
       "</style>\n",
       "<table border=\"1\" class=\"dataframe\">\n",
       "  <thead>\n",
       "    <tr style=\"text-align: right;\">\n",
       "      <th></th>\n",
       "      <th>0</th>\n",
       "      <th>1</th>\n",
       "      <th>2</th>\n",
       "    </tr>\n",
       "  </thead>\n",
       "  <tbody>\n",
       "    <tr>\n",
       "      <th>0</th>\n",
       "      <td>1.0</td>\n",
       "      <td>1.0</td>\n",
       "      <td>6.0</td>\n",
       "    </tr>\n",
       "    <tr>\n",
       "      <th>1</th>\n",
       "      <td>10.0</td>\n",
       "      <td>2.0</td>\n",
       "      <td>13.0</td>\n",
       "    </tr>\n",
       "    <tr>\n",
       "      <th>2</th>\n",
       "      <td>1.0</td>\n",
       "      <td>2.0</td>\n",
       "      <td>14.0</td>\n",
       "    </tr>\n",
       "    <tr>\n",
       "      <th>3</th>\n",
       "      <td>1.0</td>\n",
       "      <td>2.0</td>\n",
       "      <td>10.0</td>\n",
       "    </tr>\n",
       "    <tr>\n",
       "      <th>4</th>\n",
       "      <td>0.0</td>\n",
       "      <td>1.0</td>\n",
       "      <td>9.0</td>\n",
       "    </tr>\n",
       "  </tbody>\n",
       "</table>\n",
       "</div>"
      ],
      "text/plain": [
       "      0    1     2\n",
       "0   1.0  1.0   6.0\n",
       "1  10.0  2.0  13.0\n",
       "2   1.0  2.0  14.0\n",
       "3   1.0  2.0  10.0\n",
       "4   0.0  1.0   9.0"
      ]
     },
     "execution_count": 31,
     "metadata": {},
     "output_type": "execute_result"
    }
   ],
   "source": [
    "# Encoding ordinal dataframe.\n",
    "df_ordinal_encoded = pd.DataFrame(ordinal_encoder.fit_transform(df_ordinal))\n",
    "df_ordinal_encoded.head()"
   ]
  },
  {
   "cell_type": "markdown",
   "metadata": {},
   "source": [
    "The categorical features emp_length, grade, and sub_grade has now been converted as such above."
   ]
  },
  {
   "cell_type": "code",
   "execution_count": 30,
   "metadata": {},
   "outputs": [
    {
     "data": {
      "text/html": [
       "<div>\n",
       "<style scoped>\n",
       "    .dataframe tbody tr th:only-of-type {\n",
       "        vertical-align: middle;\n",
       "    }\n",
       "\n",
       "    .dataframe tbody tr th {\n",
       "        vertical-align: top;\n",
       "    }\n",
       "\n",
       "    .dataframe thead th {\n",
       "        text-align: right;\n",
       "    }\n",
       "</style>\n",
       "<table border=\"1\" class=\"dataframe\">\n",
       "  <thead>\n",
       "    <tr style=\"text-align: right;\">\n",
       "      <th></th>\n",
       "      <th>0</th>\n",
       "      <th>1</th>\n",
       "      <th>2</th>\n",
       "      <th>3</th>\n",
       "      <th>4</th>\n",
       "      <th>5</th>\n",
       "      <th>6</th>\n",
       "      <th>7</th>\n",
       "      <th>8</th>\n",
       "      <th>9</th>\n",
       "      <th>...</th>\n",
       "      <th>19</th>\n",
       "      <th>20</th>\n",
       "      <th>21</th>\n",
       "      <th>22</th>\n",
       "      <th>23</th>\n",
       "      <th>24</th>\n",
       "      <th>25</th>\n",
       "      <th>26</th>\n",
       "      <th>27</th>\n",
       "      <th>28</th>\n",
       "    </tr>\n",
       "  </thead>\n",
       "  <tbody>\n",
       "    <tr>\n",
       "      <th>0</th>\n",
       "      <td>1.0</td>\n",
       "      <td>0.0</td>\n",
       "      <td>1.0</td>\n",
       "      <td>0.0</td>\n",
       "      <td>0.0</td>\n",
       "      <td>0.0</td>\n",
       "      <td>0.0</td>\n",
       "      <td>0.0</td>\n",
       "      <td>0.0</td>\n",
       "      <td>1.0</td>\n",
       "      <td>...</td>\n",
       "      <td>0.0</td>\n",
       "      <td>0.0</td>\n",
       "      <td>0.0</td>\n",
       "      <td>0.0</td>\n",
       "      <td>0.0</td>\n",
       "      <td>0.0</td>\n",
       "      <td>0.0</td>\n",
       "      <td>0.0</td>\n",
       "      <td>1.0</td>\n",
       "      <td>0.0</td>\n",
       "    </tr>\n",
       "    <tr>\n",
       "      <th>1</th>\n",
       "      <td>1.0</td>\n",
       "      <td>0.0</td>\n",
       "      <td>0.0</td>\n",
       "      <td>1.0</td>\n",
       "      <td>0.0</td>\n",
       "      <td>0.0</td>\n",
       "      <td>0.0</td>\n",
       "      <td>0.0</td>\n",
       "      <td>0.0</td>\n",
       "      <td>1.0</td>\n",
       "      <td>...</td>\n",
       "      <td>0.0</td>\n",
       "      <td>0.0</td>\n",
       "      <td>0.0</td>\n",
       "      <td>0.0</td>\n",
       "      <td>0.0</td>\n",
       "      <td>0.0</td>\n",
       "      <td>0.0</td>\n",
       "      <td>0.0</td>\n",
       "      <td>1.0</td>\n",
       "      <td>0.0</td>\n",
       "    </tr>\n",
       "    <tr>\n",
       "      <th>2</th>\n",
       "      <td>1.0</td>\n",
       "      <td>0.0</td>\n",
       "      <td>1.0</td>\n",
       "      <td>0.0</td>\n",
       "      <td>0.0</td>\n",
       "      <td>0.0</td>\n",
       "      <td>0.0</td>\n",
       "      <td>0.0</td>\n",
       "      <td>0.0</td>\n",
       "      <td>1.0</td>\n",
       "      <td>...</td>\n",
       "      <td>0.0</td>\n",
       "      <td>0.0</td>\n",
       "      <td>0.0</td>\n",
       "      <td>0.0</td>\n",
       "      <td>0.0</td>\n",
       "      <td>1.0</td>\n",
       "      <td>0.0</td>\n",
       "      <td>0.0</td>\n",
       "      <td>1.0</td>\n",
       "      <td>0.0</td>\n",
       "    </tr>\n",
       "    <tr>\n",
       "      <th>3</th>\n",
       "      <td>1.0</td>\n",
       "      <td>0.0</td>\n",
       "      <td>1.0</td>\n",
       "      <td>0.0</td>\n",
       "      <td>0.0</td>\n",
       "      <td>0.0</td>\n",
       "      <td>0.0</td>\n",
       "      <td>0.0</td>\n",
       "      <td>0.0</td>\n",
       "      <td>1.0</td>\n",
       "      <td>...</td>\n",
       "      <td>0.0</td>\n",
       "      <td>0.0</td>\n",
       "      <td>0.0</td>\n",
       "      <td>1.0</td>\n",
       "      <td>0.0</td>\n",
       "      <td>0.0</td>\n",
       "      <td>0.0</td>\n",
       "      <td>0.0</td>\n",
       "      <td>1.0</td>\n",
       "      <td>0.0</td>\n",
       "    </tr>\n",
       "    <tr>\n",
       "      <th>4</th>\n",
       "      <td>1.0</td>\n",
       "      <td>0.0</td>\n",
       "      <td>0.0</td>\n",
       "      <td>1.0</td>\n",
       "      <td>0.0</td>\n",
       "      <td>0.0</td>\n",
       "      <td>0.0</td>\n",
       "      <td>0.0</td>\n",
       "      <td>0.0</td>\n",
       "      <td>1.0</td>\n",
       "      <td>...</td>\n",
       "      <td>0.0</td>\n",
       "      <td>0.0</td>\n",
       "      <td>0.0</td>\n",
       "      <td>1.0</td>\n",
       "      <td>0.0</td>\n",
       "      <td>0.0</td>\n",
       "      <td>0.0</td>\n",
       "      <td>0.0</td>\n",
       "      <td>1.0</td>\n",
       "      <td>0.0</td>\n",
       "    </tr>\n",
       "  </tbody>\n",
       "</table>\n",
       "<p>5 rows × 29 columns</p>\n",
       "</div>"
      ],
      "text/plain": [
       "    0    1    2    3    4    5    6    7    8    9   ...   19   20   21   22  \\\n",
       "0  1.0  0.0  1.0  0.0  0.0  0.0  0.0  0.0  0.0  1.0  ...  0.0  0.0  0.0  0.0   \n",
       "1  1.0  0.0  0.0  1.0  0.0  0.0  0.0  0.0  0.0  1.0  ...  0.0  0.0  0.0  0.0   \n",
       "2  1.0  0.0  1.0  0.0  0.0  0.0  0.0  0.0  0.0  1.0  ...  0.0  0.0  0.0  0.0   \n",
       "3  1.0  0.0  1.0  0.0  0.0  0.0  0.0  0.0  0.0  1.0  ...  0.0  0.0  0.0  1.0   \n",
       "4  1.0  0.0  0.0  1.0  0.0  0.0  0.0  0.0  0.0  1.0  ...  0.0  0.0  0.0  1.0   \n",
       "\n",
       "    23   24   25   26   27   28  \n",
       "0  0.0  0.0  0.0  0.0  1.0  0.0  \n",
       "1  0.0  0.0  0.0  0.0  1.0  0.0  \n",
       "2  0.0  1.0  0.0  0.0  1.0  0.0  \n",
       "3  0.0  0.0  0.0  0.0  1.0  0.0  \n",
       "4  0.0  0.0  0.0  0.0  1.0  0.0  \n",
       "\n",
       "[5 rows x 29 columns]"
      ]
     },
     "execution_count": 30,
     "metadata": {},
     "output_type": "execute_result"
    }
   ],
   "source": [
    "# Encoding nominal dataframe\n",
    "df_nominal_encoded = pd.DataFrame(nominal_encoder.fit_transform(df_nominal).toarray())\n",
    "df_nominal_encoded.head()"
   ]
  },
  {
   "cell_type": "markdown",
   "metadata": {},
   "source": [
    "Below, we will be attempting to make sense of the nominally encoded features we have in the table above. Note that each unique values inside one feature has now become their own column. For example, the feature application type has been split into two new columns \"0\" and \"1\", with \"0\" representing INDIVIDUAL and \"1\" representing JOINT. The input in any of those columns represents False (0) and True (1)."
   ]
  },
  {
   "cell_type": "code",
   "execution_count": 32,
   "metadata": {},
   "outputs": [
    {
     "data": {
      "text/plain": [
       "array(['INDIVIDUAL', 'JOINT'], dtype=object)"
      ]
     },
     "execution_count": 32,
     "metadata": {},
     "output_type": "execute_result"
    }
   ],
   "source": [
    "df1['application_type'].unique()"
   ]
  },
  {
   "cell_type": "code",
   "execution_count": 33,
   "metadata": {},
   "outputs": [
    {
     "data": {
      "text/plain": [
       "array([' 36 months', ' 60 months'], dtype=object)"
      ]
     },
     "execution_count": 33,
     "metadata": {},
     "output_type": "execute_result"
    }
   ],
   "source": [
    "df1['term'].unique()"
   ]
  },
  {
   "cell_type": "code",
   "execution_count": 34,
   "metadata": {},
   "outputs": [
    {
     "data": {
      "text/plain": [
       "array(['RENT', 'OWN', 'MORTGAGE', 'OTHER', 'NONE', 'ANY'], dtype=object)"
      ]
     },
     "execution_count": 34,
     "metadata": {},
     "output_type": "execute_result"
    }
   ],
   "source": [
    "df1['home_ownership'].unique()"
   ]
  },
  {
   "cell_type": "code",
   "execution_count": 35,
   "metadata": {},
   "outputs": [
    {
     "data": {
      "text/plain": [
       "array(['Verified', 'Source Verified', 'Not Verified'], dtype=object)"
      ]
     },
     "execution_count": 35,
     "metadata": {},
     "output_type": "execute_result"
    }
   ],
   "source": [
    "df1['verification_status'].unique()"
   ]
  },
  {
   "cell_type": "code",
   "execution_count": 36,
   "metadata": {},
   "outputs": [
    {
     "data": {
      "text/plain": [
       "array(['credit_card', 'car', 'small_business', 'other', 'wedding',\n",
       "       'debt_consolidation', 'home_improvement', 'major_purchase',\n",
       "       'medical', 'moving', 'vacation', 'house', 'renewable_energy',\n",
       "       'educational'], dtype=object)"
      ]
     },
     "execution_count": 36,
     "metadata": {},
     "output_type": "execute_result"
    }
   ],
   "source": [
    "df1['purpose'].unique()"
   ]
  },
  {
   "cell_type": "code",
   "execution_count": 37,
   "metadata": {},
   "outputs": [
    {
     "data": {
      "text/plain": [
       "array(['f', 'w'], dtype=object)"
      ]
     },
     "execution_count": 37,
     "metadata": {},
     "output_type": "execute_result"
    }
   ],
   "source": [
    "df1['initial_list_status'].unique()"
   ]
  },
  {
   "cell_type": "code",
   "execution_count": 38,
   "metadata": {},
   "outputs": [],
   "source": [
    "df_nominal_encoded.columns = ['columns_1', 'columns_2', 'columns_3', 'columns_4', 'columns_5', 'columns_6', 'columns_7', 'columns_8', \n",
    "'columns_9', 'columns_10', 'columns_11', 'columns_12', 'columns_13', 'columns_14', 'columns_15', 'columns_16', 'columns_17', 'columns_18', 'columns_19', 'columns_20', 'columns_21', 'columns_22', 'columns_23', 'columns_24', 'columns_25', 'columns_26', 'columns_27', 'columns_28', 'columns_29' ]"
   ]
  },
  {
   "cell_type": "code",
   "execution_count": 39,
   "metadata": {},
   "outputs": [
    {
     "data": {
      "text/html": [
       "<div>\n",
       "<style scoped>\n",
       "    .dataframe tbody tr th:only-of-type {\n",
       "        vertical-align: middle;\n",
       "    }\n",
       "\n",
       "    .dataframe tbody tr th {\n",
       "        vertical-align: top;\n",
       "    }\n",
       "\n",
       "    .dataframe thead th {\n",
       "        text-align: right;\n",
       "    }\n",
       "</style>\n",
       "<table border=\"1\" class=\"dataframe\">\n",
       "  <thead>\n",
       "    <tr style=\"text-align: right;\">\n",
       "      <th></th>\n",
       "      <th>42535</th>\n",
       "      <th>42536</th>\n",
       "      <th>42537</th>\n",
       "      <th>42538</th>\n",
       "      <th>42539</th>\n",
       "    </tr>\n",
       "  </thead>\n",
       "  <tbody>\n",
       "    <tr>\n",
       "      <th>tot_coll_amt</th>\n",
       "      <td>0.0</td>\n",
       "      <td>0.0</td>\n",
       "      <td>0.0</td>\n",
       "      <td>15386.0</td>\n",
       "      <td>1514.0</td>\n",
       "    </tr>\n",
       "    <tr>\n",
       "      <th>tot_cur_bal</th>\n",
       "      <td>114834.0</td>\n",
       "      <td>14123.0</td>\n",
       "      <td>267646.0</td>\n",
       "      <td>13605.0</td>\n",
       "      <td>272492.0</td>\n",
       "    </tr>\n",
       "    <tr>\n",
       "      <th>total_rev_hi_lim</th>\n",
       "      <td>59900.0</td>\n",
       "      <td>15100.0</td>\n",
       "      <td>61100.0</td>\n",
       "      <td>8100.0</td>\n",
       "      <td>15400.0</td>\n",
       "    </tr>\n",
       "    <tr>\n",
       "      <th>revol_util</th>\n",
       "      <td>61.2</td>\n",
       "      <td>52.8</td>\n",
       "      <td>21.6</td>\n",
       "      <td>68.8</td>\n",
       "      <td>74.2</td>\n",
       "    </tr>\n",
       "    <tr>\n",
       "      <th>delinq_2yrs</th>\n",
       "      <td>0.0</td>\n",
       "      <td>0.0</td>\n",
       "      <td>0.0</td>\n",
       "      <td>0.0</td>\n",
       "      <td>0.0</td>\n",
       "    </tr>\n",
       "    <tr>\n",
       "      <th>inq_last_6mths</th>\n",
       "      <td>0.0</td>\n",
       "      <td>0.0</td>\n",
       "      <td>1.0</td>\n",
       "      <td>0.0</td>\n",
       "      <td>0.0</td>\n",
       "    </tr>\n",
       "    <tr>\n",
       "      <th>open_acc</th>\n",
       "      <td>14.0</td>\n",
       "      <td>12.0</td>\n",
       "      <td>12.0</td>\n",
       "      <td>7.0</td>\n",
       "      <td>8.0</td>\n",
       "    </tr>\n",
       "    <tr>\n",
       "      <th>pub_rec</th>\n",
       "      <td>0.0</td>\n",
       "      <td>0.0</td>\n",
       "      <td>0.0</td>\n",
       "      <td>2.0</td>\n",
       "      <td>0.0</td>\n",
       "    </tr>\n",
       "    <tr>\n",
       "      <th>total_acc</th>\n",
       "      <td>27.0</td>\n",
       "      <td>28.0</td>\n",
       "      <td>22.0</td>\n",
       "      <td>32.0</td>\n",
       "      <td>29.0</td>\n",
       "    </tr>\n",
       "    <tr>\n",
       "      <th>acc_now_delinq</th>\n",
       "      <td>0.0</td>\n",
       "      <td>0.0</td>\n",
       "      <td>0.0</td>\n",
       "      <td>0.0</td>\n",
       "      <td>0.0</td>\n",
       "    </tr>\n",
       "    <tr>\n",
       "      <th>collection_recovery_fee</th>\n",
       "      <td>0.0</td>\n",
       "      <td>0.0</td>\n",
       "      <td>0.0</td>\n",
       "      <td>0.0</td>\n",
       "      <td>0.0</td>\n",
       "    </tr>\n",
       "    <tr>\n",
       "      <th>last_pymnt_amnt</th>\n",
       "      <td>885.46</td>\n",
       "      <td>333.14</td>\n",
       "      <td>368.45</td>\n",
       "      <td>119.17</td>\n",
       "      <td>476.3</td>\n",
       "    </tr>\n",
       "    <tr>\n",
       "      <th>recoveries</th>\n",
       "      <td>0.0</td>\n",
       "      <td>0.0</td>\n",
       "      <td>0.0</td>\n",
       "      <td>0.0</td>\n",
       "      <td>0.0</td>\n",
       "    </tr>\n",
       "    <tr>\n",
       "      <th>pymnt_plan</th>\n",
       "      <td>n</td>\n",
       "      <td>n</td>\n",
       "      <td>n</td>\n",
       "      <td>n</td>\n",
       "      <td>n</td>\n",
       "    </tr>\n",
       "    <tr>\n",
       "      <th>loan_amnt</th>\n",
       "      <td>27050.0</td>\n",
       "      <td>9750.0</td>\n",
       "      <td>12000.0</td>\n",
       "      <td>12000.0</td>\n",
       "      <td>15000.0</td>\n",
       "    </tr>\n",
       "    <tr>\n",
       "      <th>funded_amnt</th>\n",
       "      <td>27050.0</td>\n",
       "      <td>9750.0</td>\n",
       "      <td>12000.0</td>\n",
       "      <td>12000.0</td>\n",
       "      <td>15000.0</td>\n",
       "    </tr>\n",
       "    <tr>\n",
       "      <th>funded_amnt_inv</th>\n",
       "      <td>27050.0</td>\n",
       "      <td>9750.0</td>\n",
       "      <td>12000.0</td>\n",
       "      <td>12000.0</td>\n",
       "      <td>15000.0</td>\n",
       "    </tr>\n",
       "    <tr>\n",
       "      <th>int_rate</th>\n",
       "      <td>10.99</td>\n",
       "      <td>13.98</td>\n",
       "      <td>6.62</td>\n",
       "      <td>13.53</td>\n",
       "      <td>8.9</td>\n",
       "    </tr>\n",
       "    <tr>\n",
       "      <th>installment</th>\n",
       "      <td>885.46</td>\n",
       "      <td>333.14</td>\n",
       "      <td>368.45</td>\n",
       "      <td>407.4</td>\n",
       "      <td>476.3</td>\n",
       "    </tr>\n",
       "    <tr>\n",
       "      <th>total_rec_late_fee</th>\n",
       "      <td>0.0</td>\n",
       "      <td>0.0</td>\n",
       "      <td>0.0</td>\n",
       "      <td>0.0</td>\n",
       "      <td>0.0</td>\n",
       "    </tr>\n",
       "    <tr>\n",
       "      <th>revol_bal</th>\n",
       "      <td>36638.0</td>\n",
       "      <td>7967.0</td>\n",
       "      <td>13168.0</td>\n",
       "      <td>5572.0</td>\n",
       "      <td>11431.0</td>\n",
       "    </tr>\n",
       "    <tr>\n",
       "      <th>out_prncp</th>\n",
       "      <td>10018.9</td>\n",
       "      <td>3710.96</td>\n",
       "      <td>4266.62</td>\n",
       "      <td>0.0</td>\n",
       "      <td>5449.27</td>\n",
       "    </tr>\n",
       "    <tr>\n",
       "      <th>total_pymnt</th>\n",
       "      <td>21251.04</td>\n",
       "      <td>7994.83</td>\n",
       "      <td>8842.8</td>\n",
       "      <td>13359.77</td>\n",
       "      <td>11431.2</td>\n",
       "    </tr>\n",
       "    <tr>\n",
       "      <th>total_pymnt_inv</th>\n",
       "      <td>21251.04</td>\n",
       "      <td>7994.83</td>\n",
       "      <td>8842.8</td>\n",
       "      <td>13359.77</td>\n",
       "      <td>11431.2</td>\n",
       "    </tr>\n",
       "    <tr>\n",
       "      <th>total_rec_prncp</th>\n",
       "      <td>17031.1</td>\n",
       "      <td>6039.04</td>\n",
       "      <td>7733.38</td>\n",
       "      <td>11999.99</td>\n",
       "      <td>9550.73</td>\n",
       "    </tr>\n",
       "    <tr>\n",
       "      <th>total_rec_int</th>\n",
       "      <td>4219.94</td>\n",
       "      <td>1955.79</td>\n",
       "      <td>1109.42</td>\n",
       "      <td>1359.78</td>\n",
       "      <td>1880.47</td>\n",
       "    </tr>\n",
       "    <tr>\n",
       "      <th>out_prncp_inv</th>\n",
       "      <td>10018.9</td>\n",
       "      <td>3710.96</td>\n",
       "      <td>4266.62</td>\n",
       "      <td>0.0</td>\n",
       "      <td>5449.27</td>\n",
       "    </tr>\n",
       "    <tr>\n",
       "      <th>loan_status</th>\n",
       "      <td>0</td>\n",
       "      <td>0</td>\n",
       "      <td>0</td>\n",
       "      <td>0</td>\n",
       "      <td>0</td>\n",
       "    </tr>\n",
       "    <tr>\n",
       "      <th>0</th>\n",
       "      <td>1.0</td>\n",
       "      <td>0.0</td>\n",
       "      <td>1.0</td>\n",
       "      <td>1.0</td>\n",
       "      <td>2.0</td>\n",
       "    </tr>\n",
       "    <tr>\n",
       "      <th>1</th>\n",
       "      <td>1.0</td>\n",
       "      <td>2.0</td>\n",
       "      <td>0.0</td>\n",
       "      <td>1.0</td>\n",
       "      <td>0.0</td>\n",
       "    </tr>\n",
       "    <tr>\n",
       "      <th>2</th>\n",
       "      <td>6.0</td>\n",
       "      <td>10.0</td>\n",
       "      <td>1.0</td>\n",
       "      <td>9.0</td>\n",
       "      <td>4.0</td>\n",
       "    </tr>\n",
       "    <tr>\n",
       "      <th>columns_1</th>\n",
       "      <td>1.0</td>\n",
       "      <td>1.0</td>\n",
       "      <td>1.0</td>\n",
       "      <td>1.0</td>\n",
       "      <td>1.0</td>\n",
       "    </tr>\n",
       "    <tr>\n",
       "      <th>columns_2</th>\n",
       "      <td>0.0</td>\n",
       "      <td>0.0</td>\n",
       "      <td>0.0</td>\n",
       "      <td>0.0</td>\n",
       "      <td>0.0</td>\n",
       "    </tr>\n",
       "    <tr>\n",
       "      <th>columns_3</th>\n",
       "      <td>1.0</td>\n",
       "      <td>1.0</td>\n",
       "      <td>1.0</td>\n",
       "      <td>1.0</td>\n",
       "      <td>1.0</td>\n",
       "    </tr>\n",
       "    <tr>\n",
       "      <th>columns_4</th>\n",
       "      <td>0.0</td>\n",
       "      <td>0.0</td>\n",
       "      <td>0.0</td>\n",
       "      <td>0.0</td>\n",
       "      <td>0.0</td>\n",
       "    </tr>\n",
       "    <tr>\n",
       "      <th>columns_5</th>\n",
       "      <td>0.0</td>\n",
       "      <td>0.0</td>\n",
       "      <td>0.0</td>\n",
       "      <td>0.0</td>\n",
       "      <td>0.0</td>\n",
       "    </tr>\n",
       "    <tr>\n",
       "      <th>columns_6</th>\n",
       "      <td>0.0</td>\n",
       "      <td>0.0</td>\n",
       "      <td>1.0</td>\n",
       "      <td>0.0</td>\n",
       "      <td>1.0</td>\n",
       "    </tr>\n",
       "    <tr>\n",
       "      <th>columns_7</th>\n",
       "      <td>0.0</td>\n",
       "      <td>0.0</td>\n",
       "      <td>0.0</td>\n",
       "      <td>0.0</td>\n",
       "      <td>0.0</td>\n",
       "    </tr>\n",
       "    <tr>\n",
       "      <th>columns_8</th>\n",
       "      <td>0.0</td>\n",
       "      <td>0.0</td>\n",
       "      <td>0.0</td>\n",
       "      <td>0.0</td>\n",
       "      <td>0.0</td>\n",
       "    </tr>\n",
       "    <tr>\n",
       "      <th>columns_9</th>\n",
       "      <td>1.0</td>\n",
       "      <td>0.0</td>\n",
       "      <td>0.0</td>\n",
       "      <td>0.0</td>\n",
       "      <td>0.0</td>\n",
       "    </tr>\n",
       "    <tr>\n",
       "      <th>columns_10</th>\n",
       "      <td>0.0</td>\n",
       "      <td>1.0</td>\n",
       "      <td>0.0</td>\n",
       "      <td>1.0</td>\n",
       "      <td>0.0</td>\n",
       "    </tr>\n",
       "    <tr>\n",
       "      <th>columns_11</th>\n",
       "      <td>0.0</td>\n",
       "      <td>1.0</td>\n",
       "      <td>1.0</td>\n",
       "      <td>0.0</td>\n",
       "      <td>1.0</td>\n",
       "    </tr>\n",
       "    <tr>\n",
       "      <th>columns_12</th>\n",
       "      <td>0.0</td>\n",
       "      <td>0.0</td>\n",
       "      <td>0.0</td>\n",
       "      <td>1.0</td>\n",
       "      <td>0.0</td>\n",
       "    </tr>\n",
       "    <tr>\n",
       "      <th>columns_13</th>\n",
       "      <td>1.0</td>\n",
       "      <td>0.0</td>\n",
       "      <td>0.0</td>\n",
       "      <td>0.0</td>\n",
       "      <td>0.0</td>\n",
       "    </tr>\n",
       "    <tr>\n",
       "      <th>columns_14</th>\n",
       "      <td>0.0</td>\n",
       "      <td>0.0</td>\n",
       "      <td>0.0</td>\n",
       "      <td>0.0</td>\n",
       "      <td>0.0</td>\n",
       "    </tr>\n",
       "    <tr>\n",
       "      <th>columns_15</th>\n",
       "      <td>0.0</td>\n",
       "      <td>0.0</td>\n",
       "      <td>0.0</td>\n",
       "      <td>0.0</td>\n",
       "      <td>0.0</td>\n",
       "    </tr>\n",
       "    <tr>\n",
       "      <th>columns_16</th>\n",
       "      <td>1.0</td>\n",
       "      <td>1.0</td>\n",
       "      <td>1.0</td>\n",
       "      <td>1.0</td>\n",
       "      <td>1.0</td>\n",
       "    </tr>\n",
       "    <tr>\n",
       "      <th>columns_17</th>\n",
       "      <td>0.0</td>\n",
       "      <td>0.0</td>\n",
       "      <td>0.0</td>\n",
       "      <td>0.0</td>\n",
       "      <td>0.0</td>\n",
       "    </tr>\n",
       "    <tr>\n",
       "      <th>columns_18</th>\n",
       "      <td>0.0</td>\n",
       "      <td>0.0</td>\n",
       "      <td>0.0</td>\n",
       "      <td>0.0</td>\n",
       "      <td>0.0</td>\n",
       "    </tr>\n",
       "    <tr>\n",
       "      <th>columns_19</th>\n",
       "      <td>0.0</td>\n",
       "      <td>0.0</td>\n",
       "      <td>0.0</td>\n",
       "      <td>0.0</td>\n",
       "      <td>0.0</td>\n",
       "    </tr>\n",
       "    <tr>\n",
       "      <th>columns_20</th>\n",
       "      <td>0.0</td>\n",
       "      <td>0.0</td>\n",
       "      <td>0.0</td>\n",
       "      <td>0.0</td>\n",
       "      <td>0.0</td>\n",
       "    </tr>\n",
       "    <tr>\n",
       "      <th>columns_21</th>\n",
       "      <td>0.0</td>\n",
       "      <td>0.0</td>\n",
       "      <td>0.0</td>\n",
       "      <td>0.0</td>\n",
       "      <td>0.0</td>\n",
       "    </tr>\n",
       "    <tr>\n",
       "      <th>columns_22</th>\n",
       "      <td>0.0</td>\n",
       "      <td>0.0</td>\n",
       "      <td>0.0</td>\n",
       "      <td>0.0</td>\n",
       "      <td>0.0</td>\n",
       "    </tr>\n",
       "    <tr>\n",
       "      <th>columns_23</th>\n",
       "      <td>0.0</td>\n",
       "      <td>0.0</td>\n",
       "      <td>0.0</td>\n",
       "      <td>0.0</td>\n",
       "      <td>0.0</td>\n",
       "    </tr>\n",
       "    <tr>\n",
       "      <th>columns_24</th>\n",
       "      <td>0.0</td>\n",
       "      <td>0.0</td>\n",
       "      <td>0.0</td>\n",
       "      <td>0.0</td>\n",
       "      <td>0.0</td>\n",
       "    </tr>\n",
       "    <tr>\n",
       "      <th>columns_25</th>\n",
       "      <td>0.0</td>\n",
       "      <td>0.0</td>\n",
       "      <td>0.0</td>\n",
       "      <td>0.0</td>\n",
       "      <td>0.0</td>\n",
       "    </tr>\n",
       "    <tr>\n",
       "      <th>columns_26</th>\n",
       "      <td>0.0</td>\n",
       "      <td>0.0</td>\n",
       "      <td>0.0</td>\n",
       "      <td>0.0</td>\n",
       "      <td>0.0</td>\n",
       "    </tr>\n",
       "    <tr>\n",
       "      <th>columns_27</th>\n",
       "      <td>0.0</td>\n",
       "      <td>0.0</td>\n",
       "      <td>0.0</td>\n",
       "      <td>0.0</td>\n",
       "      <td>0.0</td>\n",
       "    </tr>\n",
       "    <tr>\n",
       "      <th>columns_28</th>\n",
       "      <td>0.0</td>\n",
       "      <td>1.0</td>\n",
       "      <td>0.0</td>\n",
       "      <td>0.0</td>\n",
       "      <td>0.0</td>\n",
       "    </tr>\n",
       "    <tr>\n",
       "      <th>columns_29</th>\n",
       "      <td>1.0</td>\n",
       "      <td>0.0</td>\n",
       "      <td>1.0</td>\n",
       "      <td>1.0</td>\n",
       "      <td>1.0</td>\n",
       "    </tr>\n",
       "  </tbody>\n",
       "</table>\n",
       "</div>"
      ],
      "text/plain": [
       "                            42535    42536     42537     42538     42539\n",
       "tot_coll_amt                  0.0      0.0       0.0   15386.0    1514.0\n",
       "tot_cur_bal              114834.0  14123.0  267646.0   13605.0  272492.0\n",
       "total_rev_hi_lim          59900.0  15100.0   61100.0    8100.0   15400.0\n",
       "revol_util                   61.2     52.8      21.6      68.8      74.2\n",
       "delinq_2yrs                   0.0      0.0       0.0       0.0       0.0\n",
       "inq_last_6mths                0.0      0.0       1.0       0.0       0.0\n",
       "open_acc                     14.0     12.0      12.0       7.0       8.0\n",
       "pub_rec                       0.0      0.0       0.0       2.0       0.0\n",
       "total_acc                    27.0     28.0      22.0      32.0      29.0\n",
       "acc_now_delinq                0.0      0.0       0.0       0.0       0.0\n",
       "collection_recovery_fee       0.0      0.0       0.0       0.0       0.0\n",
       "last_pymnt_amnt            885.46   333.14    368.45    119.17     476.3\n",
       "recoveries                    0.0      0.0       0.0       0.0       0.0\n",
       "pymnt_plan                      n        n         n         n         n\n",
       "loan_amnt                 27050.0   9750.0   12000.0   12000.0   15000.0\n",
       "funded_amnt               27050.0   9750.0   12000.0   12000.0   15000.0\n",
       "funded_amnt_inv           27050.0   9750.0   12000.0   12000.0   15000.0\n",
       "int_rate                    10.99    13.98      6.62     13.53       8.9\n",
       "installment                885.46   333.14    368.45     407.4     476.3\n",
       "total_rec_late_fee            0.0      0.0       0.0       0.0       0.0\n",
       "revol_bal                 36638.0   7967.0   13168.0    5572.0   11431.0\n",
       "out_prncp                 10018.9  3710.96   4266.62       0.0   5449.27\n",
       "total_pymnt              21251.04  7994.83    8842.8  13359.77   11431.2\n",
       "total_pymnt_inv          21251.04  7994.83    8842.8  13359.77   11431.2\n",
       "total_rec_prncp           17031.1  6039.04   7733.38  11999.99   9550.73\n",
       "total_rec_int             4219.94  1955.79   1109.42   1359.78   1880.47\n",
       "out_prncp_inv             10018.9  3710.96   4266.62       0.0   5449.27\n",
       "loan_status                     0        0         0         0         0\n",
       "0                             1.0      0.0       1.0       1.0       2.0\n",
       "1                             1.0      2.0       0.0       1.0       0.0\n",
       "2                             6.0     10.0       1.0       9.0       4.0\n",
       "columns_1                     1.0      1.0       1.0       1.0       1.0\n",
       "columns_2                     0.0      0.0       0.0       0.0       0.0\n",
       "columns_3                     1.0      1.0       1.0       1.0       1.0\n",
       "columns_4                     0.0      0.0       0.0       0.0       0.0\n",
       "columns_5                     0.0      0.0       0.0       0.0       0.0\n",
       "columns_6                     0.0      0.0       1.0       0.0       1.0\n",
       "columns_7                     0.0      0.0       0.0       0.0       0.0\n",
       "columns_8                     0.0      0.0       0.0       0.0       0.0\n",
       "columns_9                     1.0      0.0       0.0       0.0       0.0\n",
       "columns_10                    0.0      1.0       0.0       1.0       0.0\n",
       "columns_11                    0.0      1.0       1.0       0.0       1.0\n",
       "columns_12                    0.0      0.0       0.0       1.0       0.0\n",
       "columns_13                    1.0      0.0       0.0       0.0       0.0\n",
       "columns_14                    0.0      0.0       0.0       0.0       0.0\n",
       "columns_15                    0.0      0.0       0.0       0.0       0.0\n",
       "columns_16                    1.0      1.0       1.0       1.0       1.0\n",
       "columns_17                    0.0      0.0       0.0       0.0       0.0\n",
       "columns_18                    0.0      0.0       0.0       0.0       0.0\n",
       "columns_19                    0.0      0.0       0.0       0.0       0.0\n",
       "columns_20                    0.0      0.0       0.0       0.0       0.0\n",
       "columns_21                    0.0      0.0       0.0       0.0       0.0\n",
       "columns_22                    0.0      0.0       0.0       0.0       0.0\n",
       "columns_23                    0.0      0.0       0.0       0.0       0.0\n",
       "columns_24                    0.0      0.0       0.0       0.0       0.0\n",
       "columns_25                    0.0      0.0       0.0       0.0       0.0\n",
       "columns_26                    0.0      0.0       0.0       0.0       0.0\n",
       "columns_27                    0.0      0.0       0.0       0.0       0.0\n",
       "columns_28                    0.0      1.0       0.0       0.0       0.0\n",
       "columns_29                    1.0      0.0       1.0       1.0       1.0"
      ]
     },
     "execution_count": 39,
     "metadata": {},
     "output_type": "execute_result"
    }
   ],
   "source": [
    "# Combining all the scaled and encoded features.\n",
    "df_full = pd.concat([df_num,df_ordinal_encoded,df_nominal_encoded], axis=1)\n",
    "df_full.dropna(inplace=True)\n",
    "df_full.head().T"
   ]
  },
  {
   "cell_type": "code",
   "execution_count": 40,
   "metadata": {},
   "outputs": [],
   "source": [
    "# Converting the feature \"pymnt_plan\" into numerical.\n",
    "df_full.replace({'n':0, 'y':1}, inplace=True)"
   ]
  },
  {
   "cell_type": "code",
   "execution_count": 41,
   "metadata": {},
   "outputs": [
    {
     "data": {
      "text/plain": [
       "recoveries                 180299.0\n",
       "collection_recovery_fee     92777.0\n",
       "out_prncp_inv               24541.0\n",
       "out_prncp                   24541.0\n",
       "int_rate                    24201.0\n",
       "total_rec_late_fee          18510.0\n",
       "2                           16574.0\n",
       "1                           15769.0\n",
       "last_pymnt_amnt              5621.0\n",
       "total_rec_prncp              5363.0\n",
       "columns_28                   4290.0\n",
       "columns_29                   4290.0\n",
       "inq_last_6mths               3915.0\n",
       "total_rec_int                2884.0\n",
       "columns_13                   1854.0\n",
       "revol_util                   1433.0\n",
       "tot_cur_bal                  1156.0\n",
       "total_rev_hi_lim             1005.0\n",
       "columns_10                    908.0\n",
       "columns_3                     899.0\n",
       "columns_4                     899.0\n",
       "total_pymnt                   832.0\n",
       "total_pymnt_inv               832.0\n",
       "columns_15                    777.0\n",
       "columns_6                     735.0\n",
       "columns_11                    521.0\n",
       "columns_25                    460.0\n",
       "columns_12                    367.0\n",
       "revol_bal                     297.0\n",
       "columns_16                    275.0\n",
       "installment                   272.0\n",
       "0                             155.0\n",
       "columns_23                    113.0\n",
       "pub_rec                       108.0\n",
       "total_acc                     100.0\n",
       "columns_27                     98.0\n",
       "open_acc                       53.0\n",
       "columns_22                     52.0\n",
       "columns_18                     43.0\n",
       "funded_amnt                    28.0\n",
       "loan_amnt                      28.0\n",
       "funded_amnt_inv                28.0\n",
       "columns_21                     26.0\n",
       "columns_19                     25.0\n",
       "columns_2                      24.0\n",
       "columns_1                      24.0\n",
       "columns_14                     22.0\n",
       "columns_9                      18.0\n",
       "columns_8                      13.0\n",
       "pymnt_plan                      8.0\n",
       "columns_7                       6.0\n",
       "columns_20                      3.0\n",
       "columns_24                      2.0\n",
       "tot_coll_amt                    2.0\n",
       "acc_now_delinq                  1.0\n",
       "columns_17                      0.0\n",
       "columns_26                      0.0\n",
       "columns_5                       0.0\n",
       "delinq_2yrs                     0.0\n",
       "dtype: float64"
      ]
     },
     "execution_count": 41,
     "metadata": {},
     "output_type": "execute_result"
    }
   ],
   "source": [
    "# Finding the K-Best Score for each of our features.\n",
    "K_best = SelectKBest(k=4)\n",
    "train_K_best = K_best.fit(df_full.drop(columns='loan_status', axis=1), df_full['loan_status'])\n",
    "K_best_scores = np.round_(train_K_best.scores_)\n",
    "\n",
    "df_K_best_Scores = pd.Series(K_best_scores)\n",
    "df_K_best_Scores.index = df_full.drop(columns='loan_status', axis=1).columns\n",
    "df_K_best_Scores.sort_values(ascending=False)"
   ]
  },
  {
   "cell_type": "markdown",
   "metadata": {},
   "source": [
    "To interpret the K-Best Scores above, we will set up our own threshold, with any number below it will contain features that we will drop. Note that the nominally encoded features has since been split into parts according to how many category they have in their respective columns. Therefore, the deliberation for them would be regarding how many of their categories are below the threshold and/or how closely related they are to our target (which means how large the K-Best Scores are and whether they fall above the threshold or not)."
   ]
  },
  {
   "cell_type": "code",
   "execution_count": 42,
   "metadata": {},
   "outputs": [],
   "source": [
    "# Dropping the columns deemed to be below our threshold.\n",
    "df1.drop(columns=['delinq_2yrs', 'acc_now_delinq', 'tot_coll_amt', 'pymnt_plan', 'funded_amnt_inv', 'loan_amnt', 'funded_amnt', 'application_type'], axis=1, inplace=True)"
   ]
  },
  {
   "cell_type": "code",
   "execution_count": 43,
   "metadata": {},
   "outputs": [
    {
     "data": {
      "text/html": [
       "<div>\n",
       "<style scoped>\n",
       "    .dataframe tbody tr th:only-of-type {\n",
       "        vertical-align: middle;\n",
       "    }\n",
       "\n",
       "    .dataframe tbody tr th {\n",
       "        vertical-align: top;\n",
       "    }\n",
       "\n",
       "    .dataframe thead th {\n",
       "        text-align: right;\n",
       "    }\n",
       "</style>\n",
       "<table border=\"1\" class=\"dataframe\">\n",
       "  <thead>\n",
       "    <tr style=\"text-align: right;\">\n",
       "      <th></th>\n",
       "      <th>0</th>\n",
       "      <th>1</th>\n",
       "      <th>2</th>\n",
       "      <th>3</th>\n",
       "      <th>4</th>\n",
       "    </tr>\n",
       "  </thead>\n",
       "  <tbody>\n",
       "    <tr>\n",
       "      <th>tot_cur_bal</th>\n",
       "      <td>NaN</td>\n",
       "      <td>NaN</td>\n",
       "      <td>NaN</td>\n",
       "      <td>NaN</td>\n",
       "      <td>NaN</td>\n",
       "    </tr>\n",
       "    <tr>\n",
       "      <th>total_rev_hi_lim</th>\n",
       "      <td>NaN</td>\n",
       "      <td>NaN</td>\n",
       "      <td>NaN</td>\n",
       "      <td>NaN</td>\n",
       "      <td>NaN</td>\n",
       "    </tr>\n",
       "    <tr>\n",
       "      <th>emp_length</th>\n",
       "      <td>10+ years</td>\n",
       "      <td>&lt; 1 year</td>\n",
       "      <td>10+ years</td>\n",
       "      <td>10+ years</td>\n",
       "      <td>1 year</td>\n",
       "    </tr>\n",
       "    <tr>\n",
       "      <th>revol_util</th>\n",
       "      <td>83.7</td>\n",
       "      <td>9.4</td>\n",
       "      <td>98.5</td>\n",
       "      <td>21.0</td>\n",
       "      <td>53.9</td>\n",
       "    </tr>\n",
       "    <tr>\n",
       "      <th>inq_last_6mths</th>\n",
       "      <td>1.0</td>\n",
       "      <td>5.0</td>\n",
       "      <td>2.0</td>\n",
       "      <td>1.0</td>\n",
       "      <td>0.0</td>\n",
       "    </tr>\n",
       "    <tr>\n",
       "      <th>open_acc</th>\n",
       "      <td>3.0</td>\n",
       "      <td>3.0</td>\n",
       "      <td>2.0</td>\n",
       "      <td>10.0</td>\n",
       "      <td>15.0</td>\n",
       "    </tr>\n",
       "    <tr>\n",
       "      <th>pub_rec</th>\n",
       "      <td>0.0</td>\n",
       "      <td>0.0</td>\n",
       "      <td>0.0</td>\n",
       "      <td>0.0</td>\n",
       "      <td>0.0</td>\n",
       "    </tr>\n",
       "    <tr>\n",
       "      <th>total_acc</th>\n",
       "      <td>9.0</td>\n",
       "      <td>4.0</td>\n",
       "      <td>10.0</td>\n",
       "      <td>37.0</td>\n",
       "      <td>38.0</td>\n",
       "    </tr>\n",
       "    <tr>\n",
       "      <th>collection_recovery_fee</th>\n",
       "      <td>0.0</td>\n",
       "      <td>1.11</td>\n",
       "      <td>0.0</td>\n",
       "      <td>0.0</td>\n",
       "      <td>0.0</td>\n",
       "    </tr>\n",
       "    <tr>\n",
       "      <th>last_pymnt_amnt</th>\n",
       "      <td>171.62</td>\n",
       "      <td>119.66</td>\n",
       "      <td>649.91</td>\n",
       "      <td>357.48</td>\n",
       "      <td>67.79</td>\n",
       "    </tr>\n",
       "    <tr>\n",
       "      <th>recoveries</th>\n",
       "      <td>0.0</td>\n",
       "      <td>117.08</td>\n",
       "      <td>0.0</td>\n",
       "      <td>0.0</td>\n",
       "      <td>0.0</td>\n",
       "    </tr>\n",
       "    <tr>\n",
       "      <th>term</th>\n",
       "      <td>36 months</td>\n",
       "      <td>60 months</td>\n",
       "      <td>36 months</td>\n",
       "      <td>36 months</td>\n",
       "      <td>60 months</td>\n",
       "    </tr>\n",
       "    <tr>\n",
       "      <th>int_rate</th>\n",
       "      <td>10.65</td>\n",
       "      <td>15.27</td>\n",
       "      <td>15.96</td>\n",
       "      <td>13.49</td>\n",
       "      <td>12.69</td>\n",
       "    </tr>\n",
       "    <tr>\n",
       "      <th>installment</th>\n",
       "      <td>162.87</td>\n",
       "      <td>59.83</td>\n",
       "      <td>84.33</td>\n",
       "      <td>339.31</td>\n",
       "      <td>67.79</td>\n",
       "    </tr>\n",
       "    <tr>\n",
       "      <th>grade</th>\n",
       "      <td>B</td>\n",
       "      <td>C</td>\n",
       "      <td>C</td>\n",
       "      <td>C</td>\n",
       "      <td>B</td>\n",
       "    </tr>\n",
       "    <tr>\n",
       "      <th>sub_grade</th>\n",
       "      <td>B2</td>\n",
       "      <td>C4</td>\n",
       "      <td>C5</td>\n",
       "      <td>C1</td>\n",
       "      <td>B5</td>\n",
       "    </tr>\n",
       "    <tr>\n",
       "      <th>home_ownership</th>\n",
       "      <td>RENT</td>\n",
       "      <td>RENT</td>\n",
       "      <td>RENT</td>\n",
       "      <td>RENT</td>\n",
       "      <td>RENT</td>\n",
       "    </tr>\n",
       "    <tr>\n",
       "      <th>verification_status</th>\n",
       "      <td>Verified</td>\n",
       "      <td>Source Verified</td>\n",
       "      <td>Not Verified</td>\n",
       "      <td>Source Verified</td>\n",
       "      <td>Source Verified</td>\n",
       "    </tr>\n",
       "    <tr>\n",
       "      <th>total_rec_late_fee</th>\n",
       "      <td>0.0</td>\n",
       "      <td>0.0</td>\n",
       "      <td>0.0</td>\n",
       "      <td>16.97</td>\n",
       "      <td>0.0</td>\n",
       "    </tr>\n",
       "    <tr>\n",
       "      <th>purpose</th>\n",
       "      <td>credit_card</td>\n",
       "      <td>car</td>\n",
       "      <td>small_business</td>\n",
       "      <td>other</td>\n",
       "      <td>other</td>\n",
       "    </tr>\n",
       "    <tr>\n",
       "      <th>revol_bal</th>\n",
       "      <td>13648.0</td>\n",
       "      <td>1687.0</td>\n",
       "      <td>2956.0</td>\n",
       "      <td>5598.0</td>\n",
       "      <td>27783.0</td>\n",
       "    </tr>\n",
       "    <tr>\n",
       "      <th>initial_list_status</th>\n",
       "      <td>f</td>\n",
       "      <td>f</td>\n",
       "      <td>f</td>\n",
       "      <td>f</td>\n",
       "      <td>f</td>\n",
       "    </tr>\n",
       "    <tr>\n",
       "      <th>out_prncp</th>\n",
       "      <td>0.0</td>\n",
       "      <td>0.0</td>\n",
       "      <td>0.0</td>\n",
       "      <td>0.0</td>\n",
       "      <td>766.9</td>\n",
       "    </tr>\n",
       "    <tr>\n",
       "      <th>total_pymnt</th>\n",
       "      <td>5861.071414</td>\n",
       "      <td>1008.71</td>\n",
       "      <td>3003.653644</td>\n",
       "      <td>12226.302212</td>\n",
       "      <td>3242.17</td>\n",
       "    </tr>\n",
       "    <tr>\n",
       "      <th>total_pymnt_inv</th>\n",
       "      <td>5831.78</td>\n",
       "      <td>1008.71</td>\n",
       "      <td>3003.65</td>\n",
       "      <td>12226.3</td>\n",
       "      <td>3242.17</td>\n",
       "    </tr>\n",
       "    <tr>\n",
       "      <th>total_rec_prncp</th>\n",
       "      <td>5000.0</td>\n",
       "      <td>456.46</td>\n",
       "      <td>2400.0</td>\n",
       "      <td>10000.0</td>\n",
       "      <td>2233.1</td>\n",
       "    </tr>\n",
       "    <tr>\n",
       "      <th>total_rec_int</th>\n",
       "      <td>861.07</td>\n",
       "      <td>435.17</td>\n",
       "      <td>603.65</td>\n",
       "      <td>2209.33</td>\n",
       "      <td>1009.07</td>\n",
       "    </tr>\n",
       "    <tr>\n",
       "      <th>out_prncp_inv</th>\n",
       "      <td>0.0</td>\n",
       "      <td>0.0</td>\n",
       "      <td>0.0</td>\n",
       "      <td>0.0</td>\n",
       "      <td>766.9</td>\n",
       "    </tr>\n",
       "    <tr>\n",
       "      <th>loan_status</th>\n",
       "      <td>Fully Paid</td>\n",
       "      <td>Charged Off</td>\n",
       "      <td>Fully Paid</td>\n",
       "      <td>Fully Paid</td>\n",
       "      <td>Current</td>\n",
       "    </tr>\n",
       "  </tbody>\n",
       "</table>\n",
       "</div>"
      ],
      "text/plain": [
       "                                   0                1               2  \\\n",
       "tot_cur_bal                      NaN              NaN             NaN   \n",
       "total_rev_hi_lim                 NaN              NaN             NaN   \n",
       "emp_length                 10+ years         < 1 year       10+ years   \n",
       "revol_util                      83.7              9.4            98.5   \n",
       "inq_last_6mths                   1.0              5.0             2.0   \n",
       "open_acc                         3.0              3.0             2.0   \n",
       "pub_rec                          0.0              0.0             0.0   \n",
       "total_acc                        9.0              4.0            10.0   \n",
       "collection_recovery_fee          0.0             1.11             0.0   \n",
       "last_pymnt_amnt               171.62           119.66          649.91   \n",
       "recoveries                       0.0           117.08             0.0   \n",
       "term                       36 months        60 months       36 months   \n",
       "int_rate                       10.65            15.27           15.96   \n",
       "installment                   162.87            59.83           84.33   \n",
       "grade                              B                C               C   \n",
       "sub_grade                         B2               C4              C5   \n",
       "home_ownership                  RENT             RENT            RENT   \n",
       "verification_status         Verified  Source Verified    Not Verified   \n",
       "total_rec_late_fee               0.0              0.0             0.0   \n",
       "purpose                  credit_card              car  small_business   \n",
       "revol_bal                    13648.0           1687.0          2956.0   \n",
       "initial_list_status                f                f               f   \n",
       "out_prncp                        0.0              0.0             0.0   \n",
       "total_pymnt              5861.071414          1008.71     3003.653644   \n",
       "total_pymnt_inv              5831.78          1008.71         3003.65   \n",
       "total_rec_prncp               5000.0           456.46          2400.0   \n",
       "total_rec_int                 861.07           435.17          603.65   \n",
       "out_prncp_inv                    0.0              0.0             0.0   \n",
       "loan_status               Fully Paid      Charged Off      Fully Paid   \n",
       "\n",
       "                                       3                4  \n",
       "tot_cur_bal                          NaN              NaN  \n",
       "total_rev_hi_lim                     NaN              NaN  \n",
       "emp_length                     10+ years           1 year  \n",
       "revol_util                          21.0             53.9  \n",
       "inq_last_6mths                       1.0              0.0  \n",
       "open_acc                            10.0             15.0  \n",
       "pub_rec                              0.0              0.0  \n",
       "total_acc                           37.0             38.0  \n",
       "collection_recovery_fee              0.0              0.0  \n",
       "last_pymnt_amnt                   357.48            67.79  \n",
       "recoveries                           0.0              0.0  \n",
       "term                           36 months        60 months  \n",
       "int_rate                           13.49            12.69  \n",
       "installment                       339.31            67.79  \n",
       "grade                                  C                B  \n",
       "sub_grade                             C1               B5  \n",
       "home_ownership                      RENT             RENT  \n",
       "verification_status      Source Verified  Source Verified  \n",
       "total_rec_late_fee                 16.97              0.0  \n",
       "purpose                            other            other  \n",
       "revol_bal                         5598.0          27783.0  \n",
       "initial_list_status                    f                f  \n",
       "out_prncp                            0.0            766.9  \n",
       "total_pymnt                 12226.302212          3242.17  \n",
       "total_pymnt_inv                  12226.3          3242.17  \n",
       "total_rec_prncp                  10000.0           2233.1  \n",
       "total_rec_int                    2209.33          1009.07  \n",
       "out_prncp_inv                        0.0            766.9  \n",
       "loan_status                   Fully Paid          Current  "
      ]
     },
     "execution_count": 43,
     "metadata": {},
     "output_type": "execute_result"
    }
   ],
   "source": [
    "# The features that are left after the dropping.\n",
    "df1.head().T"
   ]
  },
  {
   "cell_type": "code",
   "execution_count": 44,
   "metadata": {},
   "outputs": [
    {
     "data": {
      "text/plain": [
       "(887379, 29)"
      ]
     },
     "execution_count": 44,
     "metadata": {},
     "output_type": "execute_result"
    }
   ],
   "source": [
    "# Copying of dataframe to preserve df1.\n",
    "df2 = df1.copy()\n",
    "df2.shape"
   ]
  },
  {
   "cell_type": "code",
   "execution_count": 46,
   "metadata": {},
   "outputs": [
    {
     "data": {
      "text/plain": [
       "tot_cur_bal                70276\n",
       "total_rev_hi_lim           70276\n",
       "emp_length                 44825\n",
       "revol_util                   502\n",
       "inq_last_6mths                29\n",
       "open_acc                      29\n",
       "pub_rec                       29\n",
       "total_acc                     29\n",
       "collection_recovery_fee        0\n",
       "last_pymnt_amnt                0\n",
       "recoveries                     0\n",
       "term                           0\n",
       "int_rate                       0\n",
       "installment                    0\n",
       "grade                          0\n",
       "sub_grade                      0\n",
       "home_ownership                 0\n",
       "verification_status            0\n",
       "total_rec_late_fee             0\n",
       "purpose                        0\n",
       "revol_bal                      0\n",
       "initial_list_status            0\n",
       "out_prncp                      0\n",
       "total_pymnt                    0\n",
       "total_pymnt_inv                0\n",
       "total_rec_prncp                0\n",
       "total_rec_int                  0\n",
       "out_prncp_inv                  0\n",
       "loan_status                    0\n",
       "dtype: int64"
      ]
     },
     "execution_count": 46,
     "metadata": {},
     "output_type": "execute_result"
    }
   ],
   "source": [
    "# Displaying number of NaNs we have in the dataframe.\n",
    "df2.isnull().sum()"
   ]
  },
  {
   "cell_type": "code",
   "execution_count": 48,
   "metadata": {},
   "outputs": [],
   "source": [
    "# Converting Multiclass Target into Binary (Accepted Loan or Rejected Loan) for the next steps of preprocessing.\n",
    "df2['loan_status'].replace({'Fully Paid' : 0, 'Charged Off' : 1, 'Current':0, 'Default':1,\n",
    "       'Late (31-120 days)' : 1, 'In Grace Period':0, 'Late (16-30 days)':0,\n",
    "       'Does not meet the credit policy. Status:Fully Paid': 0,\n",
    "       'Does not meet the credit policy. Status:Charged Off': 1, 'Issued':0}, inplace=True)"
   ]
  },
  {
   "cell_type": "code",
   "execution_count": 50,
   "metadata": {},
   "outputs": [],
   "source": [
    "# Dropping NaNs in our dataframe.\n",
    "df2.dropna(inplace=True)"
   ]
  },
  {
   "cell_type": "code",
   "execution_count": 51,
   "metadata": {},
   "outputs": [
    {
     "data": {
      "text/plain": [
       "tot_cur_bal                0\n",
       "total_rev_hi_lim           0\n",
       "emp_length                 0\n",
       "revol_util                 0\n",
       "inq_last_6mths             0\n",
       "open_acc                   0\n",
       "pub_rec                    0\n",
       "total_acc                  0\n",
       "collection_recovery_fee    0\n",
       "last_pymnt_amnt            0\n",
       "recoveries                 0\n",
       "term                       0\n",
       "int_rate                   0\n",
       "installment                0\n",
       "grade                      0\n",
       "sub_grade                  0\n",
       "home_ownership             0\n",
       "verification_status        0\n",
       "total_rec_late_fee         0\n",
       "purpose                    0\n",
       "revol_bal                  0\n",
       "initial_list_status        0\n",
       "out_prncp                  0\n",
       "total_pymnt                0\n",
       "total_pymnt_inv            0\n",
       "total_rec_prncp            0\n",
       "total_rec_int              0\n",
       "out_prncp_inv              0\n",
       "loan_status                0\n",
       "dtype: int64"
      ]
     },
     "execution_count": 51,
     "metadata": {},
     "output_type": "execute_result"
    }
   ],
   "source": [
    "# Rechecking amount of NaNs in our dataframe.\n",
    "df2.isnull().sum()"
   ]
  },
  {
   "cell_type": "code",
   "execution_count": 54,
   "metadata": {},
   "outputs": [
    {
     "data": {
      "text/plain": [
       "(773968, 29)"
      ]
     },
     "execution_count": 54,
     "metadata": {},
     "output_type": "execute_result"
    }
   ],
   "source": [
    "df2.shape"
   ]
  },
  {
   "cell_type": "code",
   "execution_count": 53,
   "metadata": {},
   "outputs": [
    {
     "name": "stdout",
     "output_type": "stream",
     "text": [
      "Class Balance:  0    728983\n",
      "1     44985\n",
      "Name: loan_status, dtype: int64\n"
     ]
    },
    {
     "data": {
      "image/png": "[encoded data removed]",
      "text/plain": [
       "<Figure size 432x288 with 1 Axes>"
      ]
     },
     "metadata": {
      "needs_background": "light"
     },
     "output_type": "display_data"
    }
   ],
   "source": [
    "df2['loan_status'].value_counts().plot(kind='bar')\n",
    "print(\"Class Balance: \", df2['loan_status'].value_counts())"
   ]
  },
  {
   "cell_type": "markdown",
   "metadata": {},
   "source": [
    "Following our feature selection, we have now reduced the number of features from 73 to 28, with all NaNs removed, and with a Class Balance as above."
   ]
  },
  {
   "cell_type": "markdown",
   "metadata": {},
   "source": [
    "### b. Class Balancing"
   ]
  },
  {
   "cell_type": "markdown",
   "metadata": {},
   "source": [
    "To ensure increased accuracy and performance of our model, class balancing is recommended. Again, as seen above, we have a Class 0 count of 728 thousand and a Class 1 count of only 44 thousand. This means that Class 1 only represents a exceedingly low 5.8% of the entirety of the dataset."
   ]
  },
  {
   "cell_type": "code",
   "execution_count": 55,
   "metadata": {},
   "outputs": [
    {
     "data": {
      "text/plain": [
       "5.812255803857524"
      ]
     },
     "execution_count": 55,
     "metadata": {},
     "output_type": "execute_result"
    }
   ],
   "source": [
    "(44985/(728983+44985))*100"
   ]
  },
  {
   "cell_type": "markdown",
   "metadata": {},
   "source": [
    "To interpret this number, we refer to the information below: \n",
    "\n",
    "- Ratio of 20 - 40% = Mild Imbalance \n",
    "\n",
    "- Ratio of 1 - 20% = Moderate Imbalance\n",
    "\n",
    "- Ratio of Below 1% = Extreme Imbalance\n",
    "\n",
    "As such, we have a moderate imbalance in our target class. Standard practice suggests that a moderate and extreme imbalance would need to be corrected.\n",
    "\n",
    "Reference: https://bit.ly/3E2twQd\n",
    "\n",
    "We will be using undersampling to handle our imbalance in an effort to preserve our real data samples, as opposed to synthesizing / creating new data entries of our own that are similar to that of our original dataset. The undersampling will be done to the Majority Class (0 / Accepted Loan), dropping its sample size relatively close to that of our Minority Class (1 / Rejected Loan).\n",
    "\n",
    "*Note that only our train sets will be balanced as we aim to keep the test set as close as possible to the original dataset to accurately evaluate the performance of our models."
   ]
  },
  {
   "cell_type": "code",
   "execution_count": 56,
   "metadata": {},
   "outputs": [],
   "source": [
    "# Splitting our dataframe into train and test sets for the undersampling process.\n",
    "df_train, df_test = train_test_split(df2, train_size=0.8, stratify=df2['loan_status'], random_state=42)"
   ]
  },
  {
   "cell_type": "code",
   "execution_count": 57,
   "metadata": {},
   "outputs": [
    {
     "data": {
      "text/plain": [
       "0    583186\n",
       "1     35988\n",
       "Name: loan_status, dtype: int64"
      ]
     },
     "execution_count": 57,
     "metadata": {},
     "output_type": "execute_result"
    }
   ],
   "source": [
    "# Checking the balance of our Train and Test sets.\n",
    "df_train['loan_status'].value_counts()"
   ]
  },
  {
   "cell_type": "code",
   "execution_count": 58,
   "metadata": {},
   "outputs": [
    {
     "data": {
      "text/plain": [
       "0    145797\n",
       "1      8997\n",
       "Name: loan_status, dtype: int64"
      ]
     },
     "execution_count": 58,
     "metadata": {},
     "output_type": "execute_result"
    }
   ],
   "source": [
    "df_test['loan_status'].value_counts()"
   ]
  },
  {
   "cell_type": "code",
   "execution_count": 60,
   "metadata": {},
   "outputs": [
    {
     "name": "stdout",
     "output_type": "stream",
     "text": [
      "Class Balance:  0    50000\n",
      "1    35988\n",
      "Name: loan_status, dtype: int64\n"
     ]
    },
    {
     "data": {
      "image/png": "[encoded data removed]",
      "text/plain": [
       "<Figure size 432x288 with 1 Axes>"
      ]
     },
     "metadata": {
      "needs_background": "light"
     },
     "output_type": "display_data"
    }
   ],
   "source": [
    "# Undersampling our majority target class to 50000.\n",
    "train_0 = df_train[df_train['loan_status']==0].sample(50000, replace=True)\n",
    "train_1 = df_train[df_train['loan_status']==1]\n",
    "\n",
    "df3 = pd.concat([train_0, train_1])\n",
    "df3 = df3.sample(len(df3))\n",
    "\n",
    "df3['loan_status'].value_counts().plot(kind='bar')\n",
    "print(\"Class Balance: \", df3['loan_status'].value_counts())"
   ]
  },
  {
   "cell_type": "markdown",
   "metadata": {},
   "source": [
    "We could now observe that our majority class has been reduced to 50000 for the train set, with our minority class standing close by at 35988."
   ]
  },
  {
   "cell_type": "code",
   "execution_count": 61,
   "metadata": {},
   "outputs": [
    {
     "data": {
      "text/plain": [
       "41.85235149090571"
      ]
     },
     "execution_count": 61,
     "metadata": {},
     "output_type": "execute_result"
    }
   ],
   "source": [
    "(35988/(50000+35988))*100"
   ]
  },
  {
   "cell_type": "markdown",
   "metadata": {},
   "source": [
    "Our minority class is now about 41% of the entirety of our dataset, which is considered balanced."
   ]
  },
  {
   "cell_type": "markdown",
   "metadata": {},
   "source": [
    "### c. Splitting Dataset"
   ]
  },
  {
   "cell_type": "markdown",
   "metadata": {},
   "source": [
    "The splitting of the dataset is done as a necessary step to ensure that our model will be learning from the trenda and patterns of our train set, where it will later on make predictions using our test set. These results will then be compared to evaluate the performance of the model, and to determine whether or not further improvements may be necessary. It is imperative that this step is done as early as possible to prevent data leakage. Data leakage happens when our model has inadvertently \"took a peak\" at the pattern of our test data before it is inputted into it. Hence, if this were to happen, then our model would falsely be accurate in its predictions, which would diminish its performance and accuracy when it comes to being deployed and inputted with live data.\n",
    "\n",
    "In addition to splitting between a train and test set, our data would also be seperated between its features and the target. This is done solely due to it being a requirement as an input into our model. Without doing so, our model would not function."
   ]
  },
  {
   "cell_type": "code",
   "execution_count": 62,
   "metadata": {},
   "outputs": [
    {
     "name": "stdout",
     "output_type": "stream",
     "text": [
      "X_Train Size :  (85988, 28)\n",
      "X_Test Size  :  (154794, 28)\n",
      "y_Train Size :  (85988, 1)\n",
      "y_Test Size  :  (154794, 1)\n"
     ]
    }
   ],
   "source": [
    "# Spliting dataset to train and test sets, with X as the dataframe for our features and Y for our target.\n",
    "X_train = df3.drop(['loan_status'], axis=1)\n",
    "X_test = df_test.drop(['loan_status'], axis=1)\n",
    "\n",
    "y_train = df3[['loan_status']]\n",
    "y_test = df_test[['loan_status']]\n",
    "\n",
    "print('X_Train Size : ', X_train.shape)\n",
    "print('X_Test Size  : ', X_test.shape)\n",
    "print('y_Train Size : ', y_train.shape)\n",
    "print('y_Test Size  : ', y_test.shape)"
   ]
  },
  {
   "cell_type": "markdown",
   "metadata": {},
   "source": [
    "### d. Outlier Handling"
   ]
  },
  {
   "cell_type": "markdown",
   "metadata": {},
   "source": [
    "Outlier handling is another process that can reduce the error of margin of our model, increasing its performance. This handling is done only to the Numerical data in our Train set."
   ]
  },
  {
   "cell_type": "code",
   "execution_count": 63,
   "metadata": {},
   "outputs": [],
   "source": [
    "# Splitting of our train set into numerical and two categorical dataframes.\n",
    "X_train_num = X_train.drop(['emp_length', 'grade', 'sub_grade', 'home_ownership', 'verification_status', 'purpose', 'initial_list_status'], axis=1)\n",
    "X_train_ordinal = X_train[['emp_length', 'verification_status', 'grade', 'sub_grade']]\n",
    "X_train_nominal = X_train[['home_ownership', 'purpose', 'initial_list_status']]"
   ]
  },
  {
   "cell_type": "code",
   "execution_count": 67,
   "metadata": {},
   "outputs": [],
   "source": [
    "# Converting the feature \"term\" into numerical from categorical.\n",
    "X_train_num.replace({' 36 months':36, ' 60 months':60}, inplace=True)"
   ]
  },
  {
   "cell_type": "code",
   "execution_count": 75,
   "metadata": {},
   "outputs": [],
   "source": [
    "# Syntax to create histogram and boxplot.\n",
    "def diagnostic_plots(X_train_num, variable):\n",
    "    # Defining Figure Size\n",
    "    plt.figure(figsize=(16, 4))\n",
    "\n",
    "    # Histogram\n",
    "    plt.subplot(1, 2, 1)\n",
    "    sns.histplot(X_train_num[variable], bins=30)\n",
    "    plt.title('Histogram')\n",
    "\n",
    "    # Boxplot\n",
    "    plt.subplot(1, 2, 2)\n",
    "    sns.boxplot(X_train_num[variable])\n",
    "    plt.title('Boxplot')\n",
    "\n",
    "    plt.show()\n",
    "\n",
    "    # Skewness\n",
    "    print('\\nSkewness Value : ', X_train_num[variable].skew())\n",
    "\n",
    "    # Kurtosis\n",
    "    print('\\nKurtosis Value : ', X_train_num[variable].kurtosis())"
   ]
  },
  {
   "cell_type": "code",
   "execution_count": 76,
   "metadata": {},
   "outputs": [
    {
     "data": {
      "image/png": "[encoded data removed]",
      "text/plain": [
       "<Figure size 1152x288 with 2 Axes>"
      ]
     },
     "metadata": {
      "needs_background": "light"
     },
     "output_type": "display_data"
    },
    {
     "name": "stdout",
     "output_type": "stream",
     "text": [
      "\n",
      "Skewness Value :  2.4936943178325084\n",
      "\n",
      "Kurtosis Value :  14.58587564027058\n"
     ]
    },
    {
     "data": {
      "image/png": "[encoded data removed]",
      "text/plain": [
       "<Figure size 1152x288 with 2 Axes>"
      ]
     },
     "metadata": {
      "needs_background": "light"
     },
     "output_type": "display_data"
    },
    {
     "name": "stdout",
     "output_type": "stream",
     "text": [
      "\n",
      "Skewness Value :  8.821274531445349\n",
      "\n",
      "Kurtosis Value :  304.67923297303315\n"
     ]
    },
    {
     "data": {
      "image/png": "[encoded data removed]",
      "text/plain": [
       "<Figure size 1152x288 with 2 Axes>"
      ]
     },
     "metadata": {
      "needs_background": "light"
     },
     "output_type": "display_data"
    },
    {
     "name": "stdout",
     "output_type": "stream",
     "text": [
      "\n",
      "Skewness Value :  -0.2238919214224984\n",
      "\n",
      "Kurtosis Value :  -0.648246776285117\n"
     ]
    },
    {
     "data": {
      "image/png": "[encoded data removed]",
      "text/plain": [
       "<Figure size 1152x288 with 2 Axes>"
      ]
     },
     "metadata": {
      "needs_background": "light"
     },
     "output_type": "display_data"
    },
    {
     "name": "stdout",
     "output_type": "stream",
     "text": [
      "\n",
      "Skewness Value :  1.5585788766121673\n",
      "\n",
      "Kurtosis Value :  2.676420327801664\n"
     ]
    },
    {
     "data": {
      "image/png": "[encoded data removed]",
      "text/plain": [
       "<Figure size 1152x288 with 2 Axes>"
      ]
     },
     "metadata": {
      "needs_background": "light"
     },
     "output_type": "display_data"
    },
    {
     "name": "stdout",
     "output_type": "stream",
     "text": [
      "\n",
      "Skewness Value :  1.2753093558973616\n",
      "\n",
      "Kurtosis Value :  3.374651439181022\n"
     ]
    },
    {
     "data": {
      "image/png": "[encoded data removed]",
      "text/plain": [
       "<Figure size 1152x288 with 2 Axes>"
      ]
     },
     "metadata": {
      "needs_background": "light"
     },
     "output_type": "display_data"
    },
    {
     "name": "stdout",
     "output_type": "stream",
     "text": [
      "\n",
      "Skewness Value :  7.689679541881874\n",
      "\n",
      "Kurtosis Value :  227.5630717390294\n"
     ]
    },
    {
     "data": {
      "image/png": "[encoded data removed]",
      "text/plain": [
       "<Figure size 1152x288 with 2 Axes>"
      ]
     },
     "metadata": {
      "needs_background": "light"
     },
     "output_type": "display_data"
    },
    {
     "name": "stdout",
     "output_type": "stream",
     "text": [
      "\n",
      "Skewness Value :  0.9136703956948359\n",
      "\n",
      "Kurtosis Value :  1.4682750169973153\n"
     ]
    },
    {
     "data": {
      "image/png": "[encoded data removed]",
      "text/plain": [
       "<Figure size 1152x288 with 2 Axes>"
      ]
     },
     "metadata": {
      "needs_background": "light"
     },
     "output_type": "display_data"
    },
    {
     "name": "stdout",
     "output_type": "stream",
     "text": [
      "\n",
      "Skewness Value :  7.557162297116489\n",
      "\n",
      "Kurtosis Value :  105.59804250190518\n"
     ]
    },
    {
     "data": {
      "image/png": "[encoded data removed]",
      "text/plain": [
       "<Figure size 1152x288 with 2 Axes>"
      ]
     },
     "metadata": {
      "needs_background": "light"
     },
     "output_type": "display_data"
    },
    {
     "name": "stdout",
     "output_type": "stream",
     "text": [
      "\n",
      "Skewness Value :  4.635172906979873\n",
      "\n",
      "Kurtosis Value :  24.362723786567116\n"
     ]
    },
    {
     "data": {
      "image/png": "[encoded data removed]",
      "text/plain": [
       "<Figure size 1152x288 with 2 Axes>"
      ]
     },
     "metadata": {
      "needs_background": "light"
     },
     "output_type": "display_data"
    },
    {
     "name": "stdout",
     "output_type": "stream",
     "text": [
      "\n",
      "Skewness Value :  6.517136842518509\n",
      "\n",
      "Kurtosis Value :  91.29405144198051\n"
     ]
    },
    {
     "data": {
      "image/png": "[encoded data removed]",
      "text/plain": [
       "<Figure size 1152x288 with 2 Axes>"
      ]
     },
     "metadata": {
      "needs_background": "light"
     },
     "output_type": "display_data"
    },
    {
     "name": "stdout",
     "output_type": "stream",
     "text": [
      "\n",
      "Skewness Value :  0.6907331988326608\n",
      "\n",
      "Kurtosis Value :  -1.5229230703295598\n"
     ]
    },
    {
     "data": {
      "image/png": "[encoded data removed]",
      "text/plain": [
       "<Figure size 1152x288 with 2 Axes>"
      ]
     },
     "metadata": {
      "needs_background": "light"
     },
     "output_type": "display_data"
    },
    {
     "name": "stdout",
     "output_type": "stream",
     "text": [
      "\n",
      "Skewness Value :  0.2742189238295607\n",
      "\n",
      "Kurtosis Value :  -0.37850881411806414\n"
     ]
    },
    {
     "data": {
      "image/png": "[encoded data removed]",
      "text/plain": [
       "<Figure size 1152x288 with 2 Axes>"
      ]
     },
     "metadata": {
      "needs_background": "light"
     },
     "output_type": "display_data"
    },
    {
     "name": "stdout",
     "output_type": "stream",
     "text": [
      "\n",
      "Skewness Value :  0.9209011312462243\n",
      "\n",
      "Kurtosis Value :  0.6548588507252018\n"
     ]
    },
    {
     "data": {
      "image/png": "[encoded data removed]",
      "text/plain": [
       "<Figure size 1152x288 with 2 Axes>"
      ]
     },
     "metadata": {
      "needs_background": "light"
     },
     "output_type": "display_data"
    },
    {
     "name": "stdout",
     "output_type": "stream",
     "text": [
      "\n",
      "Skewness Value :  11.067063973028256\n",
      "\n",
      "Kurtosis Value :  231.9364757009456\n"
     ]
    },
    {
     "data": {
      "image/png": "[encoded data removed]",
      "text/plain": [
       "<Figure size 1152x288 with 2 Axes>"
      ]
     },
     "metadata": {
      "needs_background": "light"
     },
     "output_type": "display_data"
    },
    {
     "name": "stdout",
     "output_type": "stream",
     "text": [
      "\n",
      "Skewness Value :  15.196255259401514\n",
      "\n",
      "Kurtosis Value :  757.6697940838247\n"
     ]
    },
    {
     "data": {
      "image/png": "[encoded data removed]",
      "text/plain": [
       "<Figure size 1152x288 with 2 Axes>"
      ]
     },
     "metadata": {
      "needs_background": "light"
     },
     "output_type": "display_data"
    },
    {
     "name": "stdout",
     "output_type": "stream",
     "text": [
      "\n",
      "Skewness Value :  1.1614109252710907\n",
      "\n",
      "Kurtosis Value :  0.5451708177143835\n"
     ]
    },
    {
     "data": {
      "image/png": "[encoded data removed]",
      "text/plain": [
       "<Figure size 1152x288 with 2 Axes>"
      ]
     },
     "metadata": {
      "needs_background": "light"
     },
     "output_type": "display_data"
    },
    {
     "name": "stdout",
     "output_type": "stream",
     "text": [
      "\n",
      "Skewness Value :  1.9667028085922214\n",
      "\n",
      "Kurtosis Value :  4.952356516353943\n"
     ]
    },
    {
     "data": {
      "image/png": "[encoded data removed]",
      "text/plain": [
       "<Figure size 1152x288 with 2 Axes>"
      ]
     },
     "metadata": {
      "needs_background": "light"
     },
     "output_type": "display_data"
    },
    {
     "name": "stdout",
     "output_type": "stream",
     "text": [
      "\n",
      "Skewness Value :  1.9667585416853752\n",
      "\n",
      "Kurtosis Value :  4.953507950906758\n"
     ]
    },
    {
     "data": {
      "image/png": "[encoded data removed]",
      "text/plain": [
       "<Figure size 1152x288 with 2 Axes>"
      ]
     },
     "metadata": {
      "needs_background": "light"
     },
     "output_type": "display_data"
    },
    {
     "name": "stdout",
     "output_type": "stream",
     "text": [
      "\n",
      "Skewness Value :  2.4663893290627454\n",
      "\n",
      "Kurtosis Value :  7.3578973444450355\n"
     ]
    },
    {
     "data": {
      "image/png": "[encoded data removed]",
      "text/plain": [
       "<Figure size 1152x288 with 2 Axes>"
      ]
     },
     "metadata": {
      "needs_background": "light"
     },
     "output_type": "display_data"
    },
    {
     "name": "stdout",
     "output_type": "stream",
     "text": [
      "\n",
      "Skewness Value :  2.5087641945684713\n",
      "\n",
      "Kurtosis Value :  8.908247816018626\n"
     ]
    },
    {
     "data": {
      "image/png": "[encoded data removed]",
      "text/plain": [
       "<Figure size 1152x288 with 2 Axes>"
      ]
     },
     "metadata": {
      "needs_background": "light"
     },
     "output_type": "display_data"
    },
    {
     "name": "stdout",
     "output_type": "stream",
     "text": [
      "\n",
      "Skewness Value :  1.1612430087668721\n",
      "\n",
      "Kurtosis Value :  0.5443135984286274\n"
     ]
    }
   ],
   "source": [
    "# For loop to create visualization for the numerical features.\n",
    "for variable in X_train_num.columns:\n",
    "    diagnostic_plots(X_train_num,variable)"
   ]
  },
  {
   "cell_type": "markdown",
   "metadata": {},
   "source": [
    "Interpretation of Skewness:\n",
    "- 0 to 0.5 or 0 to -0.5 = Normally Distributed\n",
    "- 0.5 to 1 or -0.5 to -1 = Moderately Skewed\n",
    "- Beyond 1 or -1 = Highly Skewed\n",
    "\n",
    "From the graphs above, we could ascertain that several of our numerical features have outliers and are highly skewed. However, most of these outlier heavy and skewed features also have a large kurtosis, which means their data are distributed mostly in one area. Therefore, removing or censoring the outliers would make little sense, seeing how it would significantly reduce the range of our data, completely changing its trend. As such, we have decided not to handle any outliers.\n",
    "\n",
    "*Note that not handling outliers is also considered acceptable in this case since the models we will be using (all Tree-Based) are not sensitive to outliers."
   ]
  },
  {
   "cell_type": "markdown",
   "metadata": {},
   "source": [
    "### e. Preprocessing Pipeline"
   ]
  },
  {
   "cell_type": "markdown",
   "metadata": {},
   "source": [
    "A pipeline is used to shorten / expedite certain process that may otherwise need manual and/or sequential processing. For example, if we were to do scaling and encoding in a non-pipelined process, we would need to split the dataframe into numerical and categorical sets (as we have done before and will be doing again to make the pipeline) and process them individually. With the addition of a pipeline, we can rapidly input a whole dataframe into it where it will then automatically split the data, scale and/or encode it, before putting it all back together afterwards."
   ]
  },
  {
   "cell_type": "code",
   "execution_count": 70,
   "metadata": {},
   "outputs": [
    {
     "data": {
      "text/html": [
       "<style>#sk-container-id-1 {color: black;background-color: white;}#sk-container-id-1 pre{padding: 0;}#sk-container-id-1 div.sk-toggleable {background-color: white;}#sk-container-id-1 label.sk-toggleable__label {cursor: pointer;display: block;width: 100%;margin-bottom: 0;padding: 0.3em;box-sizing: border-box;text-align: center;}#sk-container-id-1 label.sk-toggleable__label-arrow:before {content: \"▸\";float: left;margin-right: 0.25em;color: #696969;}#sk-container-id-1 label.sk-toggleable__label-arrow:hover:before {color: black;}#sk-container-id-1 div.sk-estimator:hover label.sk-toggleable__label-arrow:before {color: black;}#sk-container-id-1 div.sk-toggleable__content {max-height: 0;max-width: 0;overflow: hidden;text-align: left;background-color: #f0f8ff;}#sk-container-id-1 div.sk-toggleable__content pre {margin: 0.2em;color: black;border-radius: 0.25em;background-color: #f0f8ff;}#sk-container-id-1 input.sk-toggleable__control:checked~div.sk-toggleable__content {max-height: 200px;max-width: 100%;overflow: auto;}#sk-container-id-1 input.sk-toggleable__control:checked~label.sk-toggleable__label-arrow:before {content: \"▾\";}#sk-container-id-1 div.sk-estimator input.sk-toggleable__control:checked~label.sk-toggleable__label {background-color: #d4ebff;}#sk-container-id-1 div.sk-label input.sk-toggleable__control:checked~label.sk-toggleable__label {background-color: #d4ebff;}#sk-container-id-1 input.sk-hidden--visually {border: 0;clip: rect(1px 1px 1px 1px);clip: rect(1px, 1px, 1px, 1px);height: 1px;margin: -1px;overflow: hidden;padding: 0;position: absolute;width: 1px;}#sk-container-id-1 div.sk-estimator {font-family: monospace;background-color: #f0f8ff;border: 1px dotted black;border-radius: 0.25em;box-sizing: border-box;margin-bottom: 0.5em;}#sk-container-id-1 div.sk-estimator:hover {background-color: #d4ebff;}#sk-container-id-1 div.sk-parallel-item::after {content: \"\";width: 100%;border-bottom: 1px solid gray;flex-grow: 1;}#sk-container-id-1 div.sk-label:hover label.sk-toggleable__label {background-color: #d4ebff;}#sk-container-id-1 div.sk-serial::before {content: \"\";position: absolute;border-left: 1px solid gray;box-sizing: border-box;top: 0;bottom: 0;left: 50%;z-index: 0;}#sk-container-id-1 div.sk-serial {display: flex;flex-direction: column;align-items: center;background-color: white;padding-right: 0.2em;padding-left: 0.2em;position: relative;}#sk-container-id-1 div.sk-item {position: relative;z-index: 1;}#sk-container-id-1 div.sk-parallel {display: flex;align-items: stretch;justify-content: center;background-color: white;position: relative;}#sk-container-id-1 div.sk-item::before, #sk-container-id-1 div.sk-parallel-item::before {content: \"\";position: absolute;border-left: 1px solid gray;box-sizing: border-box;top: 0;bottom: 0;left: 50%;z-index: -1;}#sk-container-id-1 div.sk-parallel-item {display: flex;flex-direction: column;z-index: 1;position: relative;background-color: white;}#sk-container-id-1 div.sk-parallel-item:first-child::after {align-self: flex-end;width: 50%;}#sk-container-id-1 div.sk-parallel-item:last-child::after {align-self: flex-start;width: 50%;}#sk-container-id-1 div.sk-parallel-item:only-child::after {width: 0;}#sk-container-id-1 div.sk-dashed-wrapped {border: 1px dashed gray;margin: 0 0.4em 0.5em 0.4em;box-sizing: border-box;padding-bottom: 0.4em;background-color: white;}#sk-container-id-1 div.sk-label label {font-family: monospace;font-weight: bold;display: inline-block;line-height: 1.2em;}#sk-container-id-1 div.sk-label-container {text-align: center;}#sk-container-id-1 div.sk-container {/* jupyter's `normalize.less` sets `[hidden] { display: none; }` but bootstrap.min.css set `[hidden] { display: none !important; }` so we also need the `!important` here to be able to override the default hidden behavior on the sphinx rendered scikit-learn.org. See: https://github.com/scikit-learn/scikit-learn/issues/21755 */display: inline-block !important;position: relative;}#sk-container-id-1 div.sk-text-repr-fallback {display: none;}</style><div id=\"sk-container-id-1\" class=\"sk-top-container\"><div class=\"sk-text-repr-fallback\"><pre>Pipeline(steps=[(&#x27;preprocess&#x27;,\n",
       "                 ColumnTransformer(transformers=[(&#x27;nom&#x27;,\n",
       "                                                  Pipeline(steps=[(&#x27;nominal_encode&#x27;,\n",
       "                                                                   OneHotEncoder())]),\n",
       "                                                  array([&#x27;home_ownership&#x27;, &#x27;purpose&#x27;, &#x27;initial_list_status&#x27;], dtype=object)),\n",
       "                                                 (&#x27;num&#x27;,\n",
       "                                                  Pipeline(steps=[(&#x27;scaling&#x27;,\n",
       "                                                                   MinMaxScaler())]),\n",
       "                                                  array([&#x27;tot_cur_bal&#x27;, &#x27;total_rev_hi_lim&#x27;, &#x27;revol_util&#x27;, &#x27;inq_last_6mths&#x27;,\n",
       "       &#x27;open_acc&#x27;, &#x27;pub_rec&#x27;, &#x27;total_acc&#x27;, &#x27;...\n",
       "       &#x27;last_pymnt_amnt&#x27;, &#x27;recoveries&#x27;, &#x27;term&#x27;, &#x27;int_rate&#x27;, &#x27;installment&#x27;,\n",
       "       &#x27;total_rec_late_fee&#x27;, &#x27;revol_bal&#x27;, &#x27;out_prncp&#x27;, &#x27;total_pymnt&#x27;,\n",
       "       &#x27;total_pymnt_inv&#x27;, &#x27;total_rec_prncp&#x27;, &#x27;total_rec_int&#x27;,\n",
       "       &#x27;out_prncp_inv&#x27;], dtype=object)),\n",
       "                                                 (&#x27;ordinal&#x27;,\n",
       "                                                  Pipeline(steps=[(&#x27;ordinal_encode&#x27;,\n",
       "                                                                   OrdinalEncoder())]),\n",
       "                                                  array([&#x27;emp_length&#x27;, &#x27;verification_status&#x27;, &#x27;grade&#x27;, &#x27;sub_grade&#x27;],\n",
       "      dtype=object))]))])</pre><b>In a Jupyter environment, please rerun this cell to show the HTML representation or trust the notebook. <br />On GitHub, the HTML representation is unable to render, please try loading this page with nbviewer.org.</b></div><div class=\"sk-container\" hidden><div class=\"sk-item sk-dashed-wrapped\"><div class=\"sk-label-container\"><div class=\"sk-label sk-toggleable\"><input class=\"sk-toggleable__control sk-hidden--visually\" id=\"sk-estimator-id-1\" type=\"checkbox\" ><label for=\"sk-estimator-id-1\" class=\"sk-toggleable__label sk-toggleable__label-arrow\">Pipeline</label><div class=\"sk-toggleable__content\"><pre>Pipeline(steps=[(&#x27;preprocess&#x27;,\n",
       "                 ColumnTransformer(transformers=[(&#x27;nom&#x27;,\n",
       "                                                  Pipeline(steps=[(&#x27;nominal_encode&#x27;,\n",
       "                                                                   OneHotEncoder())]),\n",
       "                                                  array([&#x27;home_ownership&#x27;, &#x27;purpose&#x27;, &#x27;initial_list_status&#x27;], dtype=object)),\n",
       "                                                 (&#x27;num&#x27;,\n",
       "                                                  Pipeline(steps=[(&#x27;scaling&#x27;,\n",
       "                                                                   MinMaxScaler())]),\n",
       "                                                  array([&#x27;tot_cur_bal&#x27;, &#x27;total_rev_hi_lim&#x27;, &#x27;revol_util&#x27;, &#x27;inq_last_6mths&#x27;,\n",
       "       &#x27;open_acc&#x27;, &#x27;pub_rec&#x27;, &#x27;total_acc&#x27;, &#x27;...\n",
       "       &#x27;last_pymnt_amnt&#x27;, &#x27;recoveries&#x27;, &#x27;term&#x27;, &#x27;int_rate&#x27;, &#x27;installment&#x27;,\n",
       "       &#x27;total_rec_late_fee&#x27;, &#x27;revol_bal&#x27;, &#x27;out_prncp&#x27;, &#x27;total_pymnt&#x27;,\n",
       "       &#x27;total_pymnt_inv&#x27;, &#x27;total_rec_prncp&#x27;, &#x27;total_rec_int&#x27;,\n",
       "       &#x27;out_prncp_inv&#x27;], dtype=object)),\n",
       "                                                 (&#x27;ordinal&#x27;,\n",
       "                                                  Pipeline(steps=[(&#x27;ordinal_encode&#x27;,\n",
       "                                                                   OrdinalEncoder())]),\n",
       "                                                  array([&#x27;emp_length&#x27;, &#x27;verification_status&#x27;, &#x27;grade&#x27;, &#x27;sub_grade&#x27;],\n",
       "      dtype=object))]))])</pre></div></div></div><div class=\"sk-serial\"><div class=\"sk-item sk-dashed-wrapped\"><div class=\"sk-label-container\"><div class=\"sk-label sk-toggleable\"><input class=\"sk-toggleable__control sk-hidden--visually\" id=\"sk-estimator-id-2\" type=\"checkbox\" ><label for=\"sk-estimator-id-2\" class=\"sk-toggleable__label sk-toggleable__label-arrow\">preprocess: ColumnTransformer</label><div class=\"sk-toggleable__content\"><pre>ColumnTransformer(transformers=[(&#x27;nom&#x27;,\n",
       "                                 Pipeline(steps=[(&#x27;nominal_encode&#x27;,\n",
       "                                                  OneHotEncoder())]),\n",
       "                                 array([&#x27;home_ownership&#x27;, &#x27;purpose&#x27;, &#x27;initial_list_status&#x27;], dtype=object)),\n",
       "                                (&#x27;num&#x27;,\n",
       "                                 Pipeline(steps=[(&#x27;scaling&#x27;, MinMaxScaler())]),\n",
       "                                 array([&#x27;tot_cur_bal&#x27;, &#x27;total_rev_hi_lim&#x27;, &#x27;revol_util&#x27;, &#x27;inq_last_6mths&#x27;,\n",
       "       &#x27;open_acc&#x27;, &#x27;pub_rec&#x27;, &#x27;total_acc&#x27;, &#x27;collection_recovery_fee&#x27;,\n",
       "       &#x27;last_pymnt_amnt&#x27;, &#x27;recoveries&#x27;, &#x27;term&#x27;, &#x27;int_rate&#x27;, &#x27;installment&#x27;,\n",
       "       &#x27;total_rec_late_fee&#x27;, &#x27;revol_bal&#x27;, &#x27;out_prncp&#x27;, &#x27;total_pymnt&#x27;,\n",
       "       &#x27;total_pymnt_inv&#x27;, &#x27;total_rec_prncp&#x27;, &#x27;total_rec_int&#x27;,\n",
       "       &#x27;out_prncp_inv&#x27;], dtype=object)),\n",
       "                                (&#x27;ordinal&#x27;,\n",
       "                                 Pipeline(steps=[(&#x27;ordinal_encode&#x27;,\n",
       "                                                  OrdinalEncoder())]),\n",
       "                                 array([&#x27;emp_length&#x27;, &#x27;verification_status&#x27;, &#x27;grade&#x27;, &#x27;sub_grade&#x27;],\n",
       "      dtype=object))])</pre></div></div></div><div class=\"sk-parallel\"><div class=\"sk-parallel-item\"><div class=\"sk-item\"><div class=\"sk-label-container\"><div class=\"sk-label sk-toggleable\"><input class=\"sk-toggleable__control sk-hidden--visually\" id=\"sk-estimator-id-3\" type=\"checkbox\" ><label for=\"sk-estimator-id-3\" class=\"sk-toggleable__label sk-toggleable__label-arrow\">nom</label><div class=\"sk-toggleable__content\"><pre>[&#x27;home_ownership&#x27; &#x27;purpose&#x27; &#x27;initial_list_status&#x27;]</pre></div></div></div><div class=\"sk-serial\"><div class=\"sk-item\"><div class=\"sk-serial\"><div class=\"sk-item\"><div class=\"sk-estimator sk-toggleable\"><input class=\"sk-toggleable__control sk-hidden--visually\" id=\"sk-estimator-id-4\" type=\"checkbox\" ><label for=\"sk-estimator-id-4\" class=\"sk-toggleable__label sk-toggleable__label-arrow\">OneHotEncoder</label><div class=\"sk-toggleable__content\"><pre>OneHotEncoder()</pre></div></div></div></div></div></div></div></div><div class=\"sk-parallel-item\"><div class=\"sk-item\"><div class=\"sk-label-container\"><div class=\"sk-label sk-toggleable\"><input class=\"sk-toggleable__control sk-hidden--visually\" id=\"sk-estimator-id-5\" type=\"checkbox\" ><label for=\"sk-estimator-id-5\" class=\"sk-toggleable__label sk-toggleable__label-arrow\">num</label><div class=\"sk-toggleable__content\"><pre>[&#x27;tot_cur_bal&#x27; &#x27;total_rev_hi_lim&#x27; &#x27;revol_util&#x27; &#x27;inq_last_6mths&#x27; &#x27;open_acc&#x27;\n",
       " &#x27;pub_rec&#x27; &#x27;total_acc&#x27; &#x27;collection_recovery_fee&#x27; &#x27;last_pymnt_amnt&#x27;\n",
       " &#x27;recoveries&#x27; &#x27;term&#x27; &#x27;int_rate&#x27; &#x27;installment&#x27; &#x27;total_rec_late_fee&#x27;\n",
       " &#x27;revol_bal&#x27; &#x27;out_prncp&#x27; &#x27;total_pymnt&#x27; &#x27;total_pymnt_inv&#x27; &#x27;total_rec_prncp&#x27;\n",
       " &#x27;total_rec_int&#x27; &#x27;out_prncp_inv&#x27;]</pre></div></div></div><div class=\"sk-serial\"><div class=\"sk-item\"><div class=\"sk-serial\"><div class=\"sk-item\"><div class=\"sk-estimator sk-toggleable\"><input class=\"sk-toggleable__control sk-hidden--visually\" id=\"sk-estimator-id-6\" type=\"checkbox\" ><label for=\"sk-estimator-id-6\" class=\"sk-toggleable__label sk-toggleable__label-arrow\">MinMaxScaler</label><div class=\"sk-toggleable__content\"><pre>MinMaxScaler()</pre></div></div></div></div></div></div></div></div><div class=\"sk-parallel-item\"><div class=\"sk-item\"><div class=\"sk-label-container\"><div class=\"sk-label sk-toggleable\"><input class=\"sk-toggleable__control sk-hidden--visually\" id=\"sk-estimator-id-7\" type=\"checkbox\" ><label for=\"sk-estimator-id-7\" class=\"sk-toggleable__label sk-toggleable__label-arrow\">ordinal</label><div class=\"sk-toggleable__content\"><pre>[&#x27;emp_length&#x27; &#x27;verification_status&#x27; &#x27;grade&#x27; &#x27;sub_grade&#x27;]</pre></div></div></div><div class=\"sk-serial\"><div class=\"sk-item\"><div class=\"sk-serial\"><div class=\"sk-item\"><div class=\"sk-estimator sk-toggleable\"><input class=\"sk-toggleable__control sk-hidden--visually\" id=\"sk-estimator-id-8\" type=\"checkbox\" ><label for=\"sk-estimator-id-8\" class=\"sk-toggleable__label sk-toggleable__label-arrow\">OrdinalEncoder</label><div class=\"sk-toggleable__content\"><pre>OrdinalEncoder()</pre></div></div></div></div></div></div></div></div></div></div></div></div></div></div>"
      ],
      "text/plain": [
       "Pipeline(steps=[('preprocess',\n",
       "                 ColumnTransformer(transformers=[('nom',\n",
       "                                                  Pipeline(steps=[('nominal_encode',\n",
       "                                                                   OneHotEncoder())]),\n",
       "                                                  array(['home_ownership', 'purpose', 'initial_list_status'], dtype=object)),\n",
       "                                                 ('num',\n",
       "                                                  Pipeline(steps=[('scaling',\n",
       "                                                                   MinMaxScaler())]),\n",
       "                                                  array(['tot_cur_bal', 'total_rev_hi_lim', 'revol_util', 'inq_last_6mths',\n",
       "       'open_acc', 'pub_rec', 'total_acc', '...\n",
       "       'last_pymnt_amnt', 'recoveries', 'term', 'int_rate', 'installment',\n",
       "       'total_rec_late_fee', 'revol_bal', 'out_prncp', 'total_pymnt',\n",
       "       'total_pymnt_inv', 'total_rec_prncp', 'total_rec_int',\n",
       "       'out_prncp_inv'], dtype=object)),\n",
       "                                                 ('ordinal',\n",
       "                                                  Pipeline(steps=[('ordinal_encode',\n",
       "                                                                   OrdinalEncoder())]),\n",
       "                                                  array(['emp_length', 'verification_status', 'grade', 'sub_grade'],\n",
       "      dtype=object))]))])"
      ]
     },
     "execution_count": 70,
     "metadata": {},
     "output_type": "execute_result"
    }
   ],
   "source": [
    "# Recombining Numerical and Categorical features for fitting of Pipeline.\n",
    "X_train_pipe_final = pd.concat([X_train_num.reset_index(drop=True),X_train_ordinal.reset_index(drop=True),X_train_nominal.reset_index(drop=True)], axis=1)\n",
    "\n",
    "# Redefining Scaler and Encoders.\n",
    "scaler = MinMaxScaler()\n",
    "onehot_encoder = OneHotEncoder()\n",
    "ordinal_encoder = OrdinalEncoder()\n",
    "\n",
    "# Redefining Numerical and the two different Categorical columns.\n",
    "num_col = X_train_num.columns.values\n",
    "nominal_cat_col = X_train_nominal.columns.values\n",
    "ordinal_col = X_train_ordinal.columns.values\n",
    "\n",
    "# Creating individual Scaling and Encoding processes inside the Pipeline.\n",
    "nominal_pipe = Pipeline([\n",
    "    ('nominal_encode',OneHotEncoder())])\n",
    "\n",
    "num_pipe = Pipeline([\n",
    "    ('scaling',MinMaxScaler())])\n",
    "\n",
    "ordinal_pipe = Pipeline([('ordinal_encode',OrdinalEncoder())])\n",
    "\n",
    "# Combining the processes into the final Pipeline.\n",
    "preprocess = ColumnTransformer([\n",
    "    ('nom',nominal_pipe,nominal_cat_col),\n",
    "    ('num',num_pipe,num_col),\n",
    "    ('ordinal',ordinal_pipe,ordinal_col)])\n",
    "    \n",
    "# Placing the Pipeline into a new definition.\n",
    "pipe = Pipeline(steps=[(\"preprocess\", preprocess)])\n",
    "\n",
    "# Training / Fitting the combined Numerical and Categorical dataframe with the Pipeline.\n",
    "pipe.fit(X_train_pipe_final)"
   ]
  },
  {
   "cell_type": "code",
   "execution_count": 71,
   "metadata": {},
   "outputs": [
    {
     "data": {
      "text/html": [
       "<div>\n",
       "<style scoped>\n",
       "    .dataframe tbody tr th:only-of-type {\n",
       "        vertical-align: middle;\n",
       "    }\n",
       "\n",
       "    .dataframe tbody tr th {\n",
       "        vertical-align: top;\n",
       "    }\n",
       "\n",
       "    .dataframe thead th {\n",
       "        text-align: right;\n",
       "    }\n",
       "</style>\n",
       "<table border=\"1\" class=\"dataframe\">\n",
       "  <thead>\n",
       "    <tr style=\"text-align: right;\">\n",
       "      <th></th>\n",
       "      <th>0</th>\n",
       "      <th>1</th>\n",
       "      <th>2</th>\n",
       "      <th>3</th>\n",
       "      <th>4</th>\n",
       "      <th>5</th>\n",
       "      <th>6</th>\n",
       "      <th>7</th>\n",
       "      <th>8</th>\n",
       "      <th>9</th>\n",
       "      <th>...</th>\n",
       "      <th>35</th>\n",
       "      <th>36</th>\n",
       "      <th>37</th>\n",
       "      <th>38</th>\n",
       "      <th>39</th>\n",
       "      <th>40</th>\n",
       "      <th>41</th>\n",
       "      <th>42</th>\n",
       "      <th>43</th>\n",
       "      <th>44</th>\n",
       "    </tr>\n",
       "  </thead>\n",
       "  <tbody>\n",
       "    <tr>\n",
       "      <th>0</th>\n",
       "      <td>0.0</td>\n",
       "      <td>0.0</td>\n",
       "      <td>0.0</td>\n",
       "      <td>0.0</td>\n",
       "      <td>1.0</td>\n",
       "      <td>0.0</td>\n",
       "      <td>0.0</td>\n",
       "      <td>1.0</td>\n",
       "      <td>0.0</td>\n",
       "      <td>0.0</td>\n",
       "      <td>...</td>\n",
       "      <td>0.543215</td>\n",
       "      <td>0.023551</td>\n",
       "      <td>0.023551</td>\n",
       "      <td>0.028213</td>\n",
       "      <td>0.013903</td>\n",
       "      <td>0.543215</td>\n",
       "      <td>1.0</td>\n",
       "      <td>0.0</td>\n",
       "      <td>1.0</td>\n",
       "      <td>5.0</td>\n",
       "    </tr>\n",
       "    <tr>\n",
       "      <th>1</th>\n",
       "      <td>0.0</td>\n",
       "      <td>0.0</td>\n",
       "      <td>0.0</td>\n",
       "      <td>0.0</td>\n",
       "      <td>1.0</td>\n",
       "      <td>0.0</td>\n",
       "      <td>1.0</td>\n",
       "      <td>0.0</td>\n",
       "      <td>0.0</td>\n",
       "      <td>0.0</td>\n",
       "      <td>...</td>\n",
       "      <td>0.150333</td>\n",
       "      <td>0.017547</td>\n",
       "      <td>0.017547</td>\n",
       "      <td>0.021096</td>\n",
       "      <td>0.010235</td>\n",
       "      <td>0.150333</td>\n",
       "      <td>3.0</td>\n",
       "      <td>0.0</td>\n",
       "      <td>1.0</td>\n",
       "      <td>6.0</td>\n",
       "    </tr>\n",
       "    <tr>\n",
       "      <th>2</th>\n",
       "      <td>1.0</td>\n",
       "      <td>0.0</td>\n",
       "      <td>0.0</td>\n",
       "      <td>0.0</td>\n",
       "      <td>0.0</td>\n",
       "      <td>0.0</td>\n",
       "      <td>0.0</td>\n",
       "      <td>1.0</td>\n",
       "      <td>0.0</td>\n",
       "      <td>0.0</td>\n",
       "      <td>...</td>\n",
       "      <td>0.481783</td>\n",
       "      <td>0.036033</td>\n",
       "      <td>0.036033</td>\n",
       "      <td>0.032503</td>\n",
       "      <td>0.039041</td>\n",
       "      <td>0.481783</td>\n",
       "      <td>1.0</td>\n",
       "      <td>0.0</td>\n",
       "      <td>1.0</td>\n",
       "      <td>9.0</td>\n",
       "    </tr>\n",
       "    <tr>\n",
       "      <th>3</th>\n",
       "      <td>0.0</td>\n",
       "      <td>0.0</td>\n",
       "      <td>0.0</td>\n",
       "      <td>0.0</td>\n",
       "      <td>1.0</td>\n",
       "      <td>0.0</td>\n",
       "      <td>0.0</td>\n",
       "      <td>1.0</td>\n",
       "      <td>0.0</td>\n",
       "      <td>0.0</td>\n",
       "      <td>...</td>\n",
       "      <td>0.204287</td>\n",
       "      <td>0.030963</td>\n",
       "      <td>0.030963</td>\n",
       "      <td>0.034284</td>\n",
       "      <td>0.022961</td>\n",
       "      <td>0.204287</td>\n",
       "      <td>1.0</td>\n",
       "      <td>0.0</td>\n",
       "      <td>1.0</td>\n",
       "      <td>9.0</td>\n",
       "    </tr>\n",
       "    <tr>\n",
       "      <th>4</th>\n",
       "      <td>1.0</td>\n",
       "      <td>0.0</td>\n",
       "      <td>0.0</td>\n",
       "      <td>0.0</td>\n",
       "      <td>0.0</td>\n",
       "      <td>0.0</td>\n",
       "      <td>1.0</td>\n",
       "      <td>0.0</td>\n",
       "      <td>0.0</td>\n",
       "      <td>0.0</td>\n",
       "      <td>...</td>\n",
       "      <td>0.714723</td>\n",
       "      <td>0.194698</td>\n",
       "      <td>0.194698</td>\n",
       "      <td>0.170991</td>\n",
       "      <td>0.218672</td>\n",
       "      <td>0.714723</td>\n",
       "      <td>7.0</td>\n",
       "      <td>2.0</td>\n",
       "      <td>2.0</td>\n",
       "      <td>10.0</td>\n",
       "    </tr>\n",
       "    <tr>\n",
       "      <th>...</th>\n",
       "      <td>...</td>\n",
       "      <td>...</td>\n",
       "      <td>...</td>\n",
       "      <td>...</td>\n",
       "      <td>...</td>\n",
       "      <td>...</td>\n",
       "      <td>...</td>\n",
       "      <td>...</td>\n",
       "      <td>...</td>\n",
       "      <td>...</td>\n",
       "      <td>...</td>\n",
       "      <td>...</td>\n",
       "      <td>...</td>\n",
       "      <td>...</td>\n",
       "      <td>...</td>\n",
       "      <td>...</td>\n",
       "      <td>...</td>\n",
       "      <td>...</td>\n",
       "      <td>...</td>\n",
       "      <td>...</td>\n",
       "      <td>...</td>\n",
       "    </tr>\n",
       "    <tr>\n",
       "      <th>85983</th>\n",
       "      <td>1.0</td>\n",
       "      <td>0.0</td>\n",
       "      <td>0.0</td>\n",
       "      <td>0.0</td>\n",
       "      <td>0.0</td>\n",
       "      <td>0.0</td>\n",
       "      <td>0.0</td>\n",
       "      <td>1.0</td>\n",
       "      <td>0.0</td>\n",
       "      <td>0.0</td>\n",
       "      <td>...</td>\n",
       "      <td>0.395956</td>\n",
       "      <td>0.006411</td>\n",
       "      <td>0.006411</td>\n",
       "      <td>0.004044</td>\n",
       "      <td>0.009844</td>\n",
       "      <td>0.395956</td>\n",
       "      <td>1.0</td>\n",
       "      <td>1.0</td>\n",
       "      <td>4.0</td>\n",
       "      <td>22.0</td>\n",
       "    </tr>\n",
       "    <tr>\n",
       "      <th>85984</th>\n",
       "      <td>0.0</td>\n",
       "      <td>0.0</td>\n",
       "      <td>0.0</td>\n",
       "      <td>0.0</td>\n",
       "      <td>1.0</td>\n",
       "      <td>0.0</td>\n",
       "      <td>0.0</td>\n",
       "      <td>0.0</td>\n",
       "      <td>0.0</td>\n",
       "      <td>0.0</td>\n",
       "      <td>...</td>\n",
       "      <td>0.000000</td>\n",
       "      <td>0.054953</td>\n",
       "      <td>0.054953</td>\n",
       "      <td>0.071429</td>\n",
       "      <td>0.023117</td>\n",
       "      <td>0.000000</td>\n",
       "      <td>7.0</td>\n",
       "      <td>0.0</td>\n",
       "      <td>3.0</td>\n",
       "      <td>15.0</td>\n",
       "    </tr>\n",
       "    <tr>\n",
       "      <th>85985</th>\n",
       "      <td>1.0</td>\n",
       "      <td>0.0</td>\n",
       "      <td>0.0</td>\n",
       "      <td>0.0</td>\n",
       "      <td>0.0</td>\n",
       "      <td>0.0</td>\n",
       "      <td>0.0</td>\n",
       "      <td>0.0</td>\n",
       "      <td>0.0</td>\n",
       "      <td>0.0</td>\n",
       "      <td>...</td>\n",
       "      <td>0.383872</td>\n",
       "      <td>0.070269</td>\n",
       "      <td>0.070269</td>\n",
       "      <td>0.073271</td>\n",
       "      <td>0.057121</td>\n",
       "      <td>0.383872</td>\n",
       "      <td>7.0</td>\n",
       "      <td>1.0</td>\n",
       "      <td>2.0</td>\n",
       "      <td>10.0</td>\n",
       "    </tr>\n",
       "    <tr>\n",
       "      <th>85986</th>\n",
       "      <td>0.0</td>\n",
       "      <td>0.0</td>\n",
       "      <td>0.0</td>\n",
       "      <td>0.0</td>\n",
       "      <td>1.0</td>\n",
       "      <td>0.0</td>\n",
       "      <td>0.0</td>\n",
       "      <td>1.0</td>\n",
       "      <td>0.0</td>\n",
       "      <td>0.0</td>\n",
       "      <td>...</td>\n",
       "      <td>0.000000</td>\n",
       "      <td>0.159256</td>\n",
       "      <td>0.159256</td>\n",
       "      <td>0.053088</td>\n",
       "      <td>0.168682</td>\n",
       "      <td>0.000000</td>\n",
       "      <td>1.0</td>\n",
       "      <td>2.0</td>\n",
       "      <td>4.0</td>\n",
       "      <td>23.0</td>\n",
       "    </tr>\n",
       "    <tr>\n",
       "      <th>85987</th>\n",
       "      <td>1.0</td>\n",
       "      <td>0.0</td>\n",
       "      <td>0.0</td>\n",
       "      <td>0.0</td>\n",
       "      <td>0.0</td>\n",
       "      <td>0.0</td>\n",
       "      <td>0.0</td>\n",
       "      <td>1.0</td>\n",
       "      <td>0.0</td>\n",
       "      <td>0.0</td>\n",
       "      <td>...</td>\n",
       "      <td>0.066670</td>\n",
       "      <td>0.159258</td>\n",
       "      <td>0.159258</td>\n",
       "      <td>0.186901</td>\n",
       "      <td>0.100494</td>\n",
       "      <td>0.066670</td>\n",
       "      <td>1.0</td>\n",
       "      <td>0.0</td>\n",
       "      <td>2.0</td>\n",
       "      <td>12.0</td>\n",
       "    </tr>\n",
       "  </tbody>\n",
       "</table>\n",
       "<p>85988 rows × 45 columns</p>\n",
       "</div>"
      ],
      "text/plain": [
       "        0    1    2    3    4    5    6    7    8    9   ...        35  \\\n",
       "0      0.0  0.0  0.0  0.0  1.0  0.0  0.0  1.0  0.0  0.0  ...  0.543215   \n",
       "1      0.0  0.0  0.0  0.0  1.0  0.0  1.0  0.0  0.0  0.0  ...  0.150333   \n",
       "2      1.0  0.0  0.0  0.0  0.0  0.0  0.0  1.0  0.0  0.0  ...  0.481783   \n",
       "3      0.0  0.0  0.0  0.0  1.0  0.0  0.0  1.0  0.0  0.0  ...  0.204287   \n",
       "4      1.0  0.0  0.0  0.0  0.0  0.0  1.0  0.0  0.0  0.0  ...  0.714723   \n",
       "...    ...  ...  ...  ...  ...  ...  ...  ...  ...  ...  ...       ...   \n",
       "85983  1.0  0.0  0.0  0.0  0.0  0.0  0.0  1.0  0.0  0.0  ...  0.395956   \n",
       "85984  0.0  0.0  0.0  0.0  1.0  0.0  0.0  0.0  0.0  0.0  ...  0.000000   \n",
       "85985  1.0  0.0  0.0  0.0  0.0  0.0  0.0  0.0  0.0  0.0  ...  0.383872   \n",
       "85986  0.0  0.0  0.0  0.0  1.0  0.0  0.0  1.0  0.0  0.0  ...  0.000000   \n",
       "85987  1.0  0.0  0.0  0.0  0.0  0.0  0.0  1.0  0.0  0.0  ...  0.066670   \n",
       "\n",
       "             36        37        38        39        40   41   42   43    44  \n",
       "0      0.023551  0.023551  0.028213  0.013903  0.543215  1.0  0.0  1.0   5.0  \n",
       "1      0.017547  0.017547  0.021096  0.010235  0.150333  3.0  0.0  1.0   6.0  \n",
       "2      0.036033  0.036033  0.032503  0.039041  0.481783  1.0  0.0  1.0   9.0  \n",
       "3      0.030963  0.030963  0.034284  0.022961  0.204287  1.0  0.0  1.0   9.0  \n",
       "4      0.194698  0.194698  0.170991  0.218672  0.714723  7.0  2.0  2.0  10.0  \n",
       "...         ...       ...       ...       ...       ...  ...  ...  ...   ...  \n",
       "85983  0.006411  0.006411  0.004044  0.009844  0.395956  1.0  1.0  4.0  22.0  \n",
       "85984  0.054953  0.054953  0.071429  0.023117  0.000000  7.0  0.0  3.0  15.0  \n",
       "85985  0.070269  0.070269  0.073271  0.057121  0.383872  7.0  1.0  2.0  10.0  \n",
       "85986  0.159256  0.159256  0.053088  0.168682  0.000000  1.0  2.0  4.0  23.0  \n",
       "85987  0.159258  0.159258  0.186901  0.100494  0.066670  1.0  0.0  2.0  12.0  \n",
       "\n",
       "[85988 rows x 45 columns]"
      ]
     },
     "execution_count": 71,
     "metadata": {},
     "output_type": "execute_result"
    }
   ],
   "source": [
    "# Obtaining the final Train dataframe after being Scaled and Encoded in the Pipeline.\n",
    "transform_X_train = pipe.transform(X_train_pipe_final)\n",
    "X_train_final = pd.DataFrame(transform_X_train)\n",
    "X_train_final"
   ]
  },
  {
   "cell_type": "code",
   "execution_count": 72,
   "metadata": {},
   "outputs": [
    {
     "data": {
      "text/html": [
       "<div>\n",
       "<style scoped>\n",
       "    .dataframe tbody tr th:only-of-type {\n",
       "        vertical-align: middle;\n",
       "    }\n",
       "\n",
       "    .dataframe tbody tr th {\n",
       "        vertical-align: top;\n",
       "    }\n",
       "\n",
       "    .dataframe thead th {\n",
       "        text-align: right;\n",
       "    }\n",
       "</style>\n",
       "<table border=\"1\" class=\"dataframe\">\n",
       "  <thead>\n",
       "    <tr style=\"text-align: right;\">\n",
       "      <th></th>\n",
       "      <th>0</th>\n",
       "      <th>1</th>\n",
       "      <th>2</th>\n",
       "      <th>3</th>\n",
       "      <th>4</th>\n",
       "      <th>5</th>\n",
       "      <th>6</th>\n",
       "      <th>7</th>\n",
       "      <th>8</th>\n",
       "      <th>9</th>\n",
       "      <th>...</th>\n",
       "      <th>35</th>\n",
       "      <th>36</th>\n",
       "      <th>37</th>\n",
       "      <th>38</th>\n",
       "      <th>39</th>\n",
       "      <th>40</th>\n",
       "      <th>41</th>\n",
       "      <th>42</th>\n",
       "      <th>43</th>\n",
       "      <th>44</th>\n",
       "    </tr>\n",
       "  </thead>\n",
       "  <tbody>\n",
       "    <tr>\n",
       "      <th>0</th>\n",
       "      <td>1.0</td>\n",
       "      <td>0.0</td>\n",
       "      <td>0.0</td>\n",
       "      <td>0.0</td>\n",
       "      <td>0.0</td>\n",
       "      <td>0.0</td>\n",
       "      <td>0.0</td>\n",
       "      <td>1.0</td>\n",
       "      <td>0.0</td>\n",
       "      <td>0.0</td>\n",
       "      <td>...</td>\n",
       "      <td>0.619429</td>\n",
       "      <td>0.027489</td>\n",
       "      <td>0.027489</td>\n",
       "      <td>0.023428</td>\n",
       "      <td>0.032063</td>\n",
       "      <td>0.619429</td>\n",
       "      <td>1.0</td>\n",
       "      <td>0.0</td>\n",
       "      <td>2.0</td>\n",
       "      <td>11.0</td>\n",
       "    </tr>\n",
       "    <tr>\n",
       "      <th>1</th>\n",
       "      <td>1.0</td>\n",
       "      <td>0.0</td>\n",
       "      <td>0.0</td>\n",
       "      <td>0.0</td>\n",
       "      <td>0.0</td>\n",
       "      <td>0.0</td>\n",
       "      <td>0.0</td>\n",
       "      <td>1.0</td>\n",
       "      <td>0.0</td>\n",
       "      <td>0.0</td>\n",
       "      <td>...</td>\n",
       "      <td>0.273945</td>\n",
       "      <td>0.018980</td>\n",
       "      <td>0.018980</td>\n",
       "      <td>0.011769</td>\n",
       "      <td>0.029482</td>\n",
       "      <td>0.273945</td>\n",
       "      <td>1.0</td>\n",
       "      <td>2.0</td>\n",
       "      <td>4.0</td>\n",
       "      <td>22.0</td>\n",
       "    </tr>\n",
       "    <tr>\n",
       "      <th>2</th>\n",
       "      <td>1.0</td>\n",
       "      <td>0.0</td>\n",
       "      <td>0.0</td>\n",
       "      <td>0.0</td>\n",
       "      <td>0.0</td>\n",
       "      <td>0.0</td>\n",
       "      <td>1.0</td>\n",
       "      <td>0.0</td>\n",
       "      <td>0.0</td>\n",
       "      <td>0.0</td>\n",
       "      <td>...</td>\n",
       "      <td>0.237762</td>\n",
       "      <td>0.083189</td>\n",
       "      <td>0.083189</td>\n",
       "      <td>0.105095</td>\n",
       "      <td>0.040053</td>\n",
       "      <td>0.237762</td>\n",
       "      <td>1.0</td>\n",
       "      <td>1.0</td>\n",
       "      <td>0.0</td>\n",
       "      <td>4.0</td>\n",
       "    </tr>\n",
       "    <tr>\n",
       "      <th>3</th>\n",
       "      <td>0.0</td>\n",
       "      <td>0.0</td>\n",
       "      <td>0.0</td>\n",
       "      <td>0.0</td>\n",
       "      <td>1.0</td>\n",
       "      <td>0.0</td>\n",
       "      <td>0.0</td>\n",
       "      <td>1.0</td>\n",
       "      <td>0.0</td>\n",
       "      <td>0.0</td>\n",
       "      <td>...</td>\n",
       "      <td>0.000000</td>\n",
       "      <td>0.132476</td>\n",
       "      <td>0.132476</td>\n",
       "      <td>0.099759</td>\n",
       "      <td>0.095623</td>\n",
       "      <td>0.000000</td>\n",
       "      <td>7.0</td>\n",
       "      <td>0.0</td>\n",
       "      <td>3.0</td>\n",
       "      <td>18.0</td>\n",
       "    </tr>\n",
       "    <tr>\n",
       "      <th>4</th>\n",
       "      <td>1.0</td>\n",
       "      <td>0.0</td>\n",
       "      <td>0.0</td>\n",
       "      <td>0.0</td>\n",
       "      <td>0.0</td>\n",
       "      <td>0.0</td>\n",
       "      <td>0.0</td>\n",
       "      <td>1.0</td>\n",
       "      <td>0.0</td>\n",
       "      <td>0.0</td>\n",
       "      <td>...</td>\n",
       "      <td>0.222114</td>\n",
       "      <td>0.100171</td>\n",
       "      <td>0.100171</td>\n",
       "      <td>0.120743</td>\n",
       "      <td>0.057902</td>\n",
       "      <td>0.222114</td>\n",
       "      <td>1.0</td>\n",
       "      <td>0.0</td>\n",
       "      <td>1.0</td>\n",
       "      <td>7.0</td>\n",
       "    </tr>\n",
       "    <tr>\n",
       "      <th>...</th>\n",
       "      <td>...</td>\n",
       "      <td>...</td>\n",
       "      <td>...</td>\n",
       "      <td>...</td>\n",
       "      <td>...</td>\n",
       "      <td>...</td>\n",
       "      <td>...</td>\n",
       "      <td>...</td>\n",
       "      <td>...</td>\n",
       "      <td>...</td>\n",
       "      <td>...</td>\n",
       "      <td>...</td>\n",
       "      <td>...</td>\n",
       "      <td>...</td>\n",
       "      <td>...</td>\n",
       "      <td>...</td>\n",
       "      <td>...</td>\n",
       "      <td>...</td>\n",
       "      <td>...</td>\n",
       "      <td>...</td>\n",
       "      <td>...</td>\n",
       "    </tr>\n",
       "    <tr>\n",
       "      <th>154789</th>\n",
       "      <td>1.0</td>\n",
       "      <td>0.0</td>\n",
       "      <td>0.0</td>\n",
       "      <td>0.0</td>\n",
       "      <td>0.0</td>\n",
       "      <td>0.0</td>\n",
       "      <td>1.0</td>\n",
       "      <td>0.0</td>\n",
       "      <td>0.0</td>\n",
       "      <td>0.0</td>\n",
       "      <td>...</td>\n",
       "      <td>0.659722</td>\n",
       "      <td>0.042812</td>\n",
       "      <td>0.042812</td>\n",
       "      <td>0.054564</td>\n",
       "      <td>0.019817</td>\n",
       "      <td>0.659722</td>\n",
       "      <td>2.0</td>\n",
       "      <td>1.0</td>\n",
       "      <td>0.0</td>\n",
       "      <td>1.0</td>\n",
       "    </tr>\n",
       "    <tr>\n",
       "      <th>154790</th>\n",
       "      <td>0.0</td>\n",
       "      <td>0.0</td>\n",
       "      <td>0.0</td>\n",
       "      <td>1.0</td>\n",
       "      <td>0.0</td>\n",
       "      <td>0.0</td>\n",
       "      <td>0.0</td>\n",
       "      <td>1.0</td>\n",
       "      <td>0.0</td>\n",
       "      <td>0.0</td>\n",
       "      <td>...</td>\n",
       "      <td>0.980720</td>\n",
       "      <td>0.033347</td>\n",
       "      <td>0.033347</td>\n",
       "      <td>0.019280</td>\n",
       "      <td>0.054128</td>\n",
       "      <td>0.980720</td>\n",
       "      <td>1.0</td>\n",
       "      <td>1.0</td>\n",
       "      <td>4.0</td>\n",
       "      <td>24.0</td>\n",
       "    </tr>\n",
       "    <tr>\n",
       "      <th>154791</th>\n",
       "      <td>0.0</td>\n",
       "      <td>0.0</td>\n",
       "      <td>0.0</td>\n",
       "      <td>0.0</td>\n",
       "      <td>1.0</td>\n",
       "      <td>0.0</td>\n",
       "      <td>0.0</td>\n",
       "      <td>1.0</td>\n",
       "      <td>0.0</td>\n",
       "      <td>0.0</td>\n",
       "      <td>...</td>\n",
       "      <td>0.756229</td>\n",
       "      <td>0.077330</td>\n",
       "      <td>0.077330</td>\n",
       "      <td>0.032343</td>\n",
       "      <td>0.146124</td>\n",
       "      <td>0.756229</td>\n",
       "      <td>5.0</td>\n",
       "      <td>2.0</td>\n",
       "      <td>6.0</td>\n",
       "      <td>32.0</td>\n",
       "    </tr>\n",
       "    <tr>\n",
       "      <th>154792</th>\n",
       "      <td>0.0</td>\n",
       "      <td>0.0</td>\n",
       "      <td>0.0</td>\n",
       "      <td>0.0</td>\n",
       "      <td>1.0</td>\n",
       "      <td>0.0</td>\n",
       "      <td>0.0</td>\n",
       "      <td>1.0</td>\n",
       "      <td>0.0</td>\n",
       "      <td>0.0</td>\n",
       "      <td>...</td>\n",
       "      <td>0.000000</td>\n",
       "      <td>0.199478</td>\n",
       "      <td>0.199478</td>\n",
       "      <td>0.285714</td>\n",
       "      <td>0.039873</td>\n",
       "      <td>0.000000</td>\n",
       "      <td>1.0</td>\n",
       "      <td>1.0</td>\n",
       "      <td>1.0</td>\n",
       "      <td>8.0</td>\n",
       "    </tr>\n",
       "    <tr>\n",
       "      <th>154793</th>\n",
       "      <td>0.0</td>\n",
       "      <td>0.0</td>\n",
       "      <td>0.0</td>\n",
       "      <td>0.0</td>\n",
       "      <td>1.0</td>\n",
       "      <td>0.0</td>\n",
       "      <td>1.0</td>\n",
       "      <td>0.0</td>\n",
       "      <td>0.0</td>\n",
       "      <td>0.0</td>\n",
       "      <td>...</td>\n",
       "      <td>0.593566</td>\n",
       "      <td>0.158189</td>\n",
       "      <td>0.158189</td>\n",
       "      <td>0.206434</td>\n",
       "      <td>0.065182</td>\n",
       "      <td>0.593566</td>\n",
       "      <td>4.0</td>\n",
       "      <td>2.0</td>\n",
       "      <td>0.0</td>\n",
       "      <td>2.0</td>\n",
       "    </tr>\n",
       "  </tbody>\n",
       "</table>\n",
       "<p>154794 rows × 45 columns</p>\n",
       "</div>"
      ],
      "text/plain": [
       "         0    1    2    3    4    5    6    7    8    9   ...        35  \\\n",
       "0       1.0  0.0  0.0  0.0  0.0  0.0  0.0  1.0  0.0  0.0  ...  0.619429   \n",
       "1       1.0  0.0  0.0  0.0  0.0  0.0  0.0  1.0  0.0  0.0  ...  0.273945   \n",
       "2       1.0  0.0  0.0  0.0  0.0  0.0  1.0  0.0  0.0  0.0  ...  0.237762   \n",
       "3       0.0  0.0  0.0  0.0  1.0  0.0  0.0  1.0  0.0  0.0  ...  0.000000   \n",
       "4       1.0  0.0  0.0  0.0  0.0  0.0  0.0  1.0  0.0  0.0  ...  0.222114   \n",
       "...     ...  ...  ...  ...  ...  ...  ...  ...  ...  ...  ...       ...   \n",
       "154789  1.0  0.0  0.0  0.0  0.0  0.0  1.0  0.0  0.0  0.0  ...  0.659722   \n",
       "154790  0.0  0.0  0.0  1.0  0.0  0.0  0.0  1.0  0.0  0.0  ...  0.980720   \n",
       "154791  0.0  0.0  0.0  0.0  1.0  0.0  0.0  1.0  0.0  0.0  ...  0.756229   \n",
       "154792  0.0  0.0  0.0  0.0  1.0  0.0  0.0  1.0  0.0  0.0  ...  0.000000   \n",
       "154793  0.0  0.0  0.0  0.0  1.0  0.0  1.0  0.0  0.0  0.0  ...  0.593566   \n",
       "\n",
       "              36        37        38        39        40   41   42   43    44  \n",
       "0       0.027489  0.027489  0.023428  0.032063  0.619429  1.0  0.0  2.0  11.0  \n",
       "1       0.018980  0.018980  0.011769  0.029482  0.273945  1.0  2.0  4.0  22.0  \n",
       "2       0.083189  0.083189  0.105095  0.040053  0.237762  1.0  1.0  0.0   4.0  \n",
       "3       0.132476  0.132476  0.099759  0.095623  0.000000  7.0  0.0  3.0  18.0  \n",
       "4       0.100171  0.100171  0.120743  0.057902  0.222114  1.0  0.0  1.0   7.0  \n",
       "...          ...       ...       ...       ...       ...  ...  ...  ...   ...  \n",
       "154789  0.042812  0.042812  0.054564  0.019817  0.659722  2.0  1.0  0.0   1.0  \n",
       "154790  0.033347  0.033347  0.019280  0.054128  0.980720  1.0  1.0  4.0  24.0  \n",
       "154791  0.077330  0.077330  0.032343  0.146124  0.756229  5.0  2.0  6.0  32.0  \n",
       "154792  0.199478  0.199478  0.285714  0.039873  0.000000  1.0  1.0  1.0   8.0  \n",
       "154793  0.158189  0.158189  0.206434  0.065182  0.593566  4.0  2.0  0.0   2.0  \n",
       "\n",
       "[154794 rows x 45 columns]"
      ]
     },
     "execution_count": 72,
     "metadata": {},
     "output_type": "execute_result"
    }
   ],
   "source": [
    "# Splitting the Test set in the same manner as the Train set and Training / Fitting it to the created Pipeline.\n",
    "X_test_num = X_test.drop(['emp_length', 'grade', 'sub_grade', 'home_ownership', 'verification_status', 'purpose', 'initial_list_status'], axis=1)\n",
    "X_test_ordinal = X_test[['emp_length', 'verification_status', 'grade', 'sub_grade']]\n",
    "X_test_nominal = X_test[['home_ownership', 'purpose', 'initial_list_status']]\n",
    "\n",
    "X_test_num.replace({' 36 months':36, ' 60 months':60}, inplace=True)\n",
    "\n",
    "X_test_pipe_final = pd.concat([X_test_num.reset_index(drop=True),X_test_ordinal.reset_index(drop=True),X_test_nominal.reset_index(drop=True)], axis=1)\n",
    "\n",
    "transform_X_test = pipe.transform(X_test_pipe_final)\n",
    "X_test_final = pd.DataFrame(transform_X_test)\n",
    "X_test_final"
   ]
  },
  {
   "cell_type": "markdown",
   "metadata": {},
   "source": [
    "Our data is now ready to be processed by the model.s"
   ]
  },
  {
   "cell_type": "markdown",
   "metadata": {},
   "source": [
    "## VI. Machine Learning Model"
   ]
  },
  {
   "cell_type": "markdown",
   "metadata": {},
   "source": [
    "In this notebook we will be using five different tree-based models and using the best as a deployment model. Note that the processes done below have been conducted several times outside of this notebook, and that the hyperparameters used are found to be the best so far."
   ]
  },
  {
   "cell_type": "markdown",
   "metadata": {},
   "source": [
    "### A. Random Forest"
   ]
  },
  {
   "cell_type": "markdown",
   "metadata": {},
   "source": [
    "#### 1. Model Definition"
   ]
  },
  {
   "cell_type": "code",
   "execution_count": null,
   "metadata": {},
   "outputs": [],
   "source": [
    "# Grid-Search Cross Validation\n",
    "\n",
    "# Parameters to be tested.\n",
    "param_grid_rnd = {'criterion' : ['gini', 'entropy', 'log_loss'], 'n_estimators': [200, 300, 500], 'max_depth': [2, 3, 4, 5, 6, 7, 10], 'max_features' : ['auto', 'sqrt', 'log2'], 'min_samples_leaf' : [1, 2, 3, 4, 5, 6]}\n",
    "\n",
    "# Defining Model to be used.\n",
    "rnd_gridcv = GridSearchCV(estimator=RandomForestClassifier(), param_grid=param_grid_rnd, n_jobs=-1)\n",
    "\n",
    "# Training Grid-Search CV.\n",
    "rnd_gridcv.fit(X_train_final, y_train)\n",
    "\n",
    "# Printing best hyperparameters.\n",
    "print(rnd_gridcv.best_params_)\n",
    "\n",
    "# This syntax has been run outside of this notebook. Therefore, we will proceed straight to the Model Definition below."
   ]
  },
  {
   "cell_type": "code",
   "execution_count": 249,
   "metadata": {},
   "outputs": [],
   "source": [
    "# Defining Random Forest model (with best hyperparameters).\n",
    "model_random_forest = RandomForestClassifier(criterion = 'entropy', n_estimators=100, max_depth = 10, max_features = 'sqrt', min_samples_leaf=1, random_state=42)"
   ]
  },
  {
   "cell_type": "markdown",
   "metadata": {},
   "source": [
    "#### 2. Model Training"
   ]
  },
  {
   "cell_type": "code",
   "execution_count": 250,
   "metadata": {},
   "outputs": [
    {
     "data": {
      "text/html": [
       "<style>#sk-container-id-21 {color: black;background-color: white;}#sk-container-id-21 pre{padding: 0;}#sk-container-id-21 div.sk-toggleable {background-color: white;}#sk-container-id-21 label.sk-toggleable__label {cursor: pointer;display: block;width: 100%;margin-bottom: 0;padding: 0.3em;box-sizing: border-box;text-align: center;}#sk-container-id-21 label.sk-toggleable__label-arrow:before {content: \"▸\";float: left;margin-right: 0.25em;color: #696969;}#sk-container-id-21 label.sk-toggleable__label-arrow:hover:before {color: black;}#sk-container-id-21 div.sk-estimator:hover label.sk-toggleable__label-arrow:before {color: black;}#sk-container-id-21 div.sk-toggleable__content {max-height: 0;max-width: 0;overflow: hidden;text-align: left;background-color: #f0f8ff;}#sk-container-id-21 div.sk-toggleable__content pre {margin: 0.2em;color: black;border-radius: 0.25em;background-color: #f0f8ff;}#sk-container-id-21 input.sk-toggleable__control:checked~div.sk-toggleable__content {max-height: 200px;max-width: 100%;overflow: auto;}#sk-container-id-21 input.sk-toggleable__control:checked~label.sk-toggleable__label-arrow:before {content: \"▾\";}#sk-container-id-21 div.sk-estimator input.sk-toggleable__control:checked~label.sk-toggleable__label {background-color: #d4ebff;}#sk-container-id-21 div.sk-label input.sk-toggleable__control:checked~label.sk-toggleable__label {background-color: #d4ebff;}#sk-container-id-21 input.sk-hidden--visually {border: 0;clip: rect(1px 1px 1px 1px);clip: rect(1px, 1px, 1px, 1px);height: 1px;margin: -1px;overflow: hidden;padding: 0;position: absolute;width: 1px;}#sk-container-id-21 div.sk-estimator {font-family: monospace;background-color: #f0f8ff;border: 1px dotted black;border-radius: 0.25em;box-sizing: border-box;margin-bottom: 0.5em;}#sk-container-id-21 div.sk-estimator:hover {background-color: #d4ebff;}#sk-container-id-21 div.sk-parallel-item::after {content: \"\";width: 100%;border-bottom: 1px solid gray;flex-grow: 1;}#sk-container-id-21 div.sk-label:hover label.sk-toggleable__label {background-color: #d4ebff;}#sk-container-id-21 div.sk-serial::before {content: \"\";position: absolute;border-left: 1px solid gray;box-sizing: border-box;top: 0;bottom: 0;left: 50%;z-index: 0;}#sk-container-id-21 div.sk-serial {display: flex;flex-direction: column;align-items: center;background-color: white;padding-right: 0.2em;padding-left: 0.2em;position: relative;}#sk-container-id-21 div.sk-item {position: relative;z-index: 1;}#sk-container-id-21 div.sk-parallel {display: flex;align-items: stretch;justify-content: center;background-color: white;position: relative;}#sk-container-id-21 div.sk-item::before, #sk-container-id-21 div.sk-parallel-item::before {content: \"\";position: absolute;border-left: 1px solid gray;box-sizing: border-box;top: 0;bottom: 0;left: 50%;z-index: -1;}#sk-container-id-21 div.sk-parallel-item {display: flex;flex-direction: column;z-index: 1;position: relative;background-color: white;}#sk-container-id-21 div.sk-parallel-item:first-child::after {align-self: flex-end;width: 50%;}#sk-container-id-21 div.sk-parallel-item:last-child::after {align-self: flex-start;width: 50%;}#sk-container-id-21 div.sk-parallel-item:only-child::after {width: 0;}#sk-container-id-21 div.sk-dashed-wrapped {border: 1px dashed gray;margin: 0 0.4em 0.5em 0.4em;box-sizing: border-box;padding-bottom: 0.4em;background-color: white;}#sk-container-id-21 div.sk-label label {font-family: monospace;font-weight: bold;display: inline-block;line-height: 1.2em;}#sk-container-id-21 div.sk-label-container {text-align: center;}#sk-container-id-21 div.sk-container {/* jupyter's `normalize.less` sets `[hidden] { display: none; }` but bootstrap.min.css set `[hidden] { display: none !important; }` so we also need the `!important` here to be able to override the default hidden behavior on the sphinx rendered scikit-learn.org. See: https://github.com/scikit-learn/scikit-learn/issues/21755 */display: inline-block !important;position: relative;}#sk-container-id-21 div.sk-text-repr-fallback {display: none;}</style><div id=\"sk-container-id-21\" class=\"sk-top-container\"><div class=\"sk-text-repr-fallback\"><pre>RandomForestClassifier(criterion=&#x27;entropy&#x27;, max_depth=10, random_state=42)</pre><b>In a Jupyter environment, please rerun this cell to show the HTML representation or trust the notebook. <br />On GitHub, the HTML representation is unable to render, please try loading this page with nbviewer.org.</b></div><div class=\"sk-container\" hidden><div class=\"sk-item\"><div class=\"sk-estimator sk-toggleable\"><input class=\"sk-toggleable__control sk-hidden--visually\" id=\"sk-estimator-id-28\" type=\"checkbox\" checked><label for=\"sk-estimator-id-28\" class=\"sk-toggleable__label sk-toggleable__label-arrow\">RandomForestClassifier</label><div class=\"sk-toggleable__content\"><pre>RandomForestClassifier(criterion=&#x27;entropy&#x27;, max_depth=10, random_state=42)</pre></div></div></div></div></div>"
      ],
      "text/plain": [
       "RandomForestClassifier(criterion='entropy', max_depth=10, random_state=42)"
      ]
     },
     "execution_count": 250,
     "metadata": {},
     "output_type": "execute_result"
    }
   ],
   "source": [
    "# Training Random Forest model.\n",
    "model_random_forest.fit(X_train_final, y_train)"
   ]
  },
  {
   "cell_type": "markdown",
   "metadata": {},
   "source": [
    "#### 3. Model Evaluation"
   ]
  },
  {
   "cell_type": "code",
   "execution_count": 278,
   "metadata": {},
   "outputs": [],
   "source": [
    "# Obtaining the probability of where our predicted outcome will land on (Accepted Loan or Rejected Loan) using predict_proba.\n",
    "y_train_random_forest_proba = model_random_forest.predict_proba(X_train_final)\n",
    "y_test_random_forest_proba = model_random_forest.predict_proba(X_test_final)"
   ]
  },
  {
   "cell_type": "markdown",
   "metadata": {},
   "source": [
    "There are two output for each data entry in predict_proba, one for probability that outcome will be 0 (Accepted Loan), and the other probability it will be 1 (Rejected Loan). Both outputs are in percentages.\n",
    "\n",
    "Reference: https://bit.ly/3SjoVgG"
   ]
  },
  {
   "cell_type": "code",
   "execution_count": 279,
   "metadata": {},
   "outputs": [],
   "source": [
    "# Obtaining the probability of where our predicted outcome will land on (Accepted Loan or Rejected Loan) using predict.\n",
    "y_pred_train_random_forest = model_random_forest.predict(X_train_final)\n",
    "y_pred_test_random_forest = model_random_forest.predict(X_test_final)"
   ]
  },
  {
   "cell_type": "markdown",
   "metadata": {},
   "source": [
    "Similar to predict_proba, the syntax above is used to find the outcome of our prediction for each data entry (output will be either 0 or 1).\n",
    "\n",
    "Reference: https://bit.ly/3S0osjF"
   ]
  },
  {
   "cell_type": "code",
   "execution_count": 280,
   "metadata": {},
   "outputs": [
    {
     "data": {
      "image/png": "[encoded data removed]",
      "text/plain": [
       "<Figure size 432x288 with 2 Axes>"
      ]
     },
     "metadata": {
      "needs_background": "light"
     },
     "output_type": "display_data"
    }
   ],
   "source": [
    "# Creation of the Confusion Matrix\n",
    "cm_rnd = confusion_matrix(y_test, y_pred_test_random_forest, labels=model_random_forest.classes_)\n",
    "disp_rnd = ConfusionMatrixDisplay(confusion_matrix=cm_rnd,display_labels=model_random_forest.classes_)\n",
    "\n",
    "disp_rnd.plot()\n",
    "plt.show()"
   ]
  },
  {
   "cell_type": "markdown",
   "metadata": {},
   "source": [
    "A confusion matrix summarizes the prediction results on our classification problem. The numver of correct and incorrect predictions are summarized with count values and broken down to each class.\n",
    "\n",
    "Here, we can conclude that the Random Forest model has a predicting outcome of 144068 True Positive (0 / Accepted Loan), 6877 True Negatives (1 / Rejected Loan), and a False Positive and False Negative of 2120 and 1729 respectively."
   ]
  },
  {
   "cell_type": "code",
   "execution_count": 281,
   "metadata": {},
   "outputs": [
    {
     "name": "stdout",
     "output_type": "stream",
     "text": [
      "              precision    recall  f1-score   support\n",
      "\n",
      "           0       0.85      0.99      0.92     50000\n",
      "           1       0.99      0.77      0.86     35988\n",
      "\n",
      "    accuracy                           0.90     85988\n",
      "   macro avg       0.92      0.88      0.89     85988\n",
      "weighted avg       0.91      0.90      0.90     85988\n",
      "\n",
      "Train ROC-AUC Score:  0.9499619111926197\n"
     ]
    }
   ],
   "source": [
    "print(classification_report(y_train,y_pred_train_random_forest))\n",
    "print('Train ROC-AUC Score: ', roc_auc_score(y_train, y_train_random_forest_proba[:,1]))"
   ]
  },
  {
   "cell_type": "markdown",
   "metadata": {},
   "source": [
    "The Classification Report contains many useful information that is crucial to the evaluation of the model. As such, with numerous attributes at play, we may find ourselves wondering which aspects to use in our evaluation. With this, we would need to look at the particular context of our problem. As stated in the beginning of this notebook, we could understand that the purpose of creating our model is to determine whether a prospective loanee is eligible or not to be given a loan, based on their financial background, historical transactions, and facial ID recognition. As such, we are looking for our model to avoid the following two problems:\n",
    "\n",
    "- Predicting that a loanee is risky when he/she is legitimate; or rejecting a loan when in fact we should accept it.\n",
    "- Predicting that a loanee is legitimate when he/she is risky; or accepting a loan when in fact we should reject it.\n",
    "\n",
    "For this, we will be looking at the attribute \"Recall.\""
   ]
  },
  {
   "cell_type": "markdown",
   "metadata": {},
   "source": [
    "Recall Interpretation:\n",
    "\n",
    "- The closer the Recall is to 1, the lesser the False Negative is.\n",
    "\n",
    "There are two versions of Recall, and we will be noting this in accordance to our case:\n",
    "\n",
    "- Recall Class 0 = False Negative is REJECTING a loan when in fact we should be ACCEPTING it.\n",
    "\n",
    "- Recall Class 1 = False Negative is ACCEPTING a loan when in fact we should be REJECTING it.\n",
    "\n",
    "It is important to note that we will only be looking at our Test Set for the evaluation."
   ]
  },
  {
   "cell_type": "markdown",
   "metadata": {},
   "source": [
    "*Additional Notes:\n",
    "\n",
    "- Support describes the number of entries in each class.\n",
    "- The Accuracy is defined as a ratio of correctly predicted observation to the total observations. It is used only when there is a balance between classes in our dataset. Since our Test Set is imbalanced, we will not be using accuracy.\n",
    "- The ROC-AUC Score in our case would only be used to ascertain the fit of our model."
   ]
  },
  {
   "cell_type": "code",
   "execution_count": 282,
   "metadata": {},
   "outputs": [
    {
     "name": "stdout",
     "output_type": "stream",
     "text": [
      "              precision    recall  f1-score   support\n",
      "\n",
      "           0       0.99      0.99      0.99    145797\n",
      "           1       0.80      0.76      0.78      8997\n",
      "\n",
      "    accuracy                           0.98    154794\n",
      "   macro avg       0.89      0.88      0.88    154794\n",
      "weighted avg       0.97      0.98      0.97    154794\n",
      "\n",
      "Test ROC-AUC Score:  0.941726123408151\n"
     ]
    }
   ],
   "source": [
    "print(classification_report(y_test,y_pred_test_random_forest))\n",
    "print('Test ROC-AUC Score: ', roc_auc_score(y_test, y_test_random_forest_proba[:,1]))"
   ]
  },
  {
   "cell_type": "markdown",
   "metadata": {},
   "source": [
    "Random Forest Model Test Set Overview:\n",
    "\n",
    "- Class 0 Recall is 0.99 / 99%\n",
    "- Class 1 Recall is 0.76 / 76%\n",
    "\n",
    "Summary:\n",
    "\n",
    "Class 0's recall score indicates to us that the model is 99% accurate at classifying loanees as legitimate. This means that there is minimal-to-no consequence of upsetting customer satisfaction by accidentally rejecting their loans.\n",
    "\n",
    "For Class 1, we have a decent recall at 76%, which would indicate that our model is good at accurately classifying loanees as risky. However, this still means that there is a 24% chance of accidentally accepting loans for risky loanees.\n",
    "\n",
    "ROC-AUC score of 95% for Train Set and 94% for Test Set. Assuming that range of 5% determines if model is fit, then we can conclude that this model is just-fit."
   ]
  },
  {
   "cell_type": "markdown",
   "metadata": {},
   "source": [
    "### b. Decision Tree"
   ]
  },
  {
   "cell_type": "markdown",
   "metadata": {},
   "source": [
    "#### 1. Model Definition"
   ]
  },
  {
   "cell_type": "code",
   "execution_count": 442,
   "metadata": {},
   "outputs": [
    {
     "data": {
      "text/html": [
       "<style>#sk-container-id-7 {color: black;background-color: white;}#sk-container-id-7 pre{padding: 0;}#sk-container-id-7 div.sk-toggleable {background-color: white;}#sk-container-id-7 label.sk-toggleable__label {cursor: pointer;display: block;width: 100%;margin-bottom: 0;padding: 0.3em;box-sizing: border-box;text-align: center;}#sk-container-id-7 label.sk-toggleable__label-arrow:before {content: \"▸\";float: left;margin-right: 0.25em;color: #696969;}#sk-container-id-7 label.sk-toggleable__label-arrow:hover:before {color: black;}#sk-container-id-7 div.sk-estimator:hover label.sk-toggleable__label-arrow:before {color: black;}#sk-container-id-7 div.sk-toggleable__content {max-height: 0;max-width: 0;overflow: hidden;text-align: left;background-color: #f0f8ff;}#sk-container-id-7 div.sk-toggleable__content pre {margin: 0.2em;color: black;border-radius: 0.25em;background-color: #f0f8ff;}#sk-container-id-7 input.sk-toggleable__control:checked~div.sk-toggleable__content {max-height: 200px;max-width: 100%;overflow: auto;}#sk-container-id-7 input.sk-toggleable__control:checked~label.sk-toggleable__label-arrow:before {content: \"▾\";}#sk-container-id-7 div.sk-estimator input.sk-toggleable__control:checked~label.sk-toggleable__label {background-color: #d4ebff;}#sk-container-id-7 div.sk-label input.sk-toggleable__control:checked~label.sk-toggleable__label {background-color: #d4ebff;}#sk-container-id-7 input.sk-hidden--visually {border: 0;clip: rect(1px 1px 1px 1px);clip: rect(1px, 1px, 1px, 1px);height: 1px;margin: -1px;overflow: hidden;padding: 0;position: absolute;width: 1px;}#sk-container-id-7 div.sk-estimator {font-family: monospace;background-color: #f0f8ff;border: 1px dotted black;border-radius: 0.25em;box-sizing: border-box;margin-bottom: 0.5em;}#sk-container-id-7 div.sk-estimator:hover {background-color: #d4ebff;}#sk-container-id-7 div.sk-parallel-item::after {content: \"\";width: 100%;border-bottom: 1px solid gray;flex-grow: 1;}#sk-container-id-7 div.sk-label:hover label.sk-toggleable__label {background-color: #d4ebff;}#sk-container-id-7 div.sk-serial::before {content: \"\";position: absolute;border-left: 1px solid gray;box-sizing: border-box;top: 0;bottom: 0;left: 50%;z-index: 0;}#sk-container-id-7 div.sk-serial {display: flex;flex-direction: column;align-items: center;background-color: white;padding-right: 0.2em;padding-left: 0.2em;position: relative;}#sk-container-id-7 div.sk-item {position: relative;z-index: 1;}#sk-container-id-7 div.sk-parallel {display: flex;align-items: stretch;justify-content: center;background-color: white;position: relative;}#sk-container-id-7 div.sk-item::before, #sk-container-id-7 div.sk-parallel-item::before {content: \"\";position: absolute;border-left: 1px solid gray;box-sizing: border-box;top: 0;bottom: 0;left: 50%;z-index: -1;}#sk-container-id-7 div.sk-parallel-item {display: flex;flex-direction: column;z-index: 1;position: relative;background-color: white;}#sk-container-id-7 div.sk-parallel-item:first-child::after {align-self: flex-end;width: 50%;}#sk-container-id-7 div.sk-parallel-item:last-child::after {align-self: flex-start;width: 50%;}#sk-container-id-7 div.sk-parallel-item:only-child::after {width: 0;}#sk-container-id-7 div.sk-dashed-wrapped {border: 1px dashed gray;margin: 0 0.4em 0.5em 0.4em;box-sizing: border-box;padding-bottom: 0.4em;background-color: white;}#sk-container-id-7 div.sk-label label {font-family: monospace;font-weight: bold;display: inline-block;line-height: 1.2em;}#sk-container-id-7 div.sk-label-container {text-align: center;}#sk-container-id-7 div.sk-container {/* jupyter's `normalize.less` sets `[hidden] { display: none; }` but bootstrap.min.css set `[hidden] { display: none !important; }` so we also need the `!important` here to be able to override the default hidden behavior on the sphinx rendered scikit-learn.org. See: https://github.com/scikit-learn/scikit-learn/issues/21755 */display: inline-block !important;position: relative;}#sk-container-id-7 div.sk-text-repr-fallback {display: none;}</style><div id=\"sk-container-id-7\" class=\"sk-top-container\"><div class=\"sk-text-repr-fallback\"><pre>GridSearchCV(estimator=DecisionTreeClassifier(), n_jobs=-1,\n",
       "             param_grid={&#x27;criterion&#x27;: [&#x27;gini&#x27;, &#x27;entropy&#x27;, &#x27;log_loss&#x27;],\n",
       "                         &#x27;max_depth&#x27;: [2, 3, 4, 5, 6, 7, 10],\n",
       "                         &#x27;max_features&#x27;: [&#x27;auto&#x27;, &#x27;sqrt&#x27;, &#x27;log2&#x27;],\n",
       "                         &#x27;min_samples_leaf&#x27;: [1, 2, 3, 4, 5, 6]})</pre><b>In a Jupyter environment, please rerun this cell to show the HTML representation or trust the notebook. <br />On GitHub, the HTML representation is unable to render, please try loading this page with nbviewer.org.</b></div><div class=\"sk-container\" hidden><div class=\"sk-item sk-dashed-wrapped\"><div class=\"sk-label-container\"><div class=\"sk-label sk-toggleable\"><input class=\"sk-toggleable__control sk-hidden--visually\" id=\"sk-estimator-id-11\" type=\"checkbox\" ><label for=\"sk-estimator-id-11\" class=\"sk-toggleable__label sk-toggleable__label-arrow\">GridSearchCV</label><div class=\"sk-toggleable__content\"><pre>GridSearchCV(estimator=DecisionTreeClassifier(), n_jobs=-1,\n",
       "             param_grid={&#x27;criterion&#x27;: [&#x27;gini&#x27;, &#x27;entropy&#x27;, &#x27;log_loss&#x27;],\n",
       "                         &#x27;max_depth&#x27;: [2, 3, 4, 5, 6, 7, 10],\n",
       "                         &#x27;max_features&#x27;: [&#x27;auto&#x27;, &#x27;sqrt&#x27;, &#x27;log2&#x27;],\n",
       "                         &#x27;min_samples_leaf&#x27;: [1, 2, 3, 4, 5, 6]})</pre></div></div></div><div class=\"sk-parallel\"><div class=\"sk-parallel-item\"><div class=\"sk-item\"><div class=\"sk-label-container\"><div class=\"sk-label sk-toggleable\"><input class=\"sk-toggleable__control sk-hidden--visually\" id=\"sk-estimator-id-12\" type=\"checkbox\" ><label for=\"sk-estimator-id-12\" class=\"sk-toggleable__label sk-toggleable__label-arrow\">estimator: DecisionTreeClassifier</label><div class=\"sk-toggleable__content\"><pre>DecisionTreeClassifier()</pre></div></div></div><div class=\"sk-serial\"><div class=\"sk-item\"><div class=\"sk-estimator sk-toggleable\"><input class=\"sk-toggleable__control sk-hidden--visually\" id=\"sk-estimator-id-13\" type=\"checkbox\" ><label for=\"sk-estimator-id-13\" class=\"sk-toggleable__label sk-toggleable__label-arrow\">DecisionTreeClassifier</label><div class=\"sk-toggleable__content\"><pre>DecisionTreeClassifier()</pre></div></div></div></div></div></div></div></div></div></div>"
      ],
      "text/plain": [
       "GridSearchCV(estimator=DecisionTreeClassifier(), n_jobs=-1,\n",
       "             param_grid={'criterion': ['gini', 'entropy', 'log_loss'],\n",
       "                         'max_depth': [2, 3, 4, 5, 6, 7, 10],\n",
       "                         'max_features': ['auto', 'sqrt', 'log2'],\n",
       "                         'min_samples_leaf': [1, 2, 3, 4, 5, 6]})"
      ]
     },
     "execution_count": 442,
     "metadata": {},
     "output_type": "execute_result"
    }
   ],
   "source": [
    "# Grid-Search Cross Validation\n",
    "param_grid_tree = {'criterion' : ['gini', 'entropy', 'log_loss'], 'max_depth': [2, 3, 4, 5, 6, 7, 10], 'max_features' : ['auto', 'sqrt', 'log2'], 'min_samples_leaf' : [1, 2, 3, 4, 5, 6]}\n",
    "\n",
    "# Defining Model to be used.\n",
    "tree_gridcv = GridSearchCV(estimator=DecisionTreeClassifier(), param_grid=param_grid_tree, n_jobs=-1)\n",
    "\n",
    "# Training dataset.\n",
    "tree_gridcv.fit(X_train_final, y_train)\n",
    "\n",
    "# Printing best hyperparameters.\n",
    "print(tree_gridcv.best_params_)\n",
    "\n",
    "# Again, this syntax has been run outside of this notebook. Therefore, we will proceed straight to the Model Definition below."
   ]
  },
  {
   "cell_type": "code",
   "execution_count": 131,
   "metadata": {},
   "outputs": [],
   "source": [
    "# Defining Decision Tree model (with best hyperparameters).\n",
    "tree_clf = DecisionTreeClassifier(criterion = 'log_loss', max_depth = 10, max_features = 'auto', min_samples_leaf=6, random_state=42)"
   ]
  },
  {
   "cell_type": "markdown",
   "metadata": {},
   "source": [
    "#### 2. Model Training"
   ]
  },
  {
   "cell_type": "code",
   "execution_count": 132,
   "metadata": {},
   "outputs": [
    {
     "data": {
      "text/html": [
       "<style>#sk-container-id-6 {color: black;background-color: white;}#sk-container-id-6 pre{padding: 0;}#sk-container-id-6 div.sk-toggleable {background-color: white;}#sk-container-id-6 label.sk-toggleable__label {cursor: pointer;display: block;width: 100%;margin-bottom: 0;padding: 0.3em;box-sizing: border-box;text-align: center;}#sk-container-id-6 label.sk-toggleable__label-arrow:before {content: \"▸\";float: left;margin-right: 0.25em;color: #696969;}#sk-container-id-6 label.sk-toggleable__label-arrow:hover:before {color: black;}#sk-container-id-6 div.sk-estimator:hover label.sk-toggleable__label-arrow:before {color: black;}#sk-container-id-6 div.sk-toggleable__content {max-height: 0;max-width: 0;overflow: hidden;text-align: left;background-color: #f0f8ff;}#sk-container-id-6 div.sk-toggleable__content pre {margin: 0.2em;color: black;border-radius: 0.25em;background-color: #f0f8ff;}#sk-container-id-6 input.sk-toggleable__control:checked~div.sk-toggleable__content {max-height: 200px;max-width: 100%;overflow: auto;}#sk-container-id-6 input.sk-toggleable__control:checked~label.sk-toggleable__label-arrow:before {content: \"▾\";}#sk-container-id-6 div.sk-estimator input.sk-toggleable__control:checked~label.sk-toggleable__label {background-color: #d4ebff;}#sk-container-id-6 div.sk-label input.sk-toggleable__control:checked~label.sk-toggleable__label {background-color: #d4ebff;}#sk-container-id-6 input.sk-hidden--visually {border: 0;clip: rect(1px 1px 1px 1px);clip: rect(1px, 1px, 1px, 1px);height: 1px;margin: -1px;overflow: hidden;padding: 0;position: absolute;width: 1px;}#sk-container-id-6 div.sk-estimator {font-family: monospace;background-color: #f0f8ff;border: 1px dotted black;border-radius: 0.25em;box-sizing: border-box;margin-bottom: 0.5em;}#sk-container-id-6 div.sk-estimator:hover {background-color: #d4ebff;}#sk-container-id-6 div.sk-parallel-item::after {content: \"\";width: 100%;border-bottom: 1px solid gray;flex-grow: 1;}#sk-container-id-6 div.sk-label:hover label.sk-toggleable__label {background-color: #d4ebff;}#sk-container-id-6 div.sk-serial::before {content: \"\";position: absolute;border-left: 1px solid gray;box-sizing: border-box;top: 0;bottom: 0;left: 50%;z-index: 0;}#sk-container-id-6 div.sk-serial {display: flex;flex-direction: column;align-items: center;background-color: white;padding-right: 0.2em;padding-left: 0.2em;position: relative;}#sk-container-id-6 div.sk-item {position: relative;z-index: 1;}#sk-container-id-6 div.sk-parallel {display: flex;align-items: stretch;justify-content: center;background-color: white;position: relative;}#sk-container-id-6 div.sk-item::before, #sk-container-id-6 div.sk-parallel-item::before {content: \"\";position: absolute;border-left: 1px solid gray;box-sizing: border-box;top: 0;bottom: 0;left: 50%;z-index: -1;}#sk-container-id-6 div.sk-parallel-item {display: flex;flex-direction: column;z-index: 1;position: relative;background-color: white;}#sk-container-id-6 div.sk-parallel-item:first-child::after {align-self: flex-end;width: 50%;}#sk-container-id-6 div.sk-parallel-item:last-child::after {align-self: flex-start;width: 50%;}#sk-container-id-6 div.sk-parallel-item:only-child::after {width: 0;}#sk-container-id-6 div.sk-dashed-wrapped {border: 1px dashed gray;margin: 0 0.4em 0.5em 0.4em;box-sizing: border-box;padding-bottom: 0.4em;background-color: white;}#sk-container-id-6 div.sk-label label {font-family: monospace;font-weight: bold;display: inline-block;line-height: 1.2em;}#sk-container-id-6 div.sk-label-container {text-align: center;}#sk-container-id-6 div.sk-container {/* jupyter's `normalize.less` sets `[hidden] { display: none; }` but bootstrap.min.css set `[hidden] { display: none !important; }` so we also need the `!important` here to be able to override the default hidden behavior on the sphinx rendered scikit-learn.org. See: https://github.com/scikit-learn/scikit-learn/issues/21755 */display: inline-block !important;position: relative;}#sk-container-id-6 div.sk-text-repr-fallback {display: none;}</style><div id=\"sk-container-id-6\" class=\"sk-top-container\"><div class=\"sk-text-repr-fallback\"><pre>DecisionTreeClassifier(criterion=&#x27;log_loss&#x27;, max_depth=10, max_features=&#x27;auto&#x27;,\n",
       "                       min_samples_leaf=6, random_state=42)</pre><b>In a Jupyter environment, please rerun this cell to show the HTML representation or trust the notebook. <br />On GitHub, the HTML representation is unable to render, please try loading this page with nbviewer.org.</b></div><div class=\"sk-container\" hidden><div class=\"sk-item\"><div class=\"sk-estimator sk-toggleable\"><input class=\"sk-toggleable__control sk-hidden--visually\" id=\"sk-estimator-id-13\" type=\"checkbox\" checked><label for=\"sk-estimator-id-13\" class=\"sk-toggleable__label sk-toggleable__label-arrow\">DecisionTreeClassifier</label><div class=\"sk-toggleable__content\"><pre>DecisionTreeClassifier(criterion=&#x27;log_loss&#x27;, max_depth=10, max_features=&#x27;auto&#x27;,\n",
       "                       min_samples_leaf=6, random_state=42)</pre></div></div></div></div></div>"
      ],
      "text/plain": [
       "DecisionTreeClassifier(criterion='log_loss', max_depth=10, max_features='auto',\n",
       "                       min_samples_leaf=6, random_state=42)"
      ]
     },
     "execution_count": 132,
     "metadata": {},
     "output_type": "execute_result"
    }
   ],
   "source": [
    "tree_clf.fit(X_train_final, y_train)"
   ]
  },
  {
   "cell_type": "markdown",
   "metadata": {},
   "source": [
    "#### 3. Model Evaluation"
   ]
  },
  {
   "cell_type": "code",
   "execution_count": 133,
   "metadata": {},
   "outputs": [],
   "source": [
    "y_train_tree_prob = tree_clf.predict_proba(X_train_final)\n",
    "y_test_tree_prob = tree_clf.predict_proba(X_test_final)"
   ]
  },
  {
   "cell_type": "code",
   "execution_count": 134,
   "metadata": {},
   "outputs": [],
   "source": [
    "y_pred_train_tree = tree_clf.predict(X_train_final)\n",
    "y_pred_test_tree = tree_clf.predict(X_test_final)"
   ]
  },
  {
   "cell_type": "code",
   "execution_count": 135,
   "metadata": {},
   "outputs": [
    {
     "data": {
      "image/png": "[encoded data removed]",
      "text/plain": [
       "<Figure size 432x288 with 2 Axes>"
      ]
     },
     "metadata": {
      "needs_background": "light"
     },
     "output_type": "display_data"
    }
   ],
   "source": [
    "cm_tree = confusion_matrix(y_test, y_pred_test_tree, labels=tree_clf.classes_)\n",
    "disp_tree = ConfusionMatrixDisplay(confusion_matrix=cm_tree,display_labels=tree_clf.classes_)\n",
    "\n",
    "disp_tree.plot()\n",
    "plt.show()"
   ]
  },
  {
   "cell_type": "markdown",
   "metadata": {},
   "source": [
    "Here, we can ascertain that the Decision Tree model has a predicting outcome of 142878 True Positives (0 / Accepted Loan), 6822 True Negatives (1 / Rejected Loan), and a False Positive and False Negative of 2175 and 2919 respectively."
   ]
  },
  {
   "cell_type": "code",
   "execution_count": 136,
   "metadata": {},
   "outputs": [
    {
     "name": "stdout",
     "output_type": "stream",
     "text": [
      "              precision    recall  f1-score   support\n",
      "\n",
      "           0       0.85      0.98      0.91     50000\n",
      "           1       0.97      0.76      0.85     35988\n",
      "\n",
      "    accuracy                           0.89     85988\n",
      "   macro avg       0.91      0.87      0.88     85988\n",
      "weighted avg       0.90      0.89      0.89     85988\n",
      "\n",
      "Train ROC-AUC Score:  0.9388825430699121\n"
     ]
    }
   ],
   "source": [
    "print(classification_report(y_train,y_pred_train_tree))\n",
    "print('Train ROC-AUC Score: ', roc_auc_score(y_train, y_train_tree_prob[:,1]))"
   ]
  },
  {
   "cell_type": "code",
   "execution_count": 137,
   "metadata": {},
   "outputs": [
    {
     "name": "stdout",
     "output_type": "stream",
     "text": [
      "              precision    recall  f1-score   support\n",
      "\n",
      "           0       0.99      0.98      0.98    145797\n",
      "           1       0.70      0.76      0.73      8997\n",
      "\n",
      "    accuracy                           0.97    154794\n",
      "   macro avg       0.84      0.87      0.86    154794\n",
      "weighted avg       0.97      0.97      0.97    154794\n",
      "\n",
      "Test ROC-AUC Score:  0.9343811844327236\n"
     ]
    }
   ],
   "source": [
    "print(classification_report(y_test,y_pred_test_tree))\n",
    "print('Test ROC-AUC Score: ', roc_auc_score(y_test, y_test_tree_prob[:,1]))"
   ]
  },
  {
   "cell_type": "markdown",
   "metadata": {},
   "source": [
    "Decision Tree Model Test Set Overview:\n",
    "\n",
    "- Class 0 Recall is 0.98 / 98%\n",
    "- Class 1 Recall is 0.76 / 76%\n",
    "\n",
    "Summary:\n",
    "\n",
    "Class 0's recall score indicates to us that the model is 98% accurate at classifying loanees as legitimate. This means that there is minimal chance of upsetting customer satisfaction by accidentally rejecting their loans.\n",
    "\n",
    "For Class 1, we have a the same recall as the Random Forest model, at 76%, which would indicate that our model is also good at accurately classifying loanees as risky. However, this still means that there is a 24% chance of accidentally accepting loans for risky loanees.\n",
    "\n",
    "ROC-AUC score for Train Set and Test Set is both 93%. Assuming that range of 5% determines if model is fit, then we can conclude that this model is just-fit."
   ]
  },
  {
   "cell_type": "markdown",
   "metadata": {},
   "source": [
    "### c. AdaBoost"
   ]
  },
  {
   "cell_type": "markdown",
   "metadata": {},
   "source": [
    "#### 1. Model Definition"
   ]
  },
  {
   "cell_type": "code",
   "execution_count": 79,
   "metadata": {},
   "outputs": [],
   "source": [
    "# Defining Random Forest model (with best hyperparameters).\n",
    "model_ada_boost = AdaBoostClassifier(\n",
    "    DecisionTreeClassifier(max_depth=3), n_estimators=200, learning_rate=0.5, random_state=42)\n"
   ]
  },
  {
   "cell_type": "markdown",
   "metadata": {},
   "source": [
    "#### 2. Model Training"
   ]
  },
  {
   "cell_type": "code",
   "execution_count": 80,
   "metadata": {},
   "outputs": [
    {
     "data": {
      "text/html": [
       "<style>#sk-container-id-2 {color: black;background-color: white;}#sk-container-id-2 pre{padding: 0;}#sk-container-id-2 div.sk-toggleable {background-color: white;}#sk-container-id-2 label.sk-toggleable__label {cursor: pointer;display: block;width: 100%;margin-bottom: 0;padding: 0.3em;box-sizing: border-box;text-align: center;}#sk-container-id-2 label.sk-toggleable__label-arrow:before {content: \"▸\";float: left;margin-right: 0.25em;color: #696969;}#sk-container-id-2 label.sk-toggleable__label-arrow:hover:before {color: black;}#sk-container-id-2 div.sk-estimator:hover label.sk-toggleable__label-arrow:before {color: black;}#sk-container-id-2 div.sk-toggleable__content {max-height: 0;max-width: 0;overflow: hidden;text-align: left;background-color: #f0f8ff;}#sk-container-id-2 div.sk-toggleable__content pre {margin: 0.2em;color: black;border-radius: 0.25em;background-color: #f0f8ff;}#sk-container-id-2 input.sk-toggleable__control:checked~div.sk-toggleable__content {max-height: 200px;max-width: 100%;overflow: auto;}#sk-container-id-2 input.sk-toggleable__control:checked~label.sk-toggleable__label-arrow:before {content: \"▾\";}#sk-container-id-2 div.sk-estimator input.sk-toggleable__control:checked~label.sk-toggleable__label {background-color: #d4ebff;}#sk-container-id-2 div.sk-label input.sk-toggleable__control:checked~label.sk-toggleable__label {background-color: #d4ebff;}#sk-container-id-2 input.sk-hidden--visually {border: 0;clip: rect(1px 1px 1px 1px);clip: rect(1px, 1px, 1px, 1px);height: 1px;margin: -1px;overflow: hidden;padding: 0;position: absolute;width: 1px;}#sk-container-id-2 div.sk-estimator {font-family: monospace;background-color: #f0f8ff;border: 1px dotted black;border-radius: 0.25em;box-sizing: border-box;margin-bottom: 0.5em;}#sk-container-id-2 div.sk-estimator:hover {background-color: #d4ebff;}#sk-container-id-2 div.sk-parallel-item::after {content: \"\";width: 100%;border-bottom: 1px solid gray;flex-grow: 1;}#sk-container-id-2 div.sk-label:hover label.sk-toggleable__label {background-color: #d4ebff;}#sk-container-id-2 div.sk-serial::before {content: \"\";position: absolute;border-left: 1px solid gray;box-sizing: border-box;top: 0;bottom: 0;left: 50%;z-index: 0;}#sk-container-id-2 div.sk-serial {display: flex;flex-direction: column;align-items: center;background-color: white;padding-right: 0.2em;padding-left: 0.2em;position: relative;}#sk-container-id-2 div.sk-item {position: relative;z-index: 1;}#sk-container-id-2 div.sk-parallel {display: flex;align-items: stretch;justify-content: center;background-color: white;position: relative;}#sk-container-id-2 div.sk-item::before, #sk-container-id-2 div.sk-parallel-item::before {content: \"\";position: absolute;border-left: 1px solid gray;box-sizing: border-box;top: 0;bottom: 0;left: 50%;z-index: -1;}#sk-container-id-2 div.sk-parallel-item {display: flex;flex-direction: column;z-index: 1;position: relative;background-color: white;}#sk-container-id-2 div.sk-parallel-item:first-child::after {align-self: flex-end;width: 50%;}#sk-container-id-2 div.sk-parallel-item:last-child::after {align-self: flex-start;width: 50%;}#sk-container-id-2 div.sk-parallel-item:only-child::after {width: 0;}#sk-container-id-2 div.sk-dashed-wrapped {border: 1px dashed gray;margin: 0 0.4em 0.5em 0.4em;box-sizing: border-box;padding-bottom: 0.4em;background-color: white;}#sk-container-id-2 div.sk-label label {font-family: monospace;font-weight: bold;display: inline-block;line-height: 1.2em;}#sk-container-id-2 div.sk-label-container {text-align: center;}#sk-container-id-2 div.sk-container {/* jupyter's `normalize.less` sets `[hidden] { display: none; }` but bootstrap.min.css set `[hidden] { display: none !important; }` so we also need the `!important` here to be able to override the default hidden behavior on the sphinx rendered scikit-learn.org. See: https://github.com/scikit-learn/scikit-learn/issues/21755 */display: inline-block !important;position: relative;}#sk-container-id-2 div.sk-text-repr-fallback {display: none;}</style><div id=\"sk-container-id-2\" class=\"sk-top-container\"><div class=\"sk-text-repr-fallback\"><pre>AdaBoostClassifier(base_estimator=DecisionTreeClassifier(max_depth=3),\n",
       "                   learning_rate=0.5, n_estimators=200, random_state=42)</pre><b>In a Jupyter environment, please rerun this cell to show the HTML representation or trust the notebook. <br />On GitHub, the HTML representation is unable to render, please try loading this page with nbviewer.org.</b></div><div class=\"sk-container\" hidden><div class=\"sk-item sk-dashed-wrapped\"><div class=\"sk-label-container\"><div class=\"sk-label sk-toggleable\"><input class=\"sk-toggleable__control sk-hidden--visually\" id=\"sk-estimator-id-9\" type=\"checkbox\" ><label for=\"sk-estimator-id-9\" class=\"sk-toggleable__label sk-toggleable__label-arrow\">AdaBoostClassifier</label><div class=\"sk-toggleable__content\"><pre>AdaBoostClassifier(base_estimator=DecisionTreeClassifier(max_depth=3),\n",
       "                   learning_rate=0.5, n_estimators=200, random_state=42)</pre></div></div></div><div class=\"sk-parallel\"><div class=\"sk-parallel-item\"><div class=\"sk-item\"><div class=\"sk-label-container\"><div class=\"sk-label sk-toggleable\"><input class=\"sk-toggleable__control sk-hidden--visually\" id=\"sk-estimator-id-10\" type=\"checkbox\" ><label for=\"sk-estimator-id-10\" class=\"sk-toggleable__label sk-toggleable__label-arrow\">base_estimator: DecisionTreeClassifier</label><div class=\"sk-toggleable__content\"><pre>DecisionTreeClassifier(max_depth=3)</pre></div></div></div><div class=\"sk-serial\"><div class=\"sk-item\"><div class=\"sk-estimator sk-toggleable\"><input class=\"sk-toggleable__control sk-hidden--visually\" id=\"sk-estimator-id-11\" type=\"checkbox\" ><label for=\"sk-estimator-id-11\" class=\"sk-toggleable__label sk-toggleable__label-arrow\">DecisionTreeClassifier</label><div class=\"sk-toggleable__content\"><pre>DecisionTreeClassifier(max_depth=3)</pre></div></div></div></div></div></div></div></div></div></div>"
      ],
      "text/plain": [
       "AdaBoostClassifier(base_estimator=DecisionTreeClassifier(max_depth=3),\n",
       "                   learning_rate=0.5, n_estimators=200, random_state=42)"
      ]
     },
     "execution_count": 80,
     "metadata": {},
     "output_type": "execute_result"
    }
   ],
   "source": [
    "model_ada_boost.fit(X_train_final, y_train)"
   ]
  },
  {
   "cell_type": "markdown",
   "metadata": {},
   "source": [
    "#### 3. Model Evaluation"
   ]
  },
  {
   "cell_type": "code",
   "execution_count": 81,
   "metadata": {},
   "outputs": [],
   "source": [
    "y_train_predict_ada_boost = model_ada_boost.predict(X_train_final)\n",
    "y_test_predict_ada_boost = model_ada_boost.predict(X_test_final)"
   ]
  },
  {
   "cell_type": "code",
   "execution_count": 82,
   "metadata": {},
   "outputs": [],
   "source": [
    "y_train_predict_proba_ada_boost = model_ada_boost.predict_proba(X_train_final)\n",
    "y_test_predict_proba_ada_boost = model_ada_boost.predict_proba(X_test_final)"
   ]
  },
  {
   "cell_type": "code",
   "execution_count": 85,
   "metadata": {},
   "outputs": [
    {
     "data": {
      "image/png": "[encoded data removed]",
      "text/plain": [
       "<Figure size 432x288 with 2 Axes>"
      ]
     },
     "metadata": {
      "needs_background": "light"
     },
     "output_type": "display_data"
    }
   ],
   "source": [
    "cm_ada = confusion_matrix(y_test, y_test_predict_ada_boost, labels=model_ada_boost.classes_)\n",
    "disp_ada = ConfusionMatrixDisplay(confusion_matrix=cm_ada,display_labels=model_ada_boost.classes_)\n",
    "\n",
    "disp_ada.plot()\n",
    "plt.show()"
   ]
  },
  {
   "cell_type": "markdown",
   "metadata": {},
   "source": [
    "Here, we can ascertain that the AdaBoost model has a predicting outcome of 143089 True Positive (0 / Accepted Loan), 7056 True Positives (1 / Rejected Loan), and a False Positive and False Negative of 1941 and 2708 respectively."
   ]
  },
  {
   "cell_type": "code",
   "execution_count": 83,
   "metadata": {},
   "outputs": [
    {
     "name": "stdout",
     "output_type": "stream",
     "text": [
      "DecisionTreeClassifier \n",
      "               precision    recall  f1-score   support\n",
      "\n",
      "           0       0.87      0.99      0.93     50000\n",
      "           1       0.98      0.80      0.88     35988\n",
      "\n",
      "    accuracy                           0.91     85988\n",
      "   macro avg       0.93      0.89      0.90     85988\n",
      "weighted avg       0.92      0.91      0.91     85988\n",
      "\n",
      "ROC AUC score train :  0.9696729623763476\n"
     ]
    }
   ],
   "source": [
    "print('DecisionTreeClassifier \\n', classification_report(y_train, y_train_predict_ada_boost))\n",
    "print('ROC AUC score train : ', roc_auc_score(y_train, y_train_predict_proba_ada_boost[:, 1]))"
   ]
  },
  {
   "cell_type": "code",
   "execution_count": 84,
   "metadata": {},
   "outputs": [
    {
     "name": "stdout",
     "output_type": "stream",
     "text": [
      "DecisionTreeClassifier \n",
      "               precision    recall  f1-score   support\n",
      "\n",
      "           0       0.99      0.98      0.98    145797\n",
      "           1       0.72      0.78      0.75      8997\n",
      "\n",
      "    accuracy                           0.97    154794\n",
      "   macro avg       0.85      0.88      0.87    154794\n",
      "weighted avg       0.97      0.97      0.97    154794\n",
      "\n",
      "ROC AUC score test :  0.9493968948128174\n"
     ]
    }
   ],
   "source": [
    "print('DecisionTreeClassifier \\n', classification_report(y_test, y_test_predict_ada_boost))\n",
    "print('ROC AUC score test : ', roc_auc_score(y_test, y_test_predict_proba_ada_boost[:, 1]))"
   ]
  },
  {
   "cell_type": "markdown",
   "metadata": {},
   "source": [
    "AdaBoost Model Test Set Overview:\n",
    "\n",
    "- Class 0 Recall is 0.98 / 98%\n",
    "- Class 1 Recall is 0.78 / 78%\n",
    "\n",
    "Summary:\n",
    "\n",
    "Class 0's recall score indicates to us that the model is 98% accurate at classifying loanees as legitimate. This means that there is little consequence of upsetting customer satisfaction by accidentally rejecting their loans.\n",
    "\n",
    "For Class 1, we have a good recall at 80%, which would indicate that our model is great at accurately classifying loanees as risky. However, there is still a 20% chance of accidentally accepting loans for risky loanees.\n",
    "\n",
    "ROC-AUC score of 97% for Train Set and 95% for Test Set. Assuming that range of 5% determines if model is fit, then we can conclude that this model is just-fit."
   ]
  },
  {
   "cell_type": "markdown",
   "metadata": {},
   "source": [
    "### d. LightGBM"
   ]
  },
  {
   "cell_type": "markdown",
   "metadata": {},
   "source": [
    "#### 1. Model Definition"
   ]
  },
  {
   "cell_type": "code",
   "execution_count": null,
   "metadata": {},
   "outputs": [],
   "source": [
    "# Grid-Search Cross Validation\n",
    "\n",
    "# Parameters to be tested.\n",
    "param_grid_lgbm = {'boosting_type' : ['gbdt', 'dart', 'goss', 'rf'], 'max_depth': [2, 3, 4, 5, 6, 7, 10], 'learning_rate': [0.01, 0.1, 0.5, 0.7, 0.9, 1],\n",
    "'num_leaves': [4, 14, 34, 64, 100], 'lambda_l1' : [2, 12, 42, 62, 100], 'max_bin' : [4, 14, 34, 64, 100], 'n_estimators': [200, 300, 500]}\n",
    "\n",
    "# Defining Model to be used.\n",
    "lgbm_gridcv = GridSearchCV(estimator=LGBMClassifier(), param_grid=param_grid_lgbm, n_jobs=-1)\n",
    "\n",
    "# Training dataset.\n",
    "lgbm_gridcv.fit(X_train_final, y_train)\n",
    "\n",
    "# Printing best hyperparameters.\n",
    "print(lgbm_gridcv.best_estimator_)\n",
    "\n",
    "# This syntax has been run outside of this notebook. Therefore, we will proceed straight to the Model Definition below."
   ]
  },
  {
   "cell_type": "code",
   "execution_count": 368,
   "metadata": {},
   "outputs": [],
   "source": [
    "# Defining LightGBM model (with best hyperparameters).\n",
    "lgbm = LGBMClassifier(boosting_type='gbdt', learning_rate= 0.1, n_estimators=300, num_leaves= 50, random_state=42)"
   ]
  },
  {
   "cell_type": "markdown",
   "metadata": {},
   "source": [
    "#### 2. Model Training"
   ]
  },
  {
   "cell_type": "code",
   "execution_count": 369,
   "metadata": {},
   "outputs": [
    {
     "data": {
      "text/html": [
       "<style>#sk-container-id-34 {color: black;background-color: white;}#sk-container-id-34 pre{padding: 0;}#sk-container-id-34 div.sk-toggleable {background-color: white;}#sk-container-id-34 label.sk-toggleable__label {cursor: pointer;display: block;width: 100%;margin-bottom: 0;padding: 0.3em;box-sizing: border-box;text-align: center;}#sk-container-id-34 label.sk-toggleable__label-arrow:before {content: \"▸\";float: left;margin-right: 0.25em;color: #696969;}#sk-container-id-34 label.sk-toggleable__label-arrow:hover:before {color: black;}#sk-container-id-34 div.sk-estimator:hover label.sk-toggleable__label-arrow:before {color: black;}#sk-container-id-34 div.sk-toggleable__content {max-height: 0;max-width: 0;overflow: hidden;text-align: left;background-color: #f0f8ff;}#sk-container-id-34 div.sk-toggleable__content pre {margin: 0.2em;color: black;border-radius: 0.25em;background-color: #f0f8ff;}#sk-container-id-34 input.sk-toggleable__control:checked~div.sk-toggleable__content {max-height: 200px;max-width: 100%;overflow: auto;}#sk-container-id-34 input.sk-toggleable__control:checked~label.sk-toggleable__label-arrow:before {content: \"▾\";}#sk-container-id-34 div.sk-estimator input.sk-toggleable__control:checked~label.sk-toggleable__label {background-color: #d4ebff;}#sk-container-id-34 div.sk-label input.sk-toggleable__control:checked~label.sk-toggleable__label {background-color: #d4ebff;}#sk-container-id-34 input.sk-hidden--visually {border: 0;clip: rect(1px 1px 1px 1px);clip: rect(1px, 1px, 1px, 1px);height: 1px;margin: -1px;overflow: hidden;padding: 0;position: absolute;width: 1px;}#sk-container-id-34 div.sk-estimator {font-family: monospace;background-color: #f0f8ff;border: 1px dotted black;border-radius: 0.25em;box-sizing: border-box;margin-bottom: 0.5em;}#sk-container-id-34 div.sk-estimator:hover {background-color: #d4ebff;}#sk-container-id-34 div.sk-parallel-item::after {content: \"\";width: 100%;border-bottom: 1px solid gray;flex-grow: 1;}#sk-container-id-34 div.sk-label:hover label.sk-toggleable__label {background-color: #d4ebff;}#sk-container-id-34 div.sk-serial::before {content: \"\";position: absolute;border-left: 1px solid gray;box-sizing: border-box;top: 0;bottom: 0;left: 50%;z-index: 0;}#sk-container-id-34 div.sk-serial {display: flex;flex-direction: column;align-items: center;background-color: white;padding-right: 0.2em;padding-left: 0.2em;position: relative;}#sk-container-id-34 div.sk-item {position: relative;z-index: 1;}#sk-container-id-34 div.sk-parallel {display: flex;align-items: stretch;justify-content: center;background-color: white;position: relative;}#sk-container-id-34 div.sk-item::before, #sk-container-id-34 div.sk-parallel-item::before {content: \"\";position: absolute;border-left: 1px solid gray;box-sizing: border-box;top: 0;bottom: 0;left: 50%;z-index: -1;}#sk-container-id-34 div.sk-parallel-item {display: flex;flex-direction: column;z-index: 1;position: relative;background-color: white;}#sk-container-id-34 div.sk-parallel-item:first-child::after {align-self: flex-end;width: 50%;}#sk-container-id-34 div.sk-parallel-item:last-child::after {align-self: flex-start;width: 50%;}#sk-container-id-34 div.sk-parallel-item:only-child::after {width: 0;}#sk-container-id-34 div.sk-dashed-wrapped {border: 1px dashed gray;margin: 0 0.4em 0.5em 0.4em;box-sizing: border-box;padding-bottom: 0.4em;background-color: white;}#sk-container-id-34 div.sk-label label {font-family: monospace;font-weight: bold;display: inline-block;line-height: 1.2em;}#sk-container-id-34 div.sk-label-container {text-align: center;}#sk-container-id-34 div.sk-container {/* jupyter's `normalize.less` sets `[hidden] { display: none; }` but bootstrap.min.css set `[hidden] { display: none !important; }` so we also need the `!important` here to be able to override the default hidden behavior on the sphinx rendered scikit-learn.org. See: https://github.com/scikit-learn/scikit-learn/issues/21755 */display: inline-block !important;position: relative;}#sk-container-id-34 div.sk-text-repr-fallback {display: none;}</style><div id=\"sk-container-id-34\" class=\"sk-top-container\"><div class=\"sk-text-repr-fallback\"><pre>LGBMClassifier(n_estimators=300, num_leaves=50, random_state=42)</pre><b>In a Jupyter environment, please rerun this cell to show the HTML representation or trust the notebook. <br />On GitHub, the HTML representation is unable to render, please try loading this page with nbviewer.org.</b></div><div class=\"sk-container\" hidden><div class=\"sk-item\"><div class=\"sk-estimator sk-toggleable\"><input class=\"sk-toggleable__control sk-hidden--visually\" id=\"sk-estimator-id-41\" type=\"checkbox\" checked><label for=\"sk-estimator-id-41\" class=\"sk-toggleable__label sk-toggleable__label-arrow\">LGBMClassifier</label><div class=\"sk-toggleable__content\"><pre>LGBMClassifier(n_estimators=300, num_leaves=50, random_state=42)</pre></div></div></div></div></div>"
      ],
      "text/plain": [
       "LGBMClassifier(n_estimators=300, num_leaves=50, random_state=42)"
      ]
     },
     "execution_count": 369,
     "metadata": {},
     "output_type": "execute_result"
    }
   ],
   "source": [
    "lgbm.fit(X_train_final, y_train)"
   ]
  },
  {
   "cell_type": "markdown",
   "metadata": {},
   "source": [
    "#### 3. Model Evaluation"
   ]
  },
  {
   "cell_type": "code",
   "execution_count": 370,
   "metadata": {},
   "outputs": [],
   "source": [
    "y_train_lgbm_prob = lgbm.predict_proba(X_train_final)\n",
    "y_test_lgbm_prob = lgbm.predict_proba(X_test_final)"
   ]
  },
  {
   "cell_type": "code",
   "execution_count": 371,
   "metadata": {},
   "outputs": [],
   "source": [
    "y_pred_train_lgbm = lgbm.predict(X_train_final)\n",
    "y_pred_test_lgbm = lgbm.predict(X_test_final)"
   ]
  },
  {
   "cell_type": "code",
   "execution_count": 372,
   "metadata": {},
   "outputs": [
    {
     "data": {
      "image/png": "[encoded data removed]",
      "text/plain": [
       "<Figure size 432x288 with 2 Axes>"
      ]
     },
     "metadata": {
      "needs_background": "light"
     },
     "output_type": "display_data"
    }
   ],
   "source": [
    "cm_lgbm = confusion_matrix(y_test, y_pred_test_lgbm, labels=lgbm.classes_)\n",
    "disp_lgbm = ConfusionMatrixDisplay(confusion_matrix=cm_lgbm,display_labels=lgbm.classes_)\n",
    "\n",
    "disp_lgbm.plot()\n",
    "plt.show()"
   ]
  },
  {
   "cell_type": "markdown",
   "metadata": {},
   "source": [
    "We can understand that the LightGBM model has a predicting outcome of 143248 True Positives (0 / Accepted Loan), 7159 True Negatives (1 / Rejected Loan), and a False Positive and False Negative of 1838 and 2549 respectively."
   ]
  },
  {
   "cell_type": "code",
   "execution_count": 373,
   "metadata": {},
   "outputs": [
    {
     "name": "stdout",
     "output_type": "stream",
     "text": [
      "              precision    recall  f1-score   support\n",
      "\n",
      "           0       0.91      1.00      0.95     50000\n",
      "           1       1.00      0.86      0.92     35988\n",
      "\n",
      "    accuracy                           0.94     85988\n",
      "   macro avg       0.95      0.93      0.94     85988\n",
      "weighted avg       0.94      0.94      0.94     85988\n",
      "\n",
      "Train ROC-AUC Score:  0.9916060097810381\n"
     ]
    }
   ],
   "source": [
    "print(classification_report(y_train,y_pred_train_lgbm))\n",
    "print('Train ROC-AUC Score: ', roc_auc_score(y_train, y_train_lgbm_prob[:,1]))"
   ]
  },
  {
   "cell_type": "code",
   "execution_count": 375,
   "metadata": {},
   "outputs": [
    {
     "name": "stdout",
     "output_type": "stream",
     "text": [
      "              precision    recall  f1-score   support\n",
      "\n",
      "           0       0.99      0.98      0.98    145797\n",
      "           1       0.74      0.80      0.77      8997\n",
      "\n",
      "    accuracy                           0.97    154794\n",
      "   macro avg       0.86      0.89      0.88    154794\n",
      "weighted avg       0.97      0.97      0.97    154794\n",
      "\n",
      "Test ROC-AUC Score:  0.9558180973342776\n"
     ]
    }
   ],
   "source": [
    "print(classification_report(y_test,y_pred_test_lgbm))\n",
    "print('Test ROC-AUC Score: ', roc_auc_score(y_test, y_test_lgbm_prob[:,1]))"
   ]
  },
  {
   "cell_type": "markdown",
   "metadata": {},
   "source": [
    "LightGBM Model Test Set Overview:\n",
    "\n",
    "- Class 0 Recall is 0.98 / 98%\n",
    "- Class 1 Recall is 0.80 / 80%\n",
    "\n",
    "Summary:\n",
    "\n",
    "Class 0's recall score indicates to us that the model is 99% accurate at classifying loanees as legitimate. This means that there is minimal-to-no consequence of upsetting customer satisfaction by accidentally rejecting their loans.\n",
    "\n",
    "For Class 1, we have a good recall at 78%, which would indicate that our model is better at accurately classifying loanees as risky. However, there is still a 22% chance of accidentally accepting loans for risky loanees.\n",
    "\n",
    "ROC-AUC score of 97% for Train Set and 95% for Test Set. Assuming that range of 5% determines if model is fit, then we can conclude that this model is just-fit."
   ]
  },
  {
   "cell_type": "markdown",
   "metadata": {},
   "source": [
    "### e. XGBoost"
   ]
  },
  {
   "cell_type": "markdown",
   "metadata": {},
   "source": [
    "#### 1. Model Definition"
   ]
  },
  {
   "cell_type": "code",
   "execution_count": 77,
   "metadata": {},
   "outputs": [
    {
     "name": "stdout",
     "output_type": "stream",
     "text": [
      "[10:53:37] WARNING: C:\\Windows\\Temp\\abs_557yfx631l\\croots\\recipe\\xgboost-split_1659548953302\\work\\src\\learner.cc:1115: Starting in XGBoost 1.3.0, the default evaluation metric used with the objective 'binary:logistic' was changed from 'error' to 'logloss'. Explicitly set eval_metric if you'd like to restore the old behavior.\n"
     ]
    }
   ],
   "source": [
    "model_xgboost = XGBClassifier(eta=0.9, subsample=0.5, max_depth=7, n_estimators=200, random_state=42)"
   ]
  },
  {
   "cell_type": "markdown",
   "metadata": {},
   "source": [
    "#### 2. Model Training"
   ]
  },
  {
   "cell_type": "code",
   "execution_count": null,
   "metadata": {},
   "outputs": [],
   "source": [
    "model_xgboost.fit(X_train_final, y_train)"
   ]
  },
  {
   "cell_type": "markdown",
   "metadata": {},
   "source": [
    "#### 3. Model Evaluation"
   ]
  },
  {
   "cell_type": "code",
   "execution_count": null,
   "metadata": {},
   "outputs": [],
   "source": [
    "y_train_predict_proba_xgboost = model_xgboost.predict_proba(X_train_final)\n",
    "y_test_predict_proba_xgboost = model_xgboost.predict_proba(X_test_final)"
   ]
  },
  {
   "cell_type": "code",
   "execution_count": null,
   "metadata": {},
   "outputs": [],
   "source": [
    "y_predict_train_xgboost = model_xgboost.predict(X_train_final)\n",
    "y_predict_test_xgboost = model_xgboost.predict(X_test_final)"
   ]
  },
  {
   "cell_type": "code",
   "execution_count": 87,
   "metadata": {},
   "outputs": [
    {
     "data": {
      "image/png": "[encoded data removed]",
      "text/plain": [
       "<Figure size 432x288 with 2 Axes>"
      ]
     },
     "metadata": {
      "needs_background": "light"
     },
     "output_type": "display_data"
    }
   ],
   "source": [
    "cm_xgb = confusion_matrix(y_test, y_predict_test_xgboost, labels=model_xgboost.classes_)\n",
    "disp_xgb = ConfusionMatrixDisplay(confusion_matrix=cm_xgb,display_labels=model_xgboost.classes_)\n",
    "\n",
    "disp_xgb.plot()\n",
    "plt.show()"
   ]
  },
  {
   "cell_type": "markdown",
   "metadata": {},
   "source": [
    "Here, we can ascertain that the XGBoost model has a predicting outcome of 130408 True Positive (0 / Accepted Loan), 7500 True Positives (1 / Rejected Loan), and a False Positive and False Negative of 1497 and 15389 respectively."
   ]
  },
  {
   "cell_type": "code",
   "execution_count": 88,
   "metadata": {},
   "outputs": [
    {
     "name": "stdout",
     "output_type": "stream",
     "text": [
      "ROC AUC score train :  0.9991580985328443\n",
      "ROC AUC score test :  0.9335498427412134\n",
      "========== Classification Report train ==========\n",
      "XGBoost \n",
      "               precision    recall  f1-score   support\n",
      "\n",
      "           0       0.99      0.99      0.99     50000\n",
      "           1       0.99      0.98      0.99     35988\n",
      "\n",
      "    accuracy                           0.99     85988\n",
      "   macro avg       0.99      0.99      0.99     85988\n",
      "weighted avg       0.99      0.99      0.99     85988\n",
      "\n",
      "========== Classification Report test ==========\n",
      "XGBoost \n",
      "               precision    recall  f1-score   support\n",
      "\n",
      "           0       0.99      0.89      0.94    145797\n",
      "           1       0.33      0.83      0.47      8997\n",
      "\n",
      "    accuracy                           0.89    154794\n",
      "   macro avg       0.66      0.86      0.70    154794\n",
      "weighted avg       0.95      0.89      0.91    154794\n",
      "\n"
     ]
    }
   ],
   "source": [
    "print('ROC AUC score train : ', roc_auc_score(y_train, y_train_predict_proba_xgboost[:, 1]))\n",
    "print('ROC AUC score test : ', roc_auc_score(y_test, y_test_predict_proba_xgboost[:, 1]))\n",
    "\n",
    "print('='*10, 'Classification Report train','='*10)\n",
    "print('XGBoost \\n', classification_report(y_train, y_predict_train_xgboost))\n",
    "print('='*10,'Classification Report test','='*10)\n",
    "print('XGBoost \\n', classification_report(y_test, y_predict_test_xgboost))"
   ]
  },
  {
   "cell_type": "markdown",
   "metadata": {},
   "source": [
    "XGBoost Model Test Set Overview:\n",
    "\n",
    "- Class 0 Recall is 0.89 / 89%\n",
    "- Class 1 Recall is 0.83 / 83%\n",
    "\n",
    "Summary:\n",
    "\n",
    "Class 0's recall score indicates to us that the model is 89% accurate at classifying loanees as legitimate. This means that there is decent risk of upsetting customer satisfaction by accidentally rejecting their loans.\n",
    "\n",
    "For Class 1, we have a great recall at 83%, which would indicate that our model is good at accurately classifying loanees as risky. However, there is still a 17% chance of accidentally accepting loans for risky loanees.\n",
    "\n",
    "ROC-AUC score of 99% for Train Set and 93% for Test Set. Assuming that range of 5% determines if model is fit, then we can conclude that this model is overfit."
   ]
  },
  {
   "cell_type": "markdown",
   "metadata": {},
   "source": [
    "## VII. Model Saving"
   ]
  },
  {
   "cell_type": "markdown",
   "metadata": {},
   "source": [
    "Following the evaluation reports of all our models, we could conclude that the XGBoost model is best in terms of recall. However, it is outshone by the LightGBM model in other areas, especially in the precision and fit of the model. Even if the LightGBM has 3% less Class 1 Recall, its Class 0 Recall is 9% higher, with a precision-recall/f1-score that is more balanced, and a model that is just-fit. Therefore, we will be using the LightGBM model for deployment and inference."
   ]
  },
  {
   "cell_type": "code",
   "execution_count": 89,
   "metadata": {},
   "outputs": [],
   "source": [
    "# Redefining final Pipeline, combining our preprocessing Pipeline and our best model into it.\n",
    "pipe = Pipeline(steps=[(\"preprocess\", preprocess),\n",
    "                        (\"model\", LGBMClassifier(boosting_type='gbdt', learning_rate= 0.1, n_estimators=300, num_leaves= 50, random_state=42))])"
   ]
  },
  {
   "cell_type": "code",
   "execution_count": 109,
   "metadata": {},
   "outputs": [
    {
     "data": {
      "text/html": [
       "<style>#sk-container-id-4 {color: black;background-color: white;}#sk-container-id-4 pre{padding: 0;}#sk-container-id-4 div.sk-toggleable {background-color: white;}#sk-container-id-4 label.sk-toggleable__label {cursor: pointer;display: block;width: 100%;margin-bottom: 0;padding: 0.3em;box-sizing: border-box;text-align: center;}#sk-container-id-4 label.sk-toggleable__label-arrow:before {content: \"▸\";float: left;margin-right: 0.25em;color: #696969;}#sk-container-id-4 label.sk-toggleable__label-arrow:hover:before {color: black;}#sk-container-id-4 div.sk-estimator:hover label.sk-toggleable__label-arrow:before {color: black;}#sk-container-id-4 div.sk-toggleable__content {max-height: 0;max-width: 0;overflow: hidden;text-align: left;background-color: #f0f8ff;}#sk-container-id-4 div.sk-toggleable__content pre {margin: 0.2em;color: black;border-radius: 0.25em;background-color: #f0f8ff;}#sk-container-id-4 input.sk-toggleable__control:checked~div.sk-toggleable__content {max-height: 200px;max-width: 100%;overflow: auto;}#sk-container-id-4 input.sk-toggleable__control:checked~label.sk-toggleable__label-arrow:before {content: \"▾\";}#sk-container-id-4 div.sk-estimator input.sk-toggleable__control:checked~label.sk-toggleable__label {background-color: #d4ebff;}#sk-container-id-4 div.sk-label input.sk-toggleable__control:checked~label.sk-toggleable__label {background-color: #d4ebff;}#sk-container-id-4 input.sk-hidden--visually {border: 0;clip: rect(1px 1px 1px 1px);clip: rect(1px, 1px, 1px, 1px);height: 1px;margin: -1px;overflow: hidden;padding: 0;position: absolute;width: 1px;}#sk-container-id-4 div.sk-estimator {font-family: monospace;background-color: #f0f8ff;border: 1px dotted black;border-radius: 0.25em;box-sizing: border-box;margin-bottom: 0.5em;}#sk-container-id-4 div.sk-estimator:hover {background-color: #d4ebff;}#sk-container-id-4 div.sk-parallel-item::after {content: \"\";width: 100%;border-bottom: 1px solid gray;flex-grow: 1;}#sk-container-id-4 div.sk-label:hover label.sk-toggleable__label {background-color: #d4ebff;}#sk-container-id-4 div.sk-serial::before {content: \"\";position: absolute;border-left: 1px solid gray;box-sizing: border-box;top: 0;bottom: 0;left: 50%;z-index: 0;}#sk-container-id-4 div.sk-serial {display: flex;flex-direction: column;align-items: center;background-color: white;padding-right: 0.2em;padding-left: 0.2em;position: relative;}#sk-container-id-4 div.sk-item {position: relative;z-index: 1;}#sk-container-id-4 div.sk-parallel {display: flex;align-items: stretch;justify-content: center;background-color: white;position: relative;}#sk-container-id-4 div.sk-item::before, #sk-container-id-4 div.sk-parallel-item::before {content: \"\";position: absolute;border-left: 1px solid gray;box-sizing: border-box;top: 0;bottom: 0;left: 50%;z-index: -1;}#sk-container-id-4 div.sk-parallel-item {display: flex;flex-direction: column;z-index: 1;position: relative;background-color: white;}#sk-container-id-4 div.sk-parallel-item:first-child::after {align-self: flex-end;width: 50%;}#sk-container-id-4 div.sk-parallel-item:last-child::after {align-self: flex-start;width: 50%;}#sk-container-id-4 div.sk-parallel-item:only-child::after {width: 0;}#sk-container-id-4 div.sk-dashed-wrapped {border: 1px dashed gray;margin: 0 0.4em 0.5em 0.4em;box-sizing: border-box;padding-bottom: 0.4em;background-color: white;}#sk-container-id-4 div.sk-label label {font-family: monospace;font-weight: bold;display: inline-block;line-height: 1.2em;}#sk-container-id-4 div.sk-label-container {text-align: center;}#sk-container-id-4 div.sk-container {/* jupyter's `normalize.less` sets `[hidden] { display: none; }` but bootstrap.min.css set `[hidden] { display: none !important; }` so we also need the `!important` here to be able to override the default hidden behavior on the sphinx rendered scikit-learn.org. See: https://github.com/scikit-learn/scikit-learn/issues/21755 */display: inline-block !important;position: relative;}#sk-container-id-4 div.sk-text-repr-fallback {display: none;}</style><div id=\"sk-container-id-4\" class=\"sk-top-container\"><div class=\"sk-text-repr-fallback\"><pre>Pipeline(steps=[(&#x27;preprocess&#x27;,\n",
       "                 ColumnTransformer(transformers=[(&#x27;nom&#x27;,\n",
       "                                                  Pipeline(steps=[(&#x27;nominal_encode&#x27;,\n",
       "                                                                   OneHotEncoder())]),\n",
       "                                                  array([&#x27;home_ownership&#x27;, &#x27;purpose&#x27;, &#x27;initial_list_status&#x27;], dtype=object)),\n",
       "                                                 (&#x27;num&#x27;,\n",
       "                                                  Pipeline(steps=[(&#x27;scaling&#x27;,\n",
       "                                                                   MinMaxScaler())]),\n",
       "                                                  array([&#x27;tot_cur_bal&#x27;, &#x27;total_rev_hi_lim&#x27;, &#x27;revol_util&#x27;, &#x27;inq_last_6mths&#x27;,\n",
       "       &#x27;open_acc&#x27;, &#x27;pub_rec&#x27;, &#x27;total_acc&#x27;, &#x27;...\n",
       "       &#x27;total_rec_late_fee&#x27;, &#x27;revol_bal&#x27;, &#x27;out_prncp&#x27;, &#x27;total_pymnt&#x27;,\n",
       "       &#x27;total_pymnt_inv&#x27;, &#x27;total_rec_prncp&#x27;, &#x27;total_rec_int&#x27;,\n",
       "       &#x27;out_prncp_inv&#x27;], dtype=object)),\n",
       "                                                 (&#x27;ordinal&#x27;,\n",
       "                                                  Pipeline(steps=[(&#x27;ordinal_encode&#x27;,\n",
       "                                                                   OrdinalEncoder())]),\n",
       "                                                  array([&#x27;emp_length&#x27;, &#x27;verification_status&#x27;, &#x27;grade&#x27;, &#x27;sub_grade&#x27;],\n",
       "      dtype=object))])),\n",
       "                (&#x27;model&#x27;,\n",
       "                 LGBMClassifier(n_estimators=300, num_leaves=50,\n",
       "                                random_state=42))])</pre><b>In a Jupyter environment, please rerun this cell to show the HTML representation or trust the notebook. <br />On GitHub, the HTML representation is unable to render, please try loading this page with nbviewer.org.</b></div><div class=\"sk-container\" hidden><div class=\"sk-item sk-dashed-wrapped\"><div class=\"sk-label-container\"><div class=\"sk-label sk-toggleable\"><input class=\"sk-toggleable__control sk-hidden--visually\" id=\"sk-estimator-id-21\" type=\"checkbox\" ><label for=\"sk-estimator-id-21\" class=\"sk-toggleable__label sk-toggleable__label-arrow\">Pipeline</label><div class=\"sk-toggleable__content\"><pre>Pipeline(steps=[(&#x27;preprocess&#x27;,\n",
       "                 ColumnTransformer(transformers=[(&#x27;nom&#x27;,\n",
       "                                                  Pipeline(steps=[(&#x27;nominal_encode&#x27;,\n",
       "                                                                   OneHotEncoder())]),\n",
       "                                                  array([&#x27;home_ownership&#x27;, &#x27;purpose&#x27;, &#x27;initial_list_status&#x27;], dtype=object)),\n",
       "                                                 (&#x27;num&#x27;,\n",
       "                                                  Pipeline(steps=[(&#x27;scaling&#x27;,\n",
       "                                                                   MinMaxScaler())]),\n",
       "                                                  array([&#x27;tot_cur_bal&#x27;, &#x27;total_rev_hi_lim&#x27;, &#x27;revol_util&#x27;, &#x27;inq_last_6mths&#x27;,\n",
       "       &#x27;open_acc&#x27;, &#x27;pub_rec&#x27;, &#x27;total_acc&#x27;, &#x27;...\n",
       "       &#x27;total_rec_late_fee&#x27;, &#x27;revol_bal&#x27;, &#x27;out_prncp&#x27;, &#x27;total_pymnt&#x27;,\n",
       "       &#x27;total_pymnt_inv&#x27;, &#x27;total_rec_prncp&#x27;, &#x27;total_rec_int&#x27;,\n",
       "       &#x27;out_prncp_inv&#x27;], dtype=object)),\n",
       "                                                 (&#x27;ordinal&#x27;,\n",
       "                                                  Pipeline(steps=[(&#x27;ordinal_encode&#x27;,\n",
       "                                                                   OrdinalEncoder())]),\n",
       "                                                  array([&#x27;emp_length&#x27;, &#x27;verification_status&#x27;, &#x27;grade&#x27;, &#x27;sub_grade&#x27;],\n",
       "      dtype=object))])),\n",
       "                (&#x27;model&#x27;,\n",
       "                 LGBMClassifier(n_estimators=300, num_leaves=50,\n",
       "                                random_state=42))])</pre></div></div></div><div class=\"sk-serial\"><div class=\"sk-item sk-dashed-wrapped\"><div class=\"sk-label-container\"><div class=\"sk-label sk-toggleable\"><input class=\"sk-toggleable__control sk-hidden--visually\" id=\"sk-estimator-id-22\" type=\"checkbox\" ><label for=\"sk-estimator-id-22\" class=\"sk-toggleable__label sk-toggleable__label-arrow\">preprocess: ColumnTransformer</label><div class=\"sk-toggleable__content\"><pre>ColumnTransformer(transformers=[(&#x27;nom&#x27;,\n",
       "                                 Pipeline(steps=[(&#x27;nominal_encode&#x27;,\n",
       "                                                  OneHotEncoder())]),\n",
       "                                 array([&#x27;home_ownership&#x27;, &#x27;purpose&#x27;, &#x27;initial_list_status&#x27;], dtype=object)),\n",
       "                                (&#x27;num&#x27;,\n",
       "                                 Pipeline(steps=[(&#x27;scaling&#x27;, MinMaxScaler())]),\n",
       "                                 array([&#x27;tot_cur_bal&#x27;, &#x27;total_rev_hi_lim&#x27;, &#x27;revol_util&#x27;, &#x27;inq_last_6mths&#x27;,\n",
       "       &#x27;open_acc&#x27;, &#x27;pub_rec&#x27;, &#x27;total_acc&#x27;, &#x27;collection_recovery_fee&#x27;,\n",
       "       &#x27;last_pymnt_amnt&#x27;, &#x27;recoveries&#x27;, &#x27;term&#x27;, &#x27;int_rate&#x27;, &#x27;installment&#x27;,\n",
       "       &#x27;total_rec_late_fee&#x27;, &#x27;revol_bal&#x27;, &#x27;out_prncp&#x27;, &#x27;total_pymnt&#x27;,\n",
       "       &#x27;total_pymnt_inv&#x27;, &#x27;total_rec_prncp&#x27;, &#x27;total_rec_int&#x27;,\n",
       "       &#x27;out_prncp_inv&#x27;], dtype=object)),\n",
       "                                (&#x27;ordinal&#x27;,\n",
       "                                 Pipeline(steps=[(&#x27;ordinal_encode&#x27;,\n",
       "                                                  OrdinalEncoder())]),\n",
       "                                 array([&#x27;emp_length&#x27;, &#x27;verification_status&#x27;, &#x27;grade&#x27;, &#x27;sub_grade&#x27;],\n",
       "      dtype=object))])</pre></div></div></div><div class=\"sk-parallel\"><div class=\"sk-parallel-item\"><div class=\"sk-item\"><div class=\"sk-label-container\"><div class=\"sk-label sk-toggleable\"><input class=\"sk-toggleable__control sk-hidden--visually\" id=\"sk-estimator-id-23\" type=\"checkbox\" ><label for=\"sk-estimator-id-23\" class=\"sk-toggleable__label sk-toggleable__label-arrow\">nom</label><div class=\"sk-toggleable__content\"><pre>[&#x27;home_ownership&#x27; &#x27;purpose&#x27; &#x27;initial_list_status&#x27;]</pre></div></div></div><div class=\"sk-serial\"><div class=\"sk-item\"><div class=\"sk-serial\"><div class=\"sk-item\"><div class=\"sk-estimator sk-toggleable\"><input class=\"sk-toggleable__control sk-hidden--visually\" id=\"sk-estimator-id-24\" type=\"checkbox\" ><label for=\"sk-estimator-id-24\" class=\"sk-toggleable__label sk-toggleable__label-arrow\">OneHotEncoder</label><div class=\"sk-toggleable__content\"><pre>OneHotEncoder()</pre></div></div></div></div></div></div></div></div><div class=\"sk-parallel-item\"><div class=\"sk-item\"><div class=\"sk-label-container\"><div class=\"sk-label sk-toggleable\"><input class=\"sk-toggleable__control sk-hidden--visually\" id=\"sk-estimator-id-25\" type=\"checkbox\" ><label for=\"sk-estimator-id-25\" class=\"sk-toggleable__label sk-toggleable__label-arrow\">num</label><div class=\"sk-toggleable__content\"><pre>[&#x27;tot_cur_bal&#x27; &#x27;total_rev_hi_lim&#x27; &#x27;revol_util&#x27; &#x27;inq_last_6mths&#x27; &#x27;open_acc&#x27;\n",
       " &#x27;pub_rec&#x27; &#x27;total_acc&#x27; &#x27;collection_recovery_fee&#x27; &#x27;last_pymnt_amnt&#x27;\n",
       " &#x27;recoveries&#x27; &#x27;term&#x27; &#x27;int_rate&#x27; &#x27;installment&#x27; &#x27;total_rec_late_fee&#x27;\n",
       " &#x27;revol_bal&#x27; &#x27;out_prncp&#x27; &#x27;total_pymnt&#x27; &#x27;total_pymnt_inv&#x27; &#x27;total_rec_prncp&#x27;\n",
       " &#x27;total_rec_int&#x27; &#x27;out_prncp_inv&#x27;]</pre></div></div></div><div class=\"sk-serial\"><div class=\"sk-item\"><div class=\"sk-serial\"><div class=\"sk-item\"><div class=\"sk-estimator sk-toggleable\"><input class=\"sk-toggleable__control sk-hidden--visually\" id=\"sk-estimator-id-26\" type=\"checkbox\" ><label for=\"sk-estimator-id-26\" class=\"sk-toggleable__label sk-toggleable__label-arrow\">MinMaxScaler</label><div class=\"sk-toggleable__content\"><pre>MinMaxScaler()</pre></div></div></div></div></div></div></div></div><div class=\"sk-parallel-item\"><div class=\"sk-item\"><div class=\"sk-label-container\"><div class=\"sk-label sk-toggleable\"><input class=\"sk-toggleable__control sk-hidden--visually\" id=\"sk-estimator-id-27\" type=\"checkbox\" ><label for=\"sk-estimator-id-27\" class=\"sk-toggleable__label sk-toggleable__label-arrow\">ordinal</label><div class=\"sk-toggleable__content\"><pre>[&#x27;emp_length&#x27; &#x27;verification_status&#x27; &#x27;grade&#x27; &#x27;sub_grade&#x27;]</pre></div></div></div><div class=\"sk-serial\"><div class=\"sk-item\"><div class=\"sk-serial\"><div class=\"sk-item\"><div class=\"sk-estimator sk-toggleable\"><input class=\"sk-toggleable__control sk-hidden--visually\" id=\"sk-estimator-id-28\" type=\"checkbox\" ><label for=\"sk-estimator-id-28\" class=\"sk-toggleable__label sk-toggleable__label-arrow\">OrdinalEncoder</label><div class=\"sk-toggleable__content\"><pre>OrdinalEncoder()</pre></div></div></div></div></div></div></div></div></div></div><div class=\"sk-item\"><div class=\"sk-estimator sk-toggleable\"><input class=\"sk-toggleable__control sk-hidden--visually\" id=\"sk-estimator-id-29\" type=\"checkbox\" ><label for=\"sk-estimator-id-29\" class=\"sk-toggleable__label sk-toggleable__label-arrow\">LGBMClassifier</label><div class=\"sk-toggleable__content\"><pre>LGBMClassifier(n_estimators=300, num_leaves=50, random_state=42)</pre></div></div></div></div></div></div></div>"
      ],
      "text/plain": [
       "Pipeline(steps=[('preprocess',\n",
       "                 ColumnTransformer(transformers=[('nom',\n",
       "                                                  Pipeline(steps=[('nominal_encode',\n",
       "                                                                   OneHotEncoder())]),\n",
       "                                                  array(['home_ownership', 'purpose', 'initial_list_status'], dtype=object)),\n",
       "                                                 ('num',\n",
       "                                                  Pipeline(steps=[('scaling',\n",
       "                                                                   MinMaxScaler())]),\n",
       "                                                  array(['tot_cur_bal', 'total_rev_hi_lim', 'revol_util', 'inq_last_6mths',\n",
       "       'open_acc', 'pub_rec', 'total_acc', '...\n",
       "       'total_rec_late_fee', 'revol_bal', 'out_prncp', 'total_pymnt',\n",
       "       'total_pymnt_inv', 'total_rec_prncp', 'total_rec_int',\n",
       "       'out_prncp_inv'], dtype=object)),\n",
       "                                                 ('ordinal',\n",
       "                                                  Pipeline(steps=[('ordinal_encode',\n",
       "                                                                   OrdinalEncoder())]),\n",
       "                                                  array(['emp_length', 'verification_status', 'grade', 'sub_grade'],\n",
       "      dtype=object))])),\n",
       "                ('model',\n",
       "                 LGBMClassifier(n_estimators=300, num_leaves=50,\n",
       "                                random_state=42))])"
      ]
     },
     "execution_count": 109,
     "metadata": {},
     "output_type": "execute_result"
    }
   ],
   "source": [
    "# Training / Fitting our Pipeline to the final Train dataframe for use during deployment. \n",
    "pipe.fit(X_train_pipe_final, y_train)"
   ]
  },
  {
   "cell_type": "code",
   "execution_count": null,
   "metadata": {},
   "outputs": [],
   "source": [
    "# Saving our Preprocessing and Model Pipeline for use in deployment.\n",
    "pickle.dump(pipe, open('finpro_preproc_model.pkl', 'wb'))"
   ]
  },
  {
   "cell_type": "markdown",
   "metadata": {},
   "source": [
    "## VIII. Model Inference"
   ]
  },
  {
   "cell_type": "code",
   "execution_count": 115,
   "metadata": {},
   "outputs": [],
   "source": [
    "inf = {'tot_coll_amt':[4980,11685,6922,12969,15063], \n",
    "        'tot_cur_bal':[10000,57134,86813,8900,43197],\n",
    "        'total_rev_hi_lim':[139434,237148,407142,67911,50065],\n",
    "        'emp_length':[\"5 years\",\"1 year\",\"10+ years\",\"6 years\",\"< 1 year\"], \n",
    "        'revol_util':[80,56,12,86,146], \n",
    "        'delinq_2yrs':[20,16,18,8,9],\n",
    "        'inq_last_6mths':[19,7,5,12,11], \n",
    "        'open_acc':[3,5,7,12,32],\n",
    "        'pub_rec':[23,12,6,30,33], \n",
    "        'total_acc':[122,55,75,97,78],\n",
    "        'acc_now_delinq':[3,0,5,13,10], \n",
    "        'collection_recovery_fee':[32,31,16,123,78], \n",
    "        'application_type':[\"JOINT\",\"JOINT\",\"INDIVIDUAL\",\"INDIVIDUAL\",\"JOINT\"],\n",
    "        'last_pymnt_amnt':[7624,8313,8613,1612,697], \n",
    "        'recoveries':[100,62,76,66,40], \n",
    "        'pymnt_plan':[\"n\",\"n\",\"y\",\"n\",\"y\"], \n",
    "        'loan_amnt':[6232,5713,43211,20173,32000],\n",
    "        'funded_amnt':[6000,7500,10500,65000,43000], \n",
    "        'funded_amnt_inv':[34244,41212,10673,23211,14500], \n",
    "        'term':[36, 60, 60, 60, 36],\n",
    "        'int_rate':[11,21,14,9,33], \n",
    "        'installment':[33,868,642,331,86], \n",
    "        'grade':[\"C\",\"A\",\"D\",\"G\",\"B\"],\n",
    "        'sub_grade':[\"C2\",\"A1\",\"D4\",\"G3\",\"B5\"],\n",
    "        'home_ownership':['OWN','RENT','MORTGAGE','RENT','OWN'], \n",
    "        'verification_status':['Source Verified','Not Verified','Verified','Verified','Not Verified'],\n",
    "        'total_rec_late_fee':[86,54,67,41,57], \n",
    "        'purpose':[\"car\",\"credit_card\",\"house\",\"renewable_energy\",\"vacation\"], \n",
    "        'revol_bal':[3251,8621,1331,2323,4321],\n",
    "        'initial_list_status':[\"f\",\"f\",\"w\",\"f\",\"f\"], \n",
    "        'out_prncp':[12412,2384,4523,12324,7862], \n",
    "        'total_pymnt':[1008,6733,2313,2651,5272],\n",
    "        'total_pymnt_inv':[4863,3003,2351,5723,6231],\n",
    "        'total_rec_prncp':[4242,7183,6183,1523,2100], \n",
    "        'total_rec_int':[325,513,321,123,595],\n",
    "        'out_prncp_inv':[1414,7168,6537,5371,546], \n",
    "        'loan_status':[0,1,1,0,0]\n",
    "}"
   ]
  },
  {
   "cell_type": "code",
   "execution_count": 116,
   "metadata": {},
   "outputs": [
    {
     "data": {
      "text/html": [
       "<div>\n",
       "<style scoped>\n",
       "    .dataframe tbody tr th:only-of-type {\n",
       "        vertical-align: middle;\n",
       "    }\n",
       "\n",
       "    .dataframe tbody tr th {\n",
       "        vertical-align: top;\n",
       "    }\n",
       "\n",
       "    .dataframe thead th {\n",
       "        text-align: right;\n",
       "    }\n",
       "</style>\n",
       "<table border=\"1\" class=\"dataframe\">\n",
       "  <thead>\n",
       "    <tr style=\"text-align: right;\">\n",
       "      <th></th>\n",
       "      <th>tot_coll_amt</th>\n",
       "      <th>tot_cur_bal</th>\n",
       "      <th>total_rev_hi_lim</th>\n",
       "      <th>emp_length</th>\n",
       "      <th>revol_util</th>\n",
       "      <th>delinq_2yrs</th>\n",
       "      <th>inq_last_6mths</th>\n",
       "      <th>open_acc</th>\n",
       "      <th>pub_rec</th>\n",
       "      <th>total_acc</th>\n",
       "      <th>...</th>\n",
       "      <th>purpose</th>\n",
       "      <th>revol_bal</th>\n",
       "      <th>initial_list_status</th>\n",
       "      <th>out_prncp</th>\n",
       "      <th>total_pymnt</th>\n",
       "      <th>total_pymnt_inv</th>\n",
       "      <th>total_rec_prncp</th>\n",
       "      <th>total_rec_int</th>\n",
       "      <th>out_prncp_inv</th>\n",
       "      <th>loan_status</th>\n",
       "    </tr>\n",
       "  </thead>\n",
       "  <tbody>\n",
       "    <tr>\n",
       "      <th>0</th>\n",
       "      <td>4980</td>\n",
       "      <td>10000</td>\n",
       "      <td>139434</td>\n",
       "      <td>5 years</td>\n",
       "      <td>80</td>\n",
       "      <td>20</td>\n",
       "      <td>19</td>\n",
       "      <td>3</td>\n",
       "      <td>23</td>\n",
       "      <td>122</td>\n",
       "      <td>...</td>\n",
       "      <td>car</td>\n",
       "      <td>3251</td>\n",
       "      <td>f</td>\n",
       "      <td>12412</td>\n",
       "      <td>1008</td>\n",
       "      <td>4863</td>\n",
       "      <td>4242</td>\n",
       "      <td>325</td>\n",
       "      <td>1414</td>\n",
       "      <td>0</td>\n",
       "    </tr>\n",
       "    <tr>\n",
       "      <th>1</th>\n",
       "      <td>11685</td>\n",
       "      <td>57134</td>\n",
       "      <td>237148</td>\n",
       "      <td>1 year</td>\n",
       "      <td>56</td>\n",
       "      <td>16</td>\n",
       "      <td>7</td>\n",
       "      <td>5</td>\n",
       "      <td>12</td>\n",
       "      <td>55</td>\n",
       "      <td>...</td>\n",
       "      <td>credit_card</td>\n",
       "      <td>8621</td>\n",
       "      <td>f</td>\n",
       "      <td>2384</td>\n",
       "      <td>6733</td>\n",
       "      <td>3003</td>\n",
       "      <td>7183</td>\n",
       "      <td>513</td>\n",
       "      <td>7168</td>\n",
       "      <td>1</td>\n",
       "    </tr>\n",
       "    <tr>\n",
       "      <th>2</th>\n",
       "      <td>6922</td>\n",
       "      <td>86813</td>\n",
       "      <td>407142</td>\n",
       "      <td>10+ years</td>\n",
       "      <td>12</td>\n",
       "      <td>18</td>\n",
       "      <td>5</td>\n",
       "      <td>7</td>\n",
       "      <td>6</td>\n",
       "      <td>75</td>\n",
       "      <td>...</td>\n",
       "      <td>house</td>\n",
       "      <td>1331</td>\n",
       "      <td>w</td>\n",
       "      <td>4523</td>\n",
       "      <td>2313</td>\n",
       "      <td>2351</td>\n",
       "      <td>6183</td>\n",
       "      <td>321</td>\n",
       "      <td>6537</td>\n",
       "      <td>1</td>\n",
       "    </tr>\n",
       "    <tr>\n",
       "      <th>3</th>\n",
       "      <td>12969</td>\n",
       "      <td>8900</td>\n",
       "      <td>67911</td>\n",
       "      <td>6 years</td>\n",
       "      <td>86</td>\n",
       "      <td>8</td>\n",
       "      <td>12</td>\n",
       "      <td>12</td>\n",
       "      <td>30</td>\n",
       "      <td>97</td>\n",
       "      <td>...</td>\n",
       "      <td>renewable_energy</td>\n",
       "      <td>2323</td>\n",
       "      <td>f</td>\n",
       "      <td>12324</td>\n",
       "      <td>2651</td>\n",
       "      <td>5723</td>\n",
       "      <td>1523</td>\n",
       "      <td>123</td>\n",
       "      <td>5371</td>\n",
       "      <td>0</td>\n",
       "    </tr>\n",
       "    <tr>\n",
       "      <th>4</th>\n",
       "      <td>15063</td>\n",
       "      <td>43197</td>\n",
       "      <td>50065</td>\n",
       "      <td>&lt; 1 year</td>\n",
       "      <td>146</td>\n",
       "      <td>9</td>\n",
       "      <td>11</td>\n",
       "      <td>32</td>\n",
       "      <td>33</td>\n",
       "      <td>78</td>\n",
       "      <td>...</td>\n",
       "      <td>vacation</td>\n",
       "      <td>4321</td>\n",
       "      <td>f</td>\n",
       "      <td>7862</td>\n",
       "      <td>5272</td>\n",
       "      <td>6231</td>\n",
       "      <td>2100</td>\n",
       "      <td>595</td>\n",
       "      <td>546</td>\n",
       "      <td>0</td>\n",
       "    </tr>\n",
       "  </tbody>\n",
       "</table>\n",
       "<p>5 rows × 37 columns</p>\n",
       "</div>"
      ],
      "text/plain": [
       "   tot_coll_amt  tot_cur_bal  total_rev_hi_lim emp_length  revol_util  \\\n",
       "0          4980        10000            139434    5 years          80   \n",
       "1         11685        57134            237148     1 year          56   \n",
       "2          6922        86813            407142  10+ years          12   \n",
       "3         12969         8900             67911    6 years          86   \n",
       "4         15063        43197             50065   < 1 year         146   \n",
       "\n",
       "   delinq_2yrs  inq_last_6mths  open_acc  pub_rec  total_acc  ...  \\\n",
       "0           20              19         3       23        122  ...   \n",
       "1           16               7         5       12         55  ...   \n",
       "2           18               5         7        6         75  ...   \n",
       "3            8              12        12       30         97  ...   \n",
       "4            9              11        32       33         78  ...   \n",
       "\n",
       "            purpose  revol_bal initial_list_status  out_prncp  total_pymnt  \\\n",
       "0               car       3251                   f      12412         1008   \n",
       "1       credit_card       8621                   f       2384         6733   \n",
       "2             house       1331                   w       4523         2313   \n",
       "3  renewable_energy       2323                   f      12324         2651   \n",
       "4          vacation       4321                   f       7862         5272   \n",
       "\n",
       "  total_pymnt_inv  total_rec_prncp  total_rec_int  out_prncp_inv  loan_status  \n",
       "0            4863             4242            325           1414            0  \n",
       "1            3003             7183            513           7168            1  \n",
       "2            2351             6183            321           6537            1  \n",
       "3            5723             1523            123           5371            0  \n",
       "4            6231             2100            595            546            0  \n",
       "\n",
       "[5 rows x 37 columns]"
      ]
     },
     "execution_count": 116,
     "metadata": {},
     "output_type": "execute_result"
    }
   ],
   "source": [
    "df_inf = pd.DataFrame.from_dict(inf)\n",
    "df_inf"
   ]
  },
  {
   "cell_type": "code",
   "execution_count": 118,
   "metadata": {},
   "outputs": [
    {
     "data": {
      "text/html": [
       "<div>\n",
       "<style scoped>\n",
       "    .dataframe tbody tr th:only-of-type {\n",
       "        vertical-align: middle;\n",
       "    }\n",
       "\n",
       "    .dataframe tbody tr th {\n",
       "        vertical-align: top;\n",
       "    }\n",
       "\n",
       "    .dataframe thead th {\n",
       "        text-align: right;\n",
       "    }\n",
       "</style>\n",
       "<table border=\"1\" class=\"dataframe\">\n",
       "  <thead>\n",
       "    <tr style=\"text-align: right;\">\n",
       "      <th></th>\n",
       "      <th>tot_coll_amt</th>\n",
       "      <th>tot_cur_bal</th>\n",
       "      <th>total_rev_hi_lim</th>\n",
       "      <th>emp_length</th>\n",
       "      <th>revol_util</th>\n",
       "      <th>delinq_2yrs</th>\n",
       "      <th>inq_last_6mths</th>\n",
       "      <th>open_acc</th>\n",
       "      <th>pub_rec</th>\n",
       "      <th>total_acc</th>\n",
       "      <th>...</th>\n",
       "      <th>revol_bal</th>\n",
       "      <th>initial_list_status</th>\n",
       "      <th>out_prncp</th>\n",
       "      <th>total_pymnt</th>\n",
       "      <th>total_pymnt_inv</th>\n",
       "      <th>total_rec_prncp</th>\n",
       "      <th>total_rec_int</th>\n",
       "      <th>out_prncp_inv</th>\n",
       "      <th>loan_status</th>\n",
       "      <th>loan_status_pred</th>\n",
       "    </tr>\n",
       "  </thead>\n",
       "  <tbody>\n",
       "    <tr>\n",
       "      <th>0</th>\n",
       "      <td>4980</td>\n",
       "      <td>10000</td>\n",
       "      <td>139434</td>\n",
       "      <td>5 years</td>\n",
       "      <td>80</td>\n",
       "      <td>20</td>\n",
       "      <td>19</td>\n",
       "      <td>3</td>\n",
       "      <td>23</td>\n",
       "      <td>122</td>\n",
       "      <td>...</td>\n",
       "      <td>3251</td>\n",
       "      <td>f</td>\n",
       "      <td>12412</td>\n",
       "      <td>1008</td>\n",
       "      <td>4863</td>\n",
       "      <td>4242</td>\n",
       "      <td>325</td>\n",
       "      <td>1414</td>\n",
       "      <td>0</td>\n",
       "      <td>1</td>\n",
       "    </tr>\n",
       "    <tr>\n",
       "      <th>1</th>\n",
       "      <td>11685</td>\n",
       "      <td>57134</td>\n",
       "      <td>237148</td>\n",
       "      <td>1 year</td>\n",
       "      <td>56</td>\n",
       "      <td>16</td>\n",
       "      <td>7</td>\n",
       "      <td>5</td>\n",
       "      <td>12</td>\n",
       "      <td>55</td>\n",
       "      <td>...</td>\n",
       "      <td>8621</td>\n",
       "      <td>f</td>\n",
       "      <td>2384</td>\n",
       "      <td>6733</td>\n",
       "      <td>3003</td>\n",
       "      <td>7183</td>\n",
       "      <td>513</td>\n",
       "      <td>7168</td>\n",
       "      <td>1</td>\n",
       "      <td>1</td>\n",
       "    </tr>\n",
       "    <tr>\n",
       "      <th>2</th>\n",
       "      <td>6922</td>\n",
       "      <td>86813</td>\n",
       "      <td>407142</td>\n",
       "      <td>10+ years</td>\n",
       "      <td>12</td>\n",
       "      <td>18</td>\n",
       "      <td>5</td>\n",
       "      <td>7</td>\n",
       "      <td>6</td>\n",
       "      <td>75</td>\n",
       "      <td>...</td>\n",
       "      <td>1331</td>\n",
       "      <td>w</td>\n",
       "      <td>4523</td>\n",
       "      <td>2313</td>\n",
       "      <td>2351</td>\n",
       "      <td>6183</td>\n",
       "      <td>321</td>\n",
       "      <td>6537</td>\n",
       "      <td>1</td>\n",
       "      <td>1</td>\n",
       "    </tr>\n",
       "    <tr>\n",
       "      <th>3</th>\n",
       "      <td>12969</td>\n",
       "      <td>8900</td>\n",
       "      <td>67911</td>\n",
       "      <td>6 years</td>\n",
       "      <td>86</td>\n",
       "      <td>8</td>\n",
       "      <td>12</td>\n",
       "      <td>12</td>\n",
       "      <td>30</td>\n",
       "      <td>97</td>\n",
       "      <td>...</td>\n",
       "      <td>2323</td>\n",
       "      <td>f</td>\n",
       "      <td>12324</td>\n",
       "      <td>2651</td>\n",
       "      <td>5723</td>\n",
       "      <td>1523</td>\n",
       "      <td>123</td>\n",
       "      <td>5371</td>\n",
       "      <td>0</td>\n",
       "      <td>1</td>\n",
       "    </tr>\n",
       "    <tr>\n",
       "      <th>4</th>\n",
       "      <td>15063</td>\n",
       "      <td>43197</td>\n",
       "      <td>50065</td>\n",
       "      <td>&lt; 1 year</td>\n",
       "      <td>146</td>\n",
       "      <td>9</td>\n",
       "      <td>11</td>\n",
       "      <td>32</td>\n",
       "      <td>33</td>\n",
       "      <td>78</td>\n",
       "      <td>...</td>\n",
       "      <td>4321</td>\n",
       "      <td>f</td>\n",
       "      <td>7862</td>\n",
       "      <td>5272</td>\n",
       "      <td>6231</td>\n",
       "      <td>2100</td>\n",
       "      <td>595</td>\n",
       "      <td>546</td>\n",
       "      <td>0</td>\n",
       "      <td>1</td>\n",
       "    </tr>\n",
       "  </tbody>\n",
       "</table>\n",
       "<p>5 rows × 38 columns</p>\n",
       "</div>"
      ],
      "text/plain": [
       "   tot_coll_amt  tot_cur_bal  total_rev_hi_lim emp_length  revol_util  \\\n",
       "0          4980        10000            139434    5 years          80   \n",
       "1         11685        57134            237148     1 year          56   \n",
       "2          6922        86813            407142  10+ years          12   \n",
       "3         12969         8900             67911    6 years          86   \n",
       "4         15063        43197             50065   < 1 year         146   \n",
       "\n",
       "   delinq_2yrs  inq_last_6mths  open_acc  pub_rec  total_acc  ...  revol_bal  \\\n",
       "0           20              19         3       23        122  ...       3251   \n",
       "1           16               7         5       12         55  ...       8621   \n",
       "2           18               5         7        6         75  ...       1331   \n",
       "3            8              12        12       30         97  ...       2323   \n",
       "4            9              11        32       33         78  ...       4321   \n",
       "\n",
       "   initial_list_status out_prncp  total_pymnt  total_pymnt_inv  \\\n",
       "0                    f     12412         1008             4863   \n",
       "1                    f      2384         6733             3003   \n",
       "2                    w      4523         2313             2351   \n",
       "3                    f     12324         2651             5723   \n",
       "4                    f      7862         5272             6231   \n",
       "\n",
       "  total_rec_prncp  total_rec_int  out_prncp_inv  loan_status  loan_status_pred  \n",
       "0            4242            325           1414            0                 1  \n",
       "1            7183            513           7168            1                 1  \n",
       "2            6183            321           6537            1                 1  \n",
       "3            1523            123           5371            0                 1  \n",
       "4            2100            595            546            0                 1  \n",
       "\n",
       "[5 rows x 38 columns]"
      ]
     },
     "execution_count": 118,
     "metadata": {},
     "output_type": "execute_result"
    }
   ],
   "source": [
    "pred_inf = pipe.predict(df_inf)\n",
    "pred_inf = pd.DataFrame(pred_inf, columns = ['loan_status_pred'])\n",
    "pd.concat([df_inf, pred_inf], axis=1)"
   ]
  },
  {
   "cell_type": "markdown",
   "metadata": {},
   "source": [
    "## IX. Conclusion"
   ]
  },
  {
   "cell_type": "markdown",
   "metadata": {},
   "source": [
    "To recall, the objective of this notebook is to create a Machine Learning model that can determine whether a prospective loanee is eligible or not to be given a loan, based on their financial background and historical transactions. As a summary, we are looking to avoid two problems, and using Recall to evaluate the degree in which our model could minimize those problems. With that, we arrive at these interpretations:\n",
    "\n",
    "- Recall Class 0 = The closer it is to 100%, the more accurate our model is in detecting legitimate loanees; or there is less tendency for our model to accidentally REJECT a loan when in fact we should be ACCEPTING it.\n",
    "\n",
    "- Recall Class 1 = The closer it is to 100%, the more accurate our model is in detecting risky loanees; or there is less tendency for our model to accidentally ACCEPT a loan when in fact we should be REJECTING it.\n",
    "\n",
    "To conclude, all our models have high recalls for Class 0, with most above 97%, and one at 89%. For Class 1 recalls, all our model sits fairly at between 76 - 83%. \n",
    "\n",
    "Random Forest Model:\n",
    "\n",
    "- Class 0 Recall is 0.99 / 99%\n",
    "- Class 1 Recall is 0.76 / 76%\n",
    "- Model is just-fit\n",
    "\n",
    "Decision Tree Model:\n",
    "\n",
    "- Class 0 Recall is 0.98 / 98%\n",
    "- Class 1 Recall is 0.76 / 76%\n",
    "- Model is just-fit\n",
    "\n",
    "AdaBoost Model:\n",
    "\n",
    "- Class 0 Recall is 0.98 / 98%\n",
    "- Class 1 Recall is 0.78 / 78%\n",
    "- Model is just-fit\n",
    "\n",
    "LightGBM Model:\n",
    "\n",
    "- Class 0 Recall is 0.98 / 98%\n",
    "- Class 1 Recall is 0.80 / 80%\n",
    "- Model is just-fit\n",
    "\n",
    "XGBoost Model:\n",
    "\n",
    "- Class 0 Recall is 0.89 / 89%\n",
    "- Class 1 Recall is 0.83 / 83%\n",
    "- Model is overfit\n",
    "\n",
    "The LightGBM model is overall the best."
   ]
  },
  {
   "cell_type": "markdown",
   "metadata": {},
   "source": [
    "## X. Further Improvement\n",
    "\n",
    "Further improvements could be done to the overall performance of our models, especially in increasing the recall of Class 1. The range of such improvements stretch far and should not be focused on the modelling alone. As such, this is the outline of some of the things that could be done to better the model:\n",
    "\n",
    "- Further data exploration\n",
    "We could persue to do even more exploration regarding the information from the dataset to help with the feature selection. In the dataset there are lots of column that has almost identical values with just a slight difference. We can observe this anomaly from the columns name. This dataset contain information of three parties which are the prospective debtor, the credit issuer, and somehow investor which we assume invested their money on the credit issuer. We also notice that the features are rarely contain payment history information but rather about the principal and the amount of credit balance also the loan amount.\n",
    "\n",
    "- More oriented feature selection\n",
    "Continuation from further data exploration, we could consider to do PCA to find out how many features hold the most information. Also trying the features that only related to payment.\n",
    "\n",
    "- Additional system tuning\n",
    "We could do additional hyperparameter tuning in order to find maximum model performance. With this three improvement combined we would be able to see other posibilities regarding our model performance."
   ]
  }
 ],
 "metadata": {
  "kernelspec": {
   "display_name": "Python 3.9.12 ('base')",
   "language": "python",
   "name": "python3"
  },
  "language_info": {
   "codemirror_mode": {
    "name": "ipython",
    "version": 3
   },
   "file_extension": ".py",
   "mimetype": "text/x-python",
   "name": "python",
   "nbconvert_exporter": "python",
   "pygments_lexer": "ipython3",
   "version": "3.9.12"
  },
  "orig_nbformat": 4,
  "vscode": {
   "interpreter": {
    "hash": "916e4c36f1c77e641c78c5aec4d67a7d0f7bb4a72f03f76476ea0be2966b92cc"
   }
  }
 },
 "nbformat": 4,
 "nbformat_minor": 2
}
